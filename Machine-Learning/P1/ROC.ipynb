{
 "cells": [
  {
   "cell_type": "code",
   "execution_count": 1,
   "metadata": {},
   "outputs": [],
   "source": [
    "import pandas as pd\n",
    "import numpy as np\n",
    "import matplotlib.pyplot as plt\n",
    "import pandas_profiling #funcion para ver missing values por variables en DF**\n",
    "import seaborn as sns\n",
    "from sklearn.preprocessing import LabelEncoder\n",
    "from sklearn.preprocessing import StandardScaler\n",
    "from sklearn import preprocessing,  svm\n",
    "from sklearn.model_selection import GridSearchCV\n",
    "from sklearn.model_selection import train_test_split,cross_val_score,cross_validate\n",
    "from sklearn.metrics import precision_score, recall_score, confusion_matrix, classification_report, accuracy_score, f1_score\n",
    "from sklearn.model_selection import KFold\n",
    "from sklearn.ensemble import RandomForestClassifier\n",
    "from sklearn.ensemble import AdaBoostClassifier\n",
    "from sklearn.metrics import roc_curve\n",
    "from sklearn.utils import resample\n",
    "from sklearn.metrics import precision_recall_curve\n",
    "from sklearn.metrics import roc_auc_score\n",
    "import mglearn\n",
    "import warnings\n",
    "import time\n",
    "warnings.filterwarnings('ignore')"
   ]
  },
  {
   "cell_type": "code",
   "execution_count": 2,
   "metadata": {},
   "outputs": [],
   "source": [
    "def missing_values_table(df): \n",
    "        mis_val = df.isnull().sum()\n",
    "        mis_val_percent = 100 * df.isnull().sum()/len(df)\n",
    "        mis_val_table = pd.concat([mis_val, mis_val_percent], axis=1)\n",
    "        mis_val_table_ren_columns = mis_val_table.rename(\n",
    "        columns = {0 : 'Missing Values', 1 : '% of Total Values'})\n",
    "        return mis_val_table_ren_columns "
   ]
  },
  {
   "cell_type": "code",
   "execution_count": 3,
   "metadata": {},
   "outputs": [],
   "source": [
    "data = pd.read_csv('seismic-bumps-2.csv')\n"
   ]
  },
  {
   "cell_type": "code",
   "execution_count": 4,
   "metadata": {},
   "outputs": [
    {
     "data": {
      "text/html": [
       "<div>\n",
       "<style scoped>\n",
       "    .dataframe tbody tr th:only-of-type {\n",
       "        vertical-align: middle;\n",
       "    }\n",
       "\n",
       "    .dataframe tbody tr th {\n",
       "        vertical-align: top;\n",
       "    }\n",
       "\n",
       "    .dataframe thead th {\n",
       "        text-align: right;\n",
       "    }\n",
       "</style>\n",
       "<table border=\"1\" class=\"dataframe\">\n",
       "  <thead>\n",
       "    <tr style=\"text-align: right;\">\n",
       "      <th></th>\n",
       "      <th>Fseismic</th>\n",
       "      <th>seismoacoustic</th>\n",
       "      <th>shift</th>\n",
       "      <th>genergy</th>\n",
       "      <th>gpuls</th>\n",
       "      <th>gdenergy</th>\n",
       "      <th>gdpuls</th>\n",
       "      <th>ghazard</th>\n",
       "      <th>nbumps</th>\n",
       "      <th>nbumps2</th>\n",
       "      <th>nbumps3</th>\n",
       "      <th>nbumps4</th>\n",
       "      <th>nbumps5</th>\n",
       "      <th>nbumps6</th>\n",
       "      <th>nbumps7</th>\n",
       "      <th>nbumps89</th>\n",
       "      <th>energy</th>\n",
       "      <th>maxenergy</th>\n",
       "      <th>class</th>\n",
       "    </tr>\n",
       "  </thead>\n",
       "  <tbody>\n",
       "    <tr>\n",
       "      <th>0</th>\n",
       "      <td>a</td>\n",
       "      <td>a</td>\n",
       "      <td>N</td>\n",
       "      <td>15180.0</td>\n",
       "      <td>48.0</td>\n",
       "      <td>-72.0</td>\n",
       "      <td>-72.0</td>\n",
       "      <td>a</td>\n",
       "      <td>0.0</td>\n",
       "      <td>0.0</td>\n",
       "      <td>0.0</td>\n",
       "      <td>0.0</td>\n",
       "      <td>0.0</td>\n",
       "      <td>0.0</td>\n",
       "      <td>0.0</td>\n",
       "      <td>0.0</td>\n",
       "      <td>0.0</td>\n",
       "      <td>0.0</td>\n",
       "      <td>0</td>\n",
       "    </tr>\n",
       "    <tr>\n",
       "      <th>1</th>\n",
       "      <td>a</td>\n",
       "      <td>a</td>\n",
       "      <td>N</td>\n",
       "      <td>14720.0</td>\n",
       "      <td>33.0</td>\n",
       "      <td>-70.0</td>\n",
       "      <td>-79.0</td>\n",
       "      <td>a</td>\n",
       "      <td>1.0</td>\n",
       "      <td>0.0</td>\n",
       "      <td>1.0</td>\n",
       "      <td>0.0</td>\n",
       "      <td>0.0</td>\n",
       "      <td>0.0</td>\n",
       "      <td>0.0</td>\n",
       "      <td>0.0</td>\n",
       "      <td>2000.0</td>\n",
       "      <td>2000.0</td>\n",
       "      <td>0</td>\n",
       "    </tr>\n",
       "    <tr>\n",
       "      <th>2</th>\n",
       "      <td>a</td>\n",
       "      <td>a</td>\n",
       "      <td>N</td>\n",
       "      <td>8050.0</td>\n",
       "      <td>30.0</td>\n",
       "      <td>-81.0</td>\n",
       "      <td>-78.0</td>\n",
       "      <td>a</td>\n",
       "      <td>0.0</td>\n",
       "      <td>0.0</td>\n",
       "      <td>0.0</td>\n",
       "      <td>0.0</td>\n",
       "      <td>0.0</td>\n",
       "      <td>0.0</td>\n",
       "      <td>0.0</td>\n",
       "      <td>0.0</td>\n",
       "      <td>0.0</td>\n",
       "      <td>0.0</td>\n",
       "      <td>0</td>\n",
       "    </tr>\n",
       "    <tr>\n",
       "      <th>3</th>\n",
       "      <td>a</td>\n",
       "      <td>a</td>\n",
       "      <td>N</td>\n",
       "      <td>28820.0</td>\n",
       "      <td>171.0</td>\n",
       "      <td>-23.0</td>\n",
       "      <td>40.0</td>\n",
       "      <td>a</td>\n",
       "      <td>1.0</td>\n",
       "      <td>0.0</td>\n",
       "      <td>1.0</td>\n",
       "      <td>0.0</td>\n",
       "      <td>0.0</td>\n",
       "      <td>0.0</td>\n",
       "      <td>0.0</td>\n",
       "      <td>0.0</td>\n",
       "      <td>3000.0</td>\n",
       "      <td>3000.0</td>\n",
       "      <td>0</td>\n",
       "    </tr>\n",
       "    <tr>\n",
       "      <th>4</th>\n",
       "      <td>a</td>\n",
       "      <td>a</td>\n",
       "      <td>N</td>\n",
       "      <td>12640.0</td>\n",
       "      <td>57.0</td>\n",
       "      <td>-63.0</td>\n",
       "      <td>-52.0</td>\n",
       "      <td>a</td>\n",
       "      <td>0.0</td>\n",
       "      <td>0.0</td>\n",
       "      <td>0.0</td>\n",
       "      <td>0.0</td>\n",
       "      <td>0.0</td>\n",
       "      <td>0.0</td>\n",
       "      <td>0.0</td>\n",
       "      <td>0.0</td>\n",
       "      <td>0.0</td>\n",
       "      <td>0.0</td>\n",
       "      <td>0</td>\n",
       "    </tr>\n",
       "  </tbody>\n",
       "</table>\n",
       "</div>"
      ],
      "text/plain": [
       "  Fseismic seismoacoustic shift  genergy  gpuls  gdenergy  gdpuls ghazard  \\\n",
       "0        a              a     N  15180.0   48.0     -72.0   -72.0       a   \n",
       "1        a              a     N  14720.0   33.0     -70.0   -79.0       a   \n",
       "2        a              a     N   8050.0   30.0     -81.0   -78.0       a   \n",
       "3        a              a     N  28820.0  171.0     -23.0    40.0       a   \n",
       "4        a              a     N  12640.0   57.0     -63.0   -52.0       a   \n",
       "\n",
       "   nbumps  nbumps2  nbumps3  nbumps4  nbumps5  nbumps6  nbumps7  nbumps89  \\\n",
       "0     0.0      0.0      0.0      0.0      0.0      0.0      0.0       0.0   \n",
       "1     1.0      0.0      1.0      0.0      0.0      0.0      0.0       0.0   \n",
       "2     0.0      0.0      0.0      0.0      0.0      0.0      0.0       0.0   \n",
       "3     1.0      0.0      1.0      0.0      0.0      0.0      0.0       0.0   \n",
       "4     0.0      0.0      0.0      0.0      0.0      0.0      0.0       0.0   \n",
       "\n",
       "   energy  maxenergy  class  \n",
       "0     0.0        0.0      0  \n",
       "1  2000.0     2000.0      0  \n",
       "2     0.0        0.0      0  \n",
       "3  3000.0     3000.0      0  \n",
       "4     0.0        0.0      0  "
      ]
     },
     "execution_count": 4,
     "metadata": {},
     "output_type": "execute_result"
    }
   ],
   "source": [
    "data.head()"
   ]
  },
  {
   "cell_type": "markdown",
   "metadata": {},
   "source": [
    "# Data Processing"
   ]
  },
  {
   "cell_type": "code",
   "execution_count": 5,
   "metadata": {},
   "outputs": [
    {
     "data": {
      "text/html": [
       "<div>\n",
       "<style scoped>\n",
       "    .dataframe tbody tr th:only-of-type {\n",
       "        vertical-align: middle;\n",
       "    }\n",
       "\n",
       "    .dataframe tbody tr th {\n",
       "        vertical-align: top;\n",
       "    }\n",
       "\n",
       "    .dataframe thead th {\n",
       "        text-align: right;\n",
       "    }\n",
       "</style>\n",
       "<table border=\"1\" class=\"dataframe\">\n",
       "  <thead>\n",
       "    <tr style=\"text-align: right;\">\n",
       "      <th></th>\n",
       "      <th>Missing Values</th>\n",
       "      <th>% of Total Values</th>\n",
       "    </tr>\n",
       "  </thead>\n",
       "  <tbody>\n",
       "    <tr>\n",
       "      <th>Fseismic</th>\n",
       "      <td>0</td>\n",
       "      <td>0.0</td>\n",
       "    </tr>\n",
       "    <tr>\n",
       "      <th>seismoacoustic</th>\n",
       "      <td>0</td>\n",
       "      <td>0.0</td>\n",
       "    </tr>\n",
       "    <tr>\n",
       "      <th>shift</th>\n",
       "      <td>0</td>\n",
       "      <td>0.0</td>\n",
       "    </tr>\n",
       "    <tr>\n",
       "      <th>genergy</th>\n",
       "      <td>0</td>\n",
       "      <td>0.0</td>\n",
       "    </tr>\n",
       "    <tr>\n",
       "      <th>gpuls</th>\n",
       "      <td>0</td>\n",
       "      <td>0.0</td>\n",
       "    </tr>\n",
       "    <tr>\n",
       "      <th>gdenergy</th>\n",
       "      <td>0</td>\n",
       "      <td>0.0</td>\n",
       "    </tr>\n",
       "    <tr>\n",
       "      <th>gdpuls</th>\n",
       "      <td>0</td>\n",
       "      <td>0.0</td>\n",
       "    </tr>\n",
       "    <tr>\n",
       "      <th>ghazard</th>\n",
       "      <td>0</td>\n",
       "      <td>0.0</td>\n",
       "    </tr>\n",
       "    <tr>\n",
       "      <th>nbumps</th>\n",
       "      <td>0</td>\n",
       "      <td>0.0</td>\n",
       "    </tr>\n",
       "    <tr>\n",
       "      <th>nbumps2</th>\n",
       "      <td>0</td>\n",
       "      <td>0.0</td>\n",
       "    </tr>\n",
       "    <tr>\n",
       "      <th>nbumps3</th>\n",
       "      <td>0</td>\n",
       "      <td>0.0</td>\n",
       "    </tr>\n",
       "    <tr>\n",
       "      <th>nbumps4</th>\n",
       "      <td>0</td>\n",
       "      <td>0.0</td>\n",
       "    </tr>\n",
       "    <tr>\n",
       "      <th>nbumps5</th>\n",
       "      <td>0</td>\n",
       "      <td>0.0</td>\n",
       "    </tr>\n",
       "    <tr>\n",
       "      <th>nbumps6</th>\n",
       "      <td>0</td>\n",
       "      <td>0.0</td>\n",
       "    </tr>\n",
       "    <tr>\n",
       "      <th>nbumps7</th>\n",
       "      <td>0</td>\n",
       "      <td>0.0</td>\n",
       "    </tr>\n",
       "    <tr>\n",
       "      <th>nbumps89</th>\n",
       "      <td>0</td>\n",
       "      <td>0.0</td>\n",
       "    </tr>\n",
       "    <tr>\n",
       "      <th>energy</th>\n",
       "      <td>0</td>\n",
       "      <td>0.0</td>\n",
       "    </tr>\n",
       "    <tr>\n",
       "      <th>maxenergy</th>\n",
       "      <td>0</td>\n",
       "      <td>0.0</td>\n",
       "    </tr>\n",
       "    <tr>\n",
       "      <th>class</th>\n",
       "      <td>0</td>\n",
       "      <td>0.0</td>\n",
       "    </tr>\n",
       "  </tbody>\n",
       "</table>\n",
       "</div>"
      ],
      "text/plain": [
       "                Missing Values  % of Total Values\n",
       "Fseismic                     0                0.0\n",
       "seismoacoustic               0                0.0\n",
       "shift                        0                0.0\n",
       "genergy                      0                0.0\n",
       "gpuls                        0                0.0\n",
       "gdenergy                     0                0.0\n",
       "gdpuls                       0                0.0\n",
       "ghazard                      0                0.0\n",
       "nbumps                       0                0.0\n",
       "nbumps2                      0                0.0\n",
       "nbumps3                      0                0.0\n",
       "nbumps4                      0                0.0\n",
       "nbumps5                      0                0.0\n",
       "nbumps6                      0                0.0\n",
       "nbumps7                      0                0.0\n",
       "nbumps89                     0                0.0\n",
       "energy                       0                0.0\n",
       "maxenergy                    0                0.0\n",
       "class                        0                0.0"
      ]
     },
     "execution_count": 5,
     "metadata": {},
     "output_type": "execute_result"
    }
   ],
   "source": [
    "#valores omitidos por variable\n",
    "missing_values_table(data)"
   ]
  },
  {
   "cell_type": "code",
   "execution_count": 6,
   "metadata": {},
   "outputs": [
    {
     "name": "stdout",
     "output_type": "stream",
     "text": [
      "<class 'pandas.core.frame.DataFrame'>\n",
      "RangeIndex: 2584 entries, 0 to 2583\n",
      "Data columns (total 19 columns):\n",
      "Fseismic          2584 non-null object\n",
      "seismoacoustic    2584 non-null object\n",
      "shift             2584 non-null object\n",
      "genergy           2584 non-null float64\n",
      "gpuls             2584 non-null float64\n",
      "gdenergy          2584 non-null float64\n",
      "gdpuls            2584 non-null float64\n",
      "ghazard           2584 non-null object\n",
      "nbumps            2584 non-null float64\n",
      "nbumps2           2584 non-null float64\n",
      "nbumps3           2584 non-null float64\n",
      "nbumps4           2584 non-null float64\n",
      "nbumps5           2584 non-null float64\n",
      "nbumps6           2584 non-null float64\n",
      "nbumps7           2584 non-null float64\n",
      "nbumps89          2584 non-null float64\n",
      "energy            2584 non-null float64\n",
      "maxenergy         2584 non-null float64\n",
      "class             2584 non-null int64\n",
      "dtypes: float64(14), int64(1), object(4)\n",
      "memory usage: 383.6+ KB\n"
     ]
    }
   ],
   "source": [
    "data.info()"
   ]
  },
  {
   "cell_type": "code",
   "execution_count": 7,
   "metadata": {},
   "outputs": [
    {
     "data": {
      "text/html": [
       "<div>\n",
       "<style scoped>\n",
       "    .dataframe tbody tr th:only-of-type {\n",
       "        vertical-align: middle;\n",
       "    }\n",
       "\n",
       "    .dataframe tbody tr th {\n",
       "        vertical-align: top;\n",
       "    }\n",
       "\n",
       "    .dataframe thead th {\n",
       "        text-align: right;\n",
       "    }\n",
       "</style>\n",
       "<table border=\"1\" class=\"dataframe\">\n",
       "  <thead>\n",
       "    <tr style=\"text-align: right;\">\n",
       "      <th></th>\n",
       "      <th>Fseismic</th>\n",
       "      <th>seismoacoustic</th>\n",
       "      <th>shift</th>\n",
       "      <th>genergy</th>\n",
       "      <th>gpuls</th>\n",
       "      <th>gdenergy</th>\n",
       "      <th>gdpuls</th>\n",
       "      <th>ghazard</th>\n",
       "      <th>nbumps</th>\n",
       "      <th>nbumps2</th>\n",
       "      <th>nbumps3</th>\n",
       "      <th>nbumps4</th>\n",
       "      <th>nbumps5</th>\n",
       "      <th>nbumps6</th>\n",
       "      <th>nbumps7</th>\n",
       "      <th>nbumps89</th>\n",
       "      <th>energy</th>\n",
       "      <th>maxenergy</th>\n",
       "      <th>class</th>\n",
       "    </tr>\n",
       "  </thead>\n",
       "  <tbody>\n",
       "    <tr>\n",
       "      <th>89</th>\n",
       "      <td>a</td>\n",
       "      <td>a</td>\n",
       "      <td>N</td>\n",
       "      <td>63550.0</td>\n",
       "      <td>325.0</td>\n",
       "      <td>15.0</td>\n",
       "      <td>35.0</td>\n",
       "      <td>a</td>\n",
       "      <td>0.0</td>\n",
       "      <td>0.0</td>\n",
       "      <td>0.0</td>\n",
       "      <td>0.0</td>\n",
       "      <td>0.0</td>\n",
       "      <td>0.0</td>\n",
       "      <td>0.0</td>\n",
       "      <td>0.0</td>\n",
       "      <td>0.0</td>\n",
       "      <td>0.0</td>\n",
       "      <td>0</td>\n",
       "    </tr>\n",
       "    <tr>\n",
       "      <th>90</th>\n",
       "      <td>a</td>\n",
       "      <td>a</td>\n",
       "      <td>W</td>\n",
       "      <td>194580.0</td>\n",
       "      <td>697.0</td>\n",
       "      <td>-35.0</td>\n",
       "      <td>-32.0</td>\n",
       "      <td>a</td>\n",
       "      <td>0.0</td>\n",
       "      <td>0.0</td>\n",
       "      <td>0.0</td>\n",
       "      <td>0.0</td>\n",
       "      <td>0.0</td>\n",
       "      <td>0.0</td>\n",
       "      <td>0.0</td>\n",
       "      <td>0.0</td>\n",
       "      <td>0.0</td>\n",
       "      <td>0.0</td>\n",
       "      <td>0</td>\n",
       "    </tr>\n",
       "    <tr>\n",
       "      <th>972</th>\n",
       "      <td>a</td>\n",
       "      <td>b</td>\n",
       "      <td>N</td>\n",
       "      <td>5250.0</td>\n",
       "      <td>66.0</td>\n",
       "      <td>-49.0</td>\n",
       "      <td>36.0</td>\n",
       "      <td>a</td>\n",
       "      <td>0.0</td>\n",
       "      <td>0.0</td>\n",
       "      <td>0.0</td>\n",
       "      <td>0.0</td>\n",
       "      <td>0.0</td>\n",
       "      <td>0.0</td>\n",
       "      <td>0.0</td>\n",
       "      <td>0.0</td>\n",
       "      <td>0.0</td>\n",
       "      <td>0.0</td>\n",
       "      <td>0</td>\n",
       "    </tr>\n",
       "    <tr>\n",
       "      <th>973</th>\n",
       "      <td>a</td>\n",
       "      <td>b</td>\n",
       "      <td>N</td>\n",
       "      <td>19420.0</td>\n",
       "      <td>60.0</td>\n",
       "      <td>98.0</td>\n",
       "      <td>20.0</td>\n",
       "      <td>a</td>\n",
       "      <td>0.0</td>\n",
       "      <td>0.0</td>\n",
       "      <td>0.0</td>\n",
       "      <td>0.0</td>\n",
       "      <td>0.0</td>\n",
       "      <td>0.0</td>\n",
       "      <td>0.0</td>\n",
       "      <td>0.0</td>\n",
       "      <td>0.0</td>\n",
       "      <td>0.0</td>\n",
       "      <td>0</td>\n",
       "    </tr>\n",
       "    <tr>\n",
       "      <th>1017</th>\n",
       "      <td>a</td>\n",
       "      <td>a</td>\n",
       "      <td>N</td>\n",
       "      <td>590.0</td>\n",
       "      <td>11.0</td>\n",
       "      <td>-74.0</td>\n",
       "      <td>-72.0</td>\n",
       "      <td>a</td>\n",
       "      <td>0.0</td>\n",
       "      <td>0.0</td>\n",
       "      <td>0.0</td>\n",
       "      <td>0.0</td>\n",
       "      <td>0.0</td>\n",
       "      <td>0.0</td>\n",
       "      <td>0.0</td>\n",
       "      <td>0.0</td>\n",
       "      <td>0.0</td>\n",
       "      <td>0.0</td>\n",
       "      <td>0</td>\n",
       "    </tr>\n",
       "    <tr>\n",
       "      <th>1018</th>\n",
       "      <td>a</td>\n",
       "      <td>a</td>\n",
       "      <td>N</td>\n",
       "      <td>3720.0</td>\n",
       "      <td>43.0</td>\n",
       "      <td>75.0</td>\n",
       "      <td>8.0</td>\n",
       "      <td>a</td>\n",
       "      <td>0.0</td>\n",
       "      <td>0.0</td>\n",
       "      <td>0.0</td>\n",
       "      <td>0.0</td>\n",
       "      <td>0.0</td>\n",
       "      <td>0.0</td>\n",
       "      <td>0.0</td>\n",
       "      <td>0.0</td>\n",
       "      <td>0.0</td>\n",
       "      <td>0.0</td>\n",
       "      <td>0</td>\n",
       "    </tr>\n",
       "  </tbody>\n",
       "</table>\n",
       "</div>"
      ],
      "text/plain": [
       "     Fseismic seismoacoustic shift   genergy  gpuls  gdenergy  gdpuls ghazard  \\\n",
       "89          a              a     N   63550.0  325.0      15.0    35.0       a   \n",
       "90          a              a     W  194580.0  697.0     -35.0   -32.0       a   \n",
       "972         a              b     N    5250.0   66.0     -49.0    36.0       a   \n",
       "973         a              b     N   19420.0   60.0      98.0    20.0       a   \n",
       "1017        a              a     N     590.0   11.0     -74.0   -72.0       a   \n",
       "1018        a              a     N    3720.0   43.0      75.0     8.0       a   \n",
       "\n",
       "      nbumps  nbumps2  nbumps3  nbumps4  nbumps5  nbumps6  nbumps7  nbumps89  \\\n",
       "89       0.0      0.0      0.0      0.0      0.0      0.0      0.0       0.0   \n",
       "90       0.0      0.0      0.0      0.0      0.0      0.0      0.0       0.0   \n",
       "972      0.0      0.0      0.0      0.0      0.0      0.0      0.0       0.0   \n",
       "973      0.0      0.0      0.0      0.0      0.0      0.0      0.0       0.0   \n",
       "1017     0.0      0.0      0.0      0.0      0.0      0.0      0.0       0.0   \n",
       "1018     0.0      0.0      0.0      0.0      0.0      0.0      0.0       0.0   \n",
       "\n",
       "      energy  maxenergy  class  \n",
       "89       0.0        0.0      0  \n",
       "90       0.0        0.0      0  \n",
       "972      0.0        0.0      0  \n",
       "973      0.0        0.0      0  \n",
       "1017     0.0        0.0      0  \n",
       "1018     0.0        0.0      0  "
      ]
     },
     "execution_count": 7,
     "metadata": {},
     "output_type": "execute_result"
    }
   ],
   "source": [
    "data[data.duplicated()]"
   ]
  },
  {
   "cell_type": "code",
   "execution_count": 8,
   "metadata": {},
   "outputs": [],
   "source": [
    "data_new =data.drop_duplicates()"
   ]
  },
  {
   "cell_type": "code",
   "execution_count": 9,
   "metadata": {},
   "outputs": [],
   "source": [
    "data_new = data_new.drop(['energy','nbumps6','nbumps7','nbumps89'], axis=1)"
   ]
  },
  {
   "cell_type": "markdown",
   "metadata": {},
   "source": [
    "### Desbalance de clases"
   ]
  },
  {
   "cell_type": "code",
   "execution_count": 10,
   "metadata": {},
   "outputs": [
    {
     "data": {
      "text/plain": [
       "0    2408\n",
       "1     170\n",
       "Name: class, dtype: int64"
      ]
     },
     "execution_count": 10,
     "metadata": {},
     "output_type": "execute_result"
    }
   ],
   "source": [
    "data_new['class'].value_counts()"
   ]
  },
  {
   "cell_type": "code",
   "execution_count": 11,
   "metadata": {},
   "outputs": [
    {
     "data": {
      "text/html": [
       "<div>\n",
       "<style scoped>\n",
       "    .dataframe tbody tr th:only-of-type {\n",
       "        vertical-align: middle;\n",
       "    }\n",
       "\n",
       "    .dataframe tbody tr th {\n",
       "        vertical-align: top;\n",
       "    }\n",
       "\n",
       "    .dataframe thead th {\n",
       "        text-align: right;\n",
       "    }\n",
       "</style>\n",
       "<table border=\"1\" class=\"dataframe\">\n",
       "  <thead>\n",
       "    <tr style=\"text-align: right;\">\n",
       "      <th></th>\n",
       "      <th>Fseismic</th>\n",
       "      <th>seismoacoustic</th>\n",
       "      <th>shift</th>\n",
       "      <th>genergy</th>\n",
       "      <th>gpuls</th>\n",
       "      <th>gdenergy</th>\n",
       "      <th>gdpuls</th>\n",
       "      <th>ghazard</th>\n",
       "      <th>nbumps</th>\n",
       "      <th>nbumps2</th>\n",
       "      <th>nbumps3</th>\n",
       "      <th>nbumps4</th>\n",
       "      <th>nbumps5</th>\n",
       "      <th>maxenergy</th>\n",
       "      <th>class</th>\n",
       "    </tr>\n",
       "  </thead>\n",
       "  <tbody>\n",
       "    <tr>\n",
       "      <th>0</th>\n",
       "      <td>a</td>\n",
       "      <td>a</td>\n",
       "      <td>N</td>\n",
       "      <td>15180.0</td>\n",
       "      <td>48.0</td>\n",
       "      <td>-72.0</td>\n",
       "      <td>-72.0</td>\n",
       "      <td>a</td>\n",
       "      <td>0.0</td>\n",
       "      <td>0.0</td>\n",
       "      <td>0.0</td>\n",
       "      <td>0.0</td>\n",
       "      <td>0.0</td>\n",
       "      <td>0.0</td>\n",
       "      <td>0</td>\n",
       "    </tr>\n",
       "    <tr>\n",
       "      <th>1</th>\n",
       "      <td>a</td>\n",
       "      <td>a</td>\n",
       "      <td>N</td>\n",
       "      <td>14720.0</td>\n",
       "      <td>33.0</td>\n",
       "      <td>-70.0</td>\n",
       "      <td>-79.0</td>\n",
       "      <td>a</td>\n",
       "      <td>1.0</td>\n",
       "      <td>0.0</td>\n",
       "      <td>1.0</td>\n",
       "      <td>0.0</td>\n",
       "      <td>0.0</td>\n",
       "      <td>2000.0</td>\n",
       "      <td>0</td>\n",
       "    </tr>\n",
       "    <tr>\n",
       "      <th>2</th>\n",
       "      <td>a</td>\n",
       "      <td>a</td>\n",
       "      <td>N</td>\n",
       "      <td>8050.0</td>\n",
       "      <td>30.0</td>\n",
       "      <td>-81.0</td>\n",
       "      <td>-78.0</td>\n",
       "      <td>a</td>\n",
       "      <td>0.0</td>\n",
       "      <td>0.0</td>\n",
       "      <td>0.0</td>\n",
       "      <td>0.0</td>\n",
       "      <td>0.0</td>\n",
       "      <td>0.0</td>\n",
       "      <td>0</td>\n",
       "    </tr>\n",
       "    <tr>\n",
       "      <th>3</th>\n",
       "      <td>a</td>\n",
       "      <td>a</td>\n",
       "      <td>N</td>\n",
       "      <td>28820.0</td>\n",
       "      <td>171.0</td>\n",
       "      <td>-23.0</td>\n",
       "      <td>40.0</td>\n",
       "      <td>a</td>\n",
       "      <td>1.0</td>\n",
       "      <td>0.0</td>\n",
       "      <td>1.0</td>\n",
       "      <td>0.0</td>\n",
       "      <td>0.0</td>\n",
       "      <td>3000.0</td>\n",
       "      <td>0</td>\n",
       "    </tr>\n",
       "    <tr>\n",
       "      <th>4</th>\n",
       "      <td>a</td>\n",
       "      <td>a</td>\n",
       "      <td>N</td>\n",
       "      <td>12640.0</td>\n",
       "      <td>57.0</td>\n",
       "      <td>-63.0</td>\n",
       "      <td>-52.0</td>\n",
       "      <td>a</td>\n",
       "      <td>0.0</td>\n",
       "      <td>0.0</td>\n",
       "      <td>0.0</td>\n",
       "      <td>0.0</td>\n",
       "      <td>0.0</td>\n",
       "      <td>0.0</td>\n",
       "      <td>0</td>\n",
       "    </tr>\n",
       "  </tbody>\n",
       "</table>\n",
       "</div>"
      ],
      "text/plain": [
       "  Fseismic seismoacoustic shift  genergy  gpuls  gdenergy  gdpuls ghazard  \\\n",
       "0        a              a     N  15180.0   48.0     -72.0   -72.0       a   \n",
       "1        a              a     N  14720.0   33.0     -70.0   -79.0       a   \n",
       "2        a              a     N   8050.0   30.0     -81.0   -78.0       a   \n",
       "3        a              a     N  28820.0  171.0     -23.0    40.0       a   \n",
       "4        a              a     N  12640.0   57.0     -63.0   -52.0       a   \n",
       "\n",
       "   nbumps  nbumps2  nbumps3  nbumps4  nbumps5  maxenergy  class  \n",
       "0     0.0      0.0      0.0      0.0      0.0        0.0      0  \n",
       "1     1.0      0.0      1.0      0.0      0.0     2000.0      0  \n",
       "2     0.0      0.0      0.0      0.0      0.0        0.0      0  \n",
       "3     1.0      0.0      1.0      0.0      0.0     3000.0      0  \n",
       "4     0.0      0.0      0.0      0.0      0.0        0.0      0  "
      ]
     },
     "execution_count": 11,
     "metadata": {},
     "output_type": "execute_result"
    }
   ],
   "source": [
    "data_new.head()"
   ]
  },
  {
   "cell_type": "markdown",
   "metadata": {},
   "source": [
    "# Normalizacion de Atributos"
   ]
  },
  {
   "cell_type": "code",
   "execution_count": 12,
   "metadata": {},
   "outputs": [
    {
     "data": {
      "text/html": [
       "<div>\n",
       "<style scoped>\n",
       "    .dataframe tbody tr th:only-of-type {\n",
       "        vertical-align: middle;\n",
       "    }\n",
       "\n",
       "    .dataframe tbody tr th {\n",
       "        vertical-align: top;\n",
       "    }\n",
       "\n",
       "    .dataframe thead th {\n",
       "        text-align: right;\n",
       "    }\n",
       "</style>\n",
       "<table border=\"1\" class=\"dataframe\">\n",
       "  <thead>\n",
       "    <tr style=\"text-align: right;\">\n",
       "      <th></th>\n",
       "      <th>Fseismic</th>\n",
       "      <th>seismoacoustic</th>\n",
       "      <th>shift</th>\n",
       "      <th>genergy</th>\n",
       "      <th>gpuls</th>\n",
       "      <th>gdenergy</th>\n",
       "      <th>gdpuls</th>\n",
       "      <th>ghazard</th>\n",
       "      <th>nbumps</th>\n",
       "      <th>nbumps2</th>\n",
       "      <th>nbumps3</th>\n",
       "      <th>nbumps4</th>\n",
       "      <th>nbumps5</th>\n",
       "      <th>maxenergy</th>\n",
       "    </tr>\n",
       "  </thead>\n",
       "  <tbody>\n",
       "    <tr>\n",
       "      <th>0</th>\n",
       "      <td>a</td>\n",
       "      <td>a</td>\n",
       "      <td>N</td>\n",
       "      <td>15180.0</td>\n",
       "      <td>48.0</td>\n",
       "      <td>-72.0</td>\n",
       "      <td>-72.0</td>\n",
       "      <td>a</td>\n",
       "      <td>0.0</td>\n",
       "      <td>0.0</td>\n",
       "      <td>0.0</td>\n",
       "      <td>0.0</td>\n",
       "      <td>0.0</td>\n",
       "      <td>0.0</td>\n",
       "    </tr>\n",
       "    <tr>\n",
       "      <th>1</th>\n",
       "      <td>a</td>\n",
       "      <td>a</td>\n",
       "      <td>N</td>\n",
       "      <td>14720.0</td>\n",
       "      <td>33.0</td>\n",
       "      <td>-70.0</td>\n",
       "      <td>-79.0</td>\n",
       "      <td>a</td>\n",
       "      <td>1.0</td>\n",
       "      <td>0.0</td>\n",
       "      <td>1.0</td>\n",
       "      <td>0.0</td>\n",
       "      <td>0.0</td>\n",
       "      <td>2000.0</td>\n",
       "    </tr>\n",
       "    <tr>\n",
       "      <th>2</th>\n",
       "      <td>a</td>\n",
       "      <td>a</td>\n",
       "      <td>N</td>\n",
       "      <td>8050.0</td>\n",
       "      <td>30.0</td>\n",
       "      <td>-81.0</td>\n",
       "      <td>-78.0</td>\n",
       "      <td>a</td>\n",
       "      <td>0.0</td>\n",
       "      <td>0.0</td>\n",
       "      <td>0.0</td>\n",
       "      <td>0.0</td>\n",
       "      <td>0.0</td>\n",
       "      <td>0.0</td>\n",
       "    </tr>\n",
       "    <tr>\n",
       "      <th>3</th>\n",
       "      <td>a</td>\n",
       "      <td>a</td>\n",
       "      <td>N</td>\n",
       "      <td>28820.0</td>\n",
       "      <td>171.0</td>\n",
       "      <td>-23.0</td>\n",
       "      <td>40.0</td>\n",
       "      <td>a</td>\n",
       "      <td>1.0</td>\n",
       "      <td>0.0</td>\n",
       "      <td>1.0</td>\n",
       "      <td>0.0</td>\n",
       "      <td>0.0</td>\n",
       "      <td>3000.0</td>\n",
       "    </tr>\n",
       "    <tr>\n",
       "      <th>4</th>\n",
       "      <td>a</td>\n",
       "      <td>a</td>\n",
       "      <td>N</td>\n",
       "      <td>12640.0</td>\n",
       "      <td>57.0</td>\n",
       "      <td>-63.0</td>\n",
       "      <td>-52.0</td>\n",
       "      <td>a</td>\n",
       "      <td>0.0</td>\n",
       "      <td>0.0</td>\n",
       "      <td>0.0</td>\n",
       "      <td>0.0</td>\n",
       "      <td>0.0</td>\n",
       "      <td>0.0</td>\n",
       "    </tr>\n",
       "  </tbody>\n",
       "</table>\n",
       "</div>"
      ],
      "text/plain": [
       "  Fseismic seismoacoustic shift  genergy  gpuls  gdenergy  gdpuls ghazard  \\\n",
       "0        a              a     N  15180.0   48.0     -72.0   -72.0       a   \n",
       "1        a              a     N  14720.0   33.0     -70.0   -79.0       a   \n",
       "2        a              a     N   8050.0   30.0     -81.0   -78.0       a   \n",
       "3        a              a     N  28820.0  171.0     -23.0    40.0       a   \n",
       "4        a              a     N  12640.0   57.0     -63.0   -52.0       a   \n",
       "\n",
       "   nbumps  nbumps2  nbumps3  nbumps4  nbumps5  maxenergy  \n",
       "0     0.0      0.0      0.0      0.0      0.0        0.0  \n",
       "1     1.0      0.0      1.0      0.0      0.0     2000.0  \n",
       "2     0.0      0.0      0.0      0.0      0.0        0.0  \n",
       "3     1.0      0.0      1.0      0.0      0.0     3000.0  \n",
       "4     0.0      0.0      0.0      0.0      0.0        0.0  "
      ]
     },
     "execution_count": 12,
     "metadata": {},
     "output_type": "execute_result"
    }
   ],
   "source": [
    "data_normal = data_new.copy()\n",
    "data_normal =data_normal.drop(['class'],axis =1) \n",
    "data_normal.head()"
   ]
  },
  {
   "cell_type": "code",
   "execution_count": 13,
   "metadata": {},
   "outputs": [
    {
     "data": {
      "text/plain": [
       "(2578, 14)"
      ]
     },
     "execution_count": 13,
     "metadata": {},
     "output_type": "execute_result"
    }
   ],
   "source": [
    "data_normal.shape"
   ]
  },
  {
   "cell_type": "code",
   "execution_count": 14,
   "metadata": {},
   "outputs": [],
   "source": [
    "def numerizar_var(dataset):\n",
    "    for c in dataset.columns:\n",
    "        if dataset[c].dtype == 'object':\n",
    "            lbl = preprocessing.LabelEncoder()\n",
    "            lbl.fit(list(dataset[c].values))\n",
    "            dataset[c] = lbl.transform(list(dataset[c].values))\n",
    "#data_normal.head()"
   ]
  },
  {
   "cell_type": "code",
   "execution_count": 15,
   "metadata": {},
   "outputs": [],
   "source": [
    "def normalizar_var(dataset):\n",
    "    num_cols = dataset.columns[dataset.dtypes.apply(lambda c: np.issubdtype(c, np.number))]\n",
    "    scaler = StandardScaler()\n",
    "    dataset[num_cols] = scaler.fit_transform(dataset[num_cols])\n",
    "    #data_normal.head()\n",
    "    \n"
   ]
  },
  {
   "cell_type": "code",
   "execution_count": 16,
   "metadata": {},
   "outputs": [],
   "source": [
    "def eval_modelo(modelo):\n",
    "    modelo.fit(X_train, y_train)\n",
    "    y_pred = modelo.predict(X_test)\n",
    "    print ('Train Accuracy:', accuracy_score(y_train, modelo.predict(X_train)))\n",
    "    print( 'Test Accuracy :', accuracy_score(y_test, y_pred))\n",
    "    print( 'F1 score +    :', f1_score(y_test, y_pred))\n",
    "    print( 'Recall +      :', recall_score(y_test, y_pred))\n",
    "    print('Precision +   :', precision_score(y_test, y_pred))\n",
    "    print ('\\n clasification report:\\n', classification_report(y_test, y_pred))\n",
    "    print ('\\n Matriz de Confusion:\\n',confusion_matrix(y_test, y_pred))\n"
   ]
  },
  {
   "cell_type": "code",
   "execution_count": 17,
   "metadata": {},
   "outputs": [
    {
     "data": {
      "text/html": [
       "<div>\n",
       "<style scoped>\n",
       "    .dataframe tbody tr th:only-of-type {\n",
       "        vertical-align: middle;\n",
       "    }\n",
       "\n",
       "    .dataframe tbody tr th {\n",
       "        vertical-align: top;\n",
       "    }\n",
       "\n",
       "    .dataframe thead th {\n",
       "        text-align: right;\n",
       "    }\n",
       "</style>\n",
       "<table border=\"1\" class=\"dataframe\">\n",
       "  <thead>\n",
       "    <tr style=\"text-align: right;\">\n",
       "      <th></th>\n",
       "      <th>Fseismic</th>\n",
       "      <th>seismoacoustic</th>\n",
       "      <th>shift</th>\n",
       "      <th>genergy</th>\n",
       "      <th>gpuls</th>\n",
       "      <th>gdenergy</th>\n",
       "      <th>gdpuls</th>\n",
       "      <th>ghazard</th>\n",
       "      <th>nbumps</th>\n",
       "      <th>nbumps2</th>\n",
       "      <th>nbumps3</th>\n",
       "      <th>nbumps4</th>\n",
       "      <th>nbumps5</th>\n",
       "      <th>maxenergy</th>\n",
       "    </tr>\n",
       "  </thead>\n",
       "  <tbody>\n",
       "    <tr>\n",
       "      <th>0</th>\n",
       "      <td>0</td>\n",
       "      <td>0</td>\n",
       "      <td>0</td>\n",
       "      <td>15180.0</td>\n",
       "      <td>48.0</td>\n",
       "      <td>-72.0</td>\n",
       "      <td>-72.0</td>\n",
       "      <td>0</td>\n",
       "      <td>0.0</td>\n",
       "      <td>0.0</td>\n",
       "      <td>0.0</td>\n",
       "      <td>0.0</td>\n",
       "      <td>0.0</td>\n",
       "      <td>0.0</td>\n",
       "    </tr>\n",
       "    <tr>\n",
       "      <th>1</th>\n",
       "      <td>0</td>\n",
       "      <td>0</td>\n",
       "      <td>0</td>\n",
       "      <td>14720.0</td>\n",
       "      <td>33.0</td>\n",
       "      <td>-70.0</td>\n",
       "      <td>-79.0</td>\n",
       "      <td>0</td>\n",
       "      <td>1.0</td>\n",
       "      <td>0.0</td>\n",
       "      <td>1.0</td>\n",
       "      <td>0.0</td>\n",
       "      <td>0.0</td>\n",
       "      <td>2000.0</td>\n",
       "    </tr>\n",
       "    <tr>\n",
       "      <th>2</th>\n",
       "      <td>0</td>\n",
       "      <td>0</td>\n",
       "      <td>0</td>\n",
       "      <td>8050.0</td>\n",
       "      <td>30.0</td>\n",
       "      <td>-81.0</td>\n",
       "      <td>-78.0</td>\n",
       "      <td>0</td>\n",
       "      <td>0.0</td>\n",
       "      <td>0.0</td>\n",
       "      <td>0.0</td>\n",
       "      <td>0.0</td>\n",
       "      <td>0.0</td>\n",
       "      <td>0.0</td>\n",
       "    </tr>\n",
       "    <tr>\n",
       "      <th>3</th>\n",
       "      <td>0</td>\n",
       "      <td>0</td>\n",
       "      <td>0</td>\n",
       "      <td>28820.0</td>\n",
       "      <td>171.0</td>\n",
       "      <td>-23.0</td>\n",
       "      <td>40.0</td>\n",
       "      <td>0</td>\n",
       "      <td>1.0</td>\n",
       "      <td>0.0</td>\n",
       "      <td>1.0</td>\n",
       "      <td>0.0</td>\n",
       "      <td>0.0</td>\n",
       "      <td>3000.0</td>\n",
       "    </tr>\n",
       "    <tr>\n",
       "      <th>4</th>\n",
       "      <td>0</td>\n",
       "      <td>0</td>\n",
       "      <td>0</td>\n",
       "      <td>12640.0</td>\n",
       "      <td>57.0</td>\n",
       "      <td>-63.0</td>\n",
       "      <td>-52.0</td>\n",
       "      <td>0</td>\n",
       "      <td>0.0</td>\n",
       "      <td>0.0</td>\n",
       "      <td>0.0</td>\n",
       "      <td>0.0</td>\n",
       "      <td>0.0</td>\n",
       "      <td>0.0</td>\n",
       "    </tr>\n",
       "  </tbody>\n",
       "</table>\n",
       "</div>"
      ],
      "text/plain": [
       "   Fseismic  seismoacoustic  shift  genergy  gpuls  gdenergy  gdpuls  ghazard  \\\n",
       "0         0               0      0  15180.0   48.0     -72.0   -72.0        0   \n",
       "1         0               0      0  14720.0   33.0     -70.0   -79.0        0   \n",
       "2         0               0      0   8050.0   30.0     -81.0   -78.0        0   \n",
       "3         0               0      0  28820.0  171.0     -23.0    40.0        0   \n",
       "4         0               0      0  12640.0   57.0     -63.0   -52.0        0   \n",
       "\n",
       "   nbumps  nbumps2  nbumps3  nbumps4  nbumps5  maxenergy  \n",
       "0     0.0      0.0      0.0      0.0      0.0        0.0  \n",
       "1     1.0      0.0      1.0      0.0      0.0     2000.0  \n",
       "2     0.0      0.0      0.0      0.0      0.0        0.0  \n",
       "3     1.0      0.0      1.0      0.0      0.0     3000.0  \n",
       "4     0.0      0.0      0.0      0.0      0.0        0.0  "
      ]
     },
     "execution_count": 17,
     "metadata": {},
     "output_type": "execute_result"
    }
   ],
   "source": [
    "#Numerizar Data Set\n",
    "numerizar_var(data_normal)\n",
    "data_normal.head()"
   ]
  },
  {
   "cell_type": "code",
   "execution_count": 18,
   "metadata": {},
   "outputs": [
    {
     "data": {
      "text/html": [
       "<div>\n",
       "<style scoped>\n",
       "    .dataframe tbody tr th:only-of-type {\n",
       "        vertical-align: middle;\n",
       "    }\n",
       "\n",
       "    .dataframe tbody tr th {\n",
       "        vertical-align: top;\n",
       "    }\n",
       "\n",
       "    .dataframe thead th {\n",
       "        text-align: right;\n",
       "    }\n",
       "</style>\n",
       "<table border=\"1\" class=\"dataframe\">\n",
       "  <thead>\n",
       "    <tr style=\"text-align: right;\">\n",
       "      <th></th>\n",
       "      <th>Fseismic</th>\n",
       "      <th>seismoacoustic</th>\n",
       "      <th>shift</th>\n",
       "      <th>genergy</th>\n",
       "      <th>gpuls</th>\n",
       "      <th>gdenergy</th>\n",
       "      <th>gdpuls</th>\n",
       "      <th>ghazard</th>\n",
       "      <th>nbumps</th>\n",
       "      <th>nbumps2</th>\n",
       "      <th>nbumps3</th>\n",
       "      <th>nbumps4</th>\n",
       "      <th>nbumps5</th>\n",
       "      <th>maxenergy</th>\n",
       "    </tr>\n",
       "  </thead>\n",
       "  <tbody>\n",
       "    <tr>\n",
       "      <th>0</th>\n",
       "      <td>-0.733612</td>\n",
       "      <td>-0.771582</td>\n",
       "      <td>-1.347001</td>\n",
       "      <td>-0.327658</td>\n",
       "      <td>-0.873018</td>\n",
       "      <td>-1.050484</td>\n",
       "      <td>-1.210799</td>\n",
       "      <td>-0.307603</td>\n",
       "      <td>-0.631008</td>\n",
       "      <td>-0.502985</td>\n",
       "      <td>-0.511172</td>\n",
       "      <td>-0.243035</td>\n",
       "      <td>-0.068385</td>\n",
       "      <td>-0.221357</td>\n",
       "    </tr>\n",
       "    <tr>\n",
       "      <th>1</th>\n",
       "      <td>-0.733612</td>\n",
       "      <td>-0.771582</td>\n",
       "      <td>-1.347001</td>\n",
       "      <td>-0.329663</td>\n",
       "      <td>-0.899669</td>\n",
       "      <td>-1.025589</td>\n",
       "      <td>-1.321560</td>\n",
       "      <td>-0.307603</td>\n",
       "      <td>0.101427</td>\n",
       "      <td>-0.502985</td>\n",
       "      <td>0.787155</td>\n",
       "      <td>-0.243035</td>\n",
       "      <td>-0.068385</td>\n",
       "      <td>-0.118131</td>\n",
       "    </tr>\n",
       "    <tr>\n",
       "      <th>2</th>\n",
       "      <td>-0.733612</td>\n",
       "      <td>-0.771582</td>\n",
       "      <td>-1.347001</td>\n",
       "      <td>-0.358740</td>\n",
       "      <td>-0.904999</td>\n",
       "      <td>-1.162512</td>\n",
       "      <td>-1.305737</td>\n",
       "      <td>-0.307603</td>\n",
       "      <td>-0.631008</td>\n",
       "      <td>-0.502985</td>\n",
       "      <td>-0.511172</td>\n",
       "      <td>-0.243035</td>\n",
       "      <td>-0.068385</td>\n",
       "      <td>-0.221357</td>\n",
       "    </tr>\n",
       "    <tr>\n",
       "      <th>3</th>\n",
       "      <td>-0.733612</td>\n",
       "      <td>-0.771582</td>\n",
       "      <td>-1.347001</td>\n",
       "      <td>-0.268195</td>\n",
       "      <td>-0.654482</td>\n",
       "      <td>-0.440555</td>\n",
       "      <td>0.561380</td>\n",
       "      <td>-0.307603</td>\n",
       "      <td>0.101427</td>\n",
       "      <td>-0.502985</td>\n",
       "      <td>0.787155</td>\n",
       "      <td>-0.243035</td>\n",
       "      <td>-0.068385</td>\n",
       "      <td>-0.066519</td>\n",
       "    </tr>\n",
       "    <tr>\n",
       "      <th>4</th>\n",
       "      <td>-0.733612</td>\n",
       "      <td>-0.771582</td>\n",
       "      <td>-1.347001</td>\n",
       "      <td>-0.338731</td>\n",
       "      <td>-0.857028</td>\n",
       "      <td>-0.938456</td>\n",
       "      <td>-0.894338</td>\n",
       "      <td>-0.307603</td>\n",
       "      <td>-0.631008</td>\n",
       "      <td>-0.502985</td>\n",
       "      <td>-0.511172</td>\n",
       "      <td>-0.243035</td>\n",
       "      <td>-0.068385</td>\n",
       "      <td>-0.221357</td>\n",
       "    </tr>\n",
       "  </tbody>\n",
       "</table>\n",
       "</div>"
      ],
      "text/plain": [
       "   Fseismic  seismoacoustic     shift   genergy     gpuls  gdenergy    gdpuls  \\\n",
       "0 -0.733612       -0.771582 -1.347001 -0.327658 -0.873018 -1.050484 -1.210799   \n",
       "1 -0.733612       -0.771582 -1.347001 -0.329663 -0.899669 -1.025589 -1.321560   \n",
       "2 -0.733612       -0.771582 -1.347001 -0.358740 -0.904999 -1.162512 -1.305737   \n",
       "3 -0.733612       -0.771582 -1.347001 -0.268195 -0.654482 -0.440555  0.561380   \n",
       "4 -0.733612       -0.771582 -1.347001 -0.338731 -0.857028 -0.938456 -0.894338   \n",
       "\n",
       "    ghazard    nbumps   nbumps2   nbumps3   nbumps4   nbumps5  maxenergy  \n",
       "0 -0.307603 -0.631008 -0.502985 -0.511172 -0.243035 -0.068385  -0.221357  \n",
       "1 -0.307603  0.101427 -0.502985  0.787155 -0.243035 -0.068385  -0.118131  \n",
       "2 -0.307603 -0.631008 -0.502985 -0.511172 -0.243035 -0.068385  -0.221357  \n",
       "3 -0.307603  0.101427 -0.502985  0.787155 -0.243035 -0.068385  -0.066519  \n",
       "4 -0.307603 -0.631008 -0.502985 -0.511172 -0.243035 -0.068385  -0.221357  "
      ]
     },
     "execution_count": 18,
     "metadata": {},
     "output_type": "execute_result"
    }
   ],
   "source": [
    "#Normalizar Data Set\n",
    "normalizar_var(data_normal)\n",
    "data_normal.head()"
   ]
  },
  {
   "cell_type": "code",
   "execution_count": 19,
   "metadata": {},
   "outputs": [
    {
     "data": {
      "text/plain": [
       "(2578, 14)"
      ]
     },
     "execution_count": 19,
     "metadata": {},
     "output_type": "execute_result"
    }
   ],
   "source": [
    "data_normal.shape"
   ]
  },
  {
   "cell_type": "code",
   "execution_count": 20,
   "metadata": {},
   "outputs": [
    {
     "name": "stdout",
     "output_type": "stream",
     "text": [
      "(2578, 14) (2578,)\n"
     ]
    }
   ],
   "source": [
    "X=np.array(data_normal )\n",
    "y=np.array(data_new['class'])\n",
    "print(X.shape,y.shape)"
   ]
  },
  {
   "cell_type": "markdown",
   "metadata": {},
   "source": [
    "###  Split train and test data sets: 80% Training and 20% testing"
   ]
  },
  {
   "cell_type": "code",
   "execution_count": 21,
   "metadata": {},
   "outputs": [],
   "source": [
    "X_train, X_test, y_train, y_test = train_test_split(X, y, test_size=0.2, random_state=0)  "
   ]
  },
  {
   "cell_type": "markdown",
   "metadata": {},
   "source": [
    "# RamdomForest"
   ]
  },
  {
   "cell_type": "markdown",
   "metadata": {},
   "source": [
    "### Seleccion de los mejores parametros  Grid-Search para RadomForest"
   ]
  },
  {
   "cell_type": "code",
   "execution_count": 22,
   "metadata": {},
   "outputs": [
    {
     "name": "stdout",
     "output_type": "stream",
     "text": [
      "Test set score: 0.93\n",
      "Best parameters: {'class_weight': 'balanced', 'n_estimators': 200}\n",
      "Best cross-validation score: 0.93\n",
      "Best estimator:\n",
      "RandomForestClassifier(bootstrap=True, class_weight='balanced',\n",
      "            criterion='gini', max_depth=None, max_features='auto',\n",
      "            max_leaf_nodes=None, min_impurity_decrease=0.0,\n",
      "            min_impurity_split=None, min_samples_leaf=1,\n",
      "            min_samples_split=2, min_weight_fraction_leaf=0.0,\n",
      "            n_estimators=200, n_jobs=None, oob_score=False,\n",
      "            random_state=None, verbose=0, warm_start=False)\n"
     ]
    }
   ],
   "source": [
    "param_grid = {'class_weight':['balanced',{1:5},{1:10},{1:15},{1:20}],'n_estimators':[10,100,200]}            \n",
    "grid_search = GridSearchCV(RandomForestClassifier(), param_grid, cv=5)\n",
    "grid_search.fit(X_train, y_train)\n",
    "print(\"Test set score: {:.2f}\".format(grid_search.score(X_test, y_test)))\n",
    "print(\"Best parameters: {}\".format(grid_search.best_params_))\n",
    "print(\"Best cross-validation score: {:.2f}\".format(grid_search.best_score_))\n",
    "print(\"Best estimator:\\n{}\".format(grid_search.best_estimator_))"
   ]
  },
  {
   "cell_type": "markdown",
   "metadata": {},
   "source": [
    "### Evaluacion Modelo con mejores parametros"
   ]
  },
  {
   "cell_type": "code",
   "execution_count": 23,
   "metadata": {},
   "outputs": [
    {
     "name": "stdout",
     "output_type": "stream",
     "text": [
      "Train Accuracy: 1.0\n",
      "Test Accuracy : 0.9321705426356589\n",
      "F1 score +    : 0.10256410256410256\n",
      "Recall +      : 0.058823529411764705\n",
      "Precision +   : 0.4\n",
      "\n",
      " clasification report:\n",
      "               precision    recall  f1-score   support\n",
      "\n",
      "           0       0.94      0.99      0.96       482\n",
      "           1       0.40      0.06      0.10        34\n",
      "\n",
      "   micro avg       0.93      0.93      0.93       516\n",
      "   macro avg       0.67      0.53      0.53       516\n",
      "weighted avg       0.90      0.93      0.91       516\n",
      "\n",
      "\n",
      " Matriz de Confusion:\n",
      " [[479   3]\n",
      " [ 32   2]]\n"
     ]
    }
   ],
   "source": [
    "clf_ = RandomForestClassifier(bootstrap=True, class_weight={1: 20}, criterion='gini',\n",
    "            max_depth=None, max_features='auto', max_leaf_nodes=None,\n",
    "            min_impurity_decrease=0.0, min_impurity_split=None,\n",
    "            min_samples_leaf=1, min_samples_split=2,\n",
    "            min_weight_fraction_leaf=0.0, n_estimators=200, n_jobs=None,\n",
    "            oob_score=False, random_state=None, verbose=0,\n",
    "            warm_start=False)\n",
    "\n",
    "eval_modelo(clf_)"
   ]
  },
  {
   "cell_type": "code",
   "execution_count": 24,
   "metadata": {
    "scrolled": true
   },
   "outputs": [
    {
     "name": "stdout",
     "output_type": "stream",
     "text": [
      "Train Accuracy: 1.0\n",
      "Test Accuracy : 0.9341085271317829\n",
      "F1 score +    : 0.10526315789473684\n",
      "Recall +      : 0.058823529411764705\n",
      "Precision +   : 0.5\n",
      "\n",
      " clasification report:\n",
      "               precision    recall  f1-score   support\n",
      "\n",
      "           0       0.94      1.00      0.97       482\n",
      "           1       0.50      0.06      0.11        34\n",
      "\n",
      "   micro avg       0.93      0.93      0.93       516\n",
      "   macro avg       0.72      0.53      0.54       516\n",
      "weighted avg       0.91      0.93      0.91       516\n",
      "\n",
      "\n",
      " Matriz de Confusion:\n",
      " [[480   2]\n",
      " [ 32   2]]\n"
     ]
    }
   ],
   "source": [
    "clf = RandomForestClassifier(n_estimators=200,random_state=0, class_weight='balanced')\n",
    "eval_modelo(clf)"
   ]
  },
  {
   "cell_type": "markdown",
   "metadata": {},
   "source": [
    "#### Importancia dada por el modelo a las variables"
   ]
  },
  {
   "cell_type": "code",
   "execution_count": 25,
   "metadata": {},
   "outputs": [
    {
     "data": {
      "text/html": [
       "<div>\n",
       "<style scoped>\n",
       "    .dataframe tbody tr th:only-of-type {\n",
       "        vertical-align: middle;\n",
       "    }\n",
       "\n",
       "    .dataframe tbody tr th {\n",
       "        vertical-align: top;\n",
       "    }\n",
       "\n",
       "    .dataframe thead th {\n",
       "        text-align: right;\n",
       "    }\n",
       "</style>\n",
       "<table border=\"1\" class=\"dataframe\">\n",
       "  <thead>\n",
       "    <tr style=\"text-align: right;\">\n",
       "      <th></th>\n",
       "      <th>importancia</th>\n",
       "    </tr>\n",
       "  </thead>\n",
       "  <tbody>\n",
       "    <tr>\n",
       "      <th>genergy</th>\n",
       "      <td>0.186868</td>\n",
       "    </tr>\n",
       "    <tr>\n",
       "      <th>gpuls</th>\n",
       "      <td>0.174365</td>\n",
       "    </tr>\n",
       "    <tr>\n",
       "      <th>gdenergy</th>\n",
       "      <td>0.134063</td>\n",
       "    </tr>\n",
       "    <tr>\n",
       "      <th>gdpuls</th>\n",
       "      <td>0.133419</td>\n",
       "    </tr>\n",
       "    <tr>\n",
       "      <th>maxenergy</th>\n",
       "      <td>0.102033</td>\n",
       "    </tr>\n",
       "    <tr>\n",
       "      <th>nbumps</th>\n",
       "      <td>0.081050</td>\n",
       "    </tr>\n",
       "    <tr>\n",
       "      <th>nbumps2</th>\n",
       "      <td>0.046329</td>\n",
       "    </tr>\n",
       "    <tr>\n",
       "      <th>nbumps3</th>\n",
       "      <td>0.041981</td>\n",
       "    </tr>\n",
       "    <tr>\n",
       "      <th>shift</th>\n",
       "      <td>0.036478</td>\n",
       "    </tr>\n",
       "    <tr>\n",
       "      <th>seismoacoustic</th>\n",
       "      <td>0.021461</td>\n",
       "    </tr>\n",
       "    <tr>\n",
       "      <th>Fseismic</th>\n",
       "      <td>0.019375</td>\n",
       "    </tr>\n",
       "    <tr>\n",
       "      <th>ghazard</th>\n",
       "      <td>0.011922</td>\n",
       "    </tr>\n",
       "    <tr>\n",
       "      <th>nbumps4</th>\n",
       "      <td>0.009911</td>\n",
       "    </tr>\n",
       "    <tr>\n",
       "      <th>nbumps5</th>\n",
       "      <td>0.000744</td>\n",
       "    </tr>\n",
       "  </tbody>\n",
       "</table>\n",
       "</div>"
      ],
      "text/plain": [
       "                importancia\n",
       "genergy            0.186868\n",
       "gpuls              0.174365\n",
       "gdenergy           0.134063\n",
       "gdpuls             0.133419\n",
       "maxenergy          0.102033\n",
       "nbumps             0.081050\n",
       "nbumps2            0.046329\n",
       "nbumps3            0.041981\n",
       "shift              0.036478\n",
       "seismoacoustic     0.021461\n",
       "Fseismic           0.019375\n",
       "ghazard            0.011922\n",
       "nbumps4            0.009911\n",
       "nbumps5            0.000744"
      ]
     },
     "execution_count": 25,
     "metadata": {},
     "output_type": "execute_result"
    }
   ],
   "source": [
    "feature_importances = pd.DataFrame(clf.feature_importances_,index = data_normal.columns,columns=['importancia']).sort_values('importancia',ascending=False)\n",
    "feature_importances "
   ]
  },
  {
   "cell_type": "code",
   "execution_count": 1,
   "metadata": {},
   "outputs": [
    {
     "ename": "NameError",
     "evalue": "name 'clf' is not defined",
     "output_type": "error",
     "traceback": [
      "\u001b[1;31m---------------------------------------------------------------------------\u001b[0m",
      "\u001b[1;31mNameError\u001b[0m                                 Traceback (most recent call last)",
      "\u001b[1;32m<ipython-input-1-c15da6fb3f05>\u001b[0m in \u001b[0;36m<module>\u001b[1;34m\u001b[0m\n\u001b[1;32m----> 1\u001b[1;33m \u001b[0mimp\u001b[0m \u001b[1;33m=\u001b[0m \u001b[0mclf\u001b[0m\u001b[1;33m.\u001b[0m\u001b[0mfeature_importances_\u001b[0m\u001b[1;33m\u001b[0m\u001b[1;33m\u001b[0m\u001b[0m\n\u001b[0m\u001b[0;32m      2\u001b[0m \u001b[0mnombres\u001b[0m \u001b[1;33m=\u001b[0m \u001b[0mdata_normal\u001b[0m\u001b[1;33m.\u001b[0m\u001b[0mcolumns\u001b[0m\u001b[1;33m\u001b[0m\u001b[1;33m\u001b[0m\u001b[0m\n\u001b[0;32m      3\u001b[0m \u001b[0mimp\u001b[0m\u001b[1;33m,\u001b[0m\u001b[0mnombres1\u001b[0m \u001b[1;33m=\u001b[0m \u001b[0mzip\u001b[0m\u001b[1;33m(\u001b[0m\u001b[1;33m*\u001b[0m\u001b[0msorted\u001b[0m\u001b[1;33m(\u001b[0m\u001b[0mzip\u001b[0m\u001b[1;33m(\u001b[0m\u001b[0mimp\u001b[0m\u001b[1;33m,\u001b[0m\u001b[0mnombres\u001b[0m\u001b[1;33m)\u001b[0m\u001b[1;33m)\u001b[0m\u001b[1;33m)\u001b[0m\u001b[1;33m\u001b[0m\u001b[1;33m\u001b[0m\u001b[0m\n\u001b[0;32m      4\u001b[0m \u001b[0mplt\u001b[0m\u001b[1;33m.\u001b[0m\u001b[0mbarh\u001b[0m\u001b[1;33m(\u001b[0m\u001b[0mrange\u001b[0m\u001b[1;33m(\u001b[0m\u001b[0mlen\u001b[0m\u001b[1;33m(\u001b[0m\u001b[0mnombres1\u001b[0m\u001b[1;33m)\u001b[0m\u001b[1;33m)\u001b[0m\u001b[1;33m,\u001b[0m\u001b[0mimp\u001b[0m\u001b[1;33m,\u001b[0m \u001b[0malign\u001b[0m\u001b[1;33m=\u001b[0m\u001b[1;34m'center'\u001b[0m\u001b[1;33m)\u001b[0m\u001b[1;33m\u001b[0m\u001b[1;33m\u001b[0m\u001b[0m\n\u001b[0;32m      5\u001b[0m \u001b[0mplt\u001b[0m\u001b[1;33m.\u001b[0m\u001b[0myticks\u001b[0m\u001b[1;33m(\u001b[0m\u001b[0mrange\u001b[0m\u001b[1;33m(\u001b[0m\u001b[0mlen\u001b[0m\u001b[1;33m(\u001b[0m\u001b[0mnombres1\u001b[0m\u001b[1;33m)\u001b[0m\u001b[1;33m)\u001b[0m\u001b[1;33m,\u001b[0m\u001b[0mnombres1\u001b[0m\u001b[1;33m)\u001b[0m\u001b[1;33m\u001b[0m\u001b[1;33m\u001b[0m\u001b[0m\n",
      "\u001b[1;31mNameError\u001b[0m: name 'clf' is not defined"
     ]
    }
   ],
   "source": [
    "imp = clf.feature_importances_\n",
    "nombres = data_normal.columns\n",
    "imp,nombres1 = zip(*sorted(zip(imp,nombres)))\n",
    "plt.barh(range(len(nombres1)),imp, align='center')\n",
    "plt.yticks(range(len(nombres1)),nombres1)\n",
    "plt.xlabel('Importancia de Variables')\n",
    "plt.ylabel('Variables')\n",
    "plt.title(\"Importacioa de las caracteristicas\")\n",
    "plt.show()"
   ]
  },
  {
   "cell_type": "markdown",
   "metadata": {},
   "source": [
    "### Los resultado muestran que el modelo en términos generales tiene un muy buen desempeño en precisión y recall de la clase negativa (0), pero un desempeño muy bajo para la clase positiva (1), esto debido  al desbalanceo de clase y apesar de la penalizacion dada a la clase en el algoritmo: class_weight={1: 20}."
   ]
  },
  {
   "cell_type": "markdown",
   "metadata": {},
   "source": [
    "## ROC Curve\n",
    "### Dado al desbalanceo de clase y para RandomForest es necesario tomar la probabilidad estimada de la clase positiva (1)"
   ]
  },
  {
   "cell_type": "code",
   "execution_count": 27,
   "metadata": {},
   "outputs": [
    {
     "data": {
      "text/plain": [
       "<matplotlib.legend.Legend at 0x274d43bfa58>"
      ]
     },
     "execution_count": 27,
     "metadata": {},
     "output_type": "execute_result"
    },
    {
     "data": {
      "image/png": "[encoded data removed]",
      "text/plain": [
       "<Figure size 432x288 with 1 Axes>"
      ]
     },
     "metadata": {
      "needs_background": "light"
     },
     "output_type": "display_data"
    }
   ],
   "source": [
    "probas_ = clf_.fit(X_train, y_train).predict_proba(X_test)\n",
    "fpr, tpr, thresholds = roc_curve(y_test, probas_[:, 1])\n",
    "plt.plot(fpr, tpr, label=\"ROC Curve\")\n",
    "plt.xlabel(\"FPR - 0\")\n",
    "plt.ylabel(\"TPR (recall -1)\")\n",
    "# find threshold closest to zero\n",
    "close_zero = np.argmin(np.abs(thresholds))\n",
    "plt.plot(fpr[close_zero], tpr[close_zero], 'o', markersize=10,\n",
    "label=\"threshold zero\", fillstyle=\"none\", c='k', mew=2)\n",
    "plt.plot([0, 1], [0, 1], color='darkorange', lw=2, linestyle='--')\n",
    "plt.legend(loc=4)"
   ]
  },
  {
   "cell_type": "markdown",
   "metadata": {},
   "source": [
    "#### Area Bajo la Curva"
   ]
  },
  {
   "cell_type": "code",
   "execution_count": 28,
   "metadata": {},
   "outputs": [
    {
     "data": {
      "text/plain": [
       "0.7048144984134733"
      ]
     },
     "execution_count": 28,
     "metadata": {},
     "output_type": "execute_result"
    }
   ],
   "source": [
    "svc_auc = roc_auc_score(y_test, probas_[:, 1])\n",
    "svc_auc"
   ]
  },
  {
   "cell_type": "markdown",
   "metadata": {},
   "source": [
    "### los mejores resultados para la curva ROC se obtienen cuando están cerca al margen superior izquierdo (alto Recall y bajo FPR). En la gráfica se observa que la rata de falsos positivos es alta, y si se baja la rata FPR, el recall de la clase positiva decae."
   ]
  },
  {
   "cell_type": "markdown",
   "metadata": {},
   "source": [
    "# Evaluacion del modelo Balanceando Clases"
   ]
  },
  {
   "cell_type": "markdown",
   "metadata": {},
   "source": [
    "#### Balanceo por  UPSample de la clase minoritaria"
   ]
  },
  {
   "cell_type": "code",
   "execution_count": 29,
   "metadata": {},
   "outputs": [
    {
     "data": {
      "text/html": [
       "<div>\n",
       "<style scoped>\n",
       "    .dataframe tbody tr th:only-of-type {\n",
       "        vertical-align: middle;\n",
       "    }\n",
       "\n",
       "    .dataframe tbody tr th {\n",
       "        vertical-align: top;\n",
       "    }\n",
       "\n",
       "    .dataframe thead th {\n",
       "        text-align: right;\n",
       "    }\n",
       "</style>\n",
       "<table border=\"1\" class=\"dataframe\">\n",
       "  <thead>\n",
       "    <tr style=\"text-align: right;\">\n",
       "      <th></th>\n",
       "      <th>Fseismic</th>\n",
       "      <th>seismoacoustic</th>\n",
       "      <th>shift</th>\n",
       "      <th>genergy</th>\n",
       "      <th>gpuls</th>\n",
       "      <th>gdenergy</th>\n",
       "      <th>gdpuls</th>\n",
       "      <th>ghazard</th>\n",
       "      <th>nbumps</th>\n",
       "      <th>nbumps2</th>\n",
       "      <th>nbumps3</th>\n",
       "      <th>nbumps4</th>\n",
       "      <th>nbumps5</th>\n",
       "      <th>maxenergy</th>\n",
       "      <th>class</th>\n",
       "    </tr>\n",
       "  </thead>\n",
       "  <tbody>\n",
       "    <tr>\n",
       "      <th>0</th>\n",
       "      <td>a</td>\n",
       "      <td>a</td>\n",
       "      <td>N</td>\n",
       "      <td>15180.0</td>\n",
       "      <td>48.0</td>\n",
       "      <td>-72.0</td>\n",
       "      <td>-72.0</td>\n",
       "      <td>a</td>\n",
       "      <td>0.0</td>\n",
       "      <td>0.0</td>\n",
       "      <td>0.0</td>\n",
       "      <td>0.0</td>\n",
       "      <td>0.0</td>\n",
       "      <td>0.0</td>\n",
       "      <td>0</td>\n",
       "    </tr>\n",
       "    <tr>\n",
       "      <th>1</th>\n",
       "      <td>a</td>\n",
       "      <td>a</td>\n",
       "      <td>N</td>\n",
       "      <td>14720.0</td>\n",
       "      <td>33.0</td>\n",
       "      <td>-70.0</td>\n",
       "      <td>-79.0</td>\n",
       "      <td>a</td>\n",
       "      <td>1.0</td>\n",
       "      <td>0.0</td>\n",
       "      <td>1.0</td>\n",
       "      <td>0.0</td>\n",
       "      <td>0.0</td>\n",
       "      <td>2000.0</td>\n",
       "      <td>0</td>\n",
       "    </tr>\n",
       "    <tr>\n",
       "      <th>2</th>\n",
       "      <td>a</td>\n",
       "      <td>a</td>\n",
       "      <td>N</td>\n",
       "      <td>8050.0</td>\n",
       "      <td>30.0</td>\n",
       "      <td>-81.0</td>\n",
       "      <td>-78.0</td>\n",
       "      <td>a</td>\n",
       "      <td>0.0</td>\n",
       "      <td>0.0</td>\n",
       "      <td>0.0</td>\n",
       "      <td>0.0</td>\n",
       "      <td>0.0</td>\n",
       "      <td>0.0</td>\n",
       "      <td>0</td>\n",
       "    </tr>\n",
       "    <tr>\n",
       "      <th>3</th>\n",
       "      <td>a</td>\n",
       "      <td>a</td>\n",
       "      <td>N</td>\n",
       "      <td>28820.0</td>\n",
       "      <td>171.0</td>\n",
       "      <td>-23.0</td>\n",
       "      <td>40.0</td>\n",
       "      <td>a</td>\n",
       "      <td>1.0</td>\n",
       "      <td>0.0</td>\n",
       "      <td>1.0</td>\n",
       "      <td>0.0</td>\n",
       "      <td>0.0</td>\n",
       "      <td>3000.0</td>\n",
       "      <td>0</td>\n",
       "    </tr>\n",
       "    <tr>\n",
       "      <th>4</th>\n",
       "      <td>a</td>\n",
       "      <td>a</td>\n",
       "      <td>N</td>\n",
       "      <td>12640.0</td>\n",
       "      <td>57.0</td>\n",
       "      <td>-63.0</td>\n",
       "      <td>-52.0</td>\n",
       "      <td>a</td>\n",
       "      <td>0.0</td>\n",
       "      <td>0.0</td>\n",
       "      <td>0.0</td>\n",
       "      <td>0.0</td>\n",
       "      <td>0.0</td>\n",
       "      <td>0.0</td>\n",
       "      <td>0</td>\n",
       "    </tr>\n",
       "  </tbody>\n",
       "</table>\n",
       "</div>"
      ],
      "text/plain": [
       "  Fseismic seismoacoustic shift  genergy  gpuls  gdenergy  gdpuls ghazard  \\\n",
       "0        a              a     N  15180.0   48.0     -72.0   -72.0       a   \n",
       "1        a              a     N  14720.0   33.0     -70.0   -79.0       a   \n",
       "2        a              a     N   8050.0   30.0     -81.0   -78.0       a   \n",
       "3        a              a     N  28820.0  171.0     -23.0    40.0       a   \n",
       "4        a              a     N  12640.0   57.0     -63.0   -52.0       a   \n",
       "\n",
       "   nbumps  nbumps2  nbumps3  nbumps4  nbumps5  maxenergy  class  \n",
       "0     0.0      0.0      0.0      0.0      0.0        0.0      0  \n",
       "1     1.0      0.0      1.0      0.0      0.0     2000.0      0  \n",
       "2     0.0      0.0      0.0      0.0      0.0        0.0      0  \n",
       "3     1.0      0.0      1.0      0.0      0.0     3000.0      0  \n",
       "4     0.0      0.0      0.0      0.0      0.0        0.0      0  "
      ]
     },
     "execution_count": 29,
     "metadata": {},
     "output_type": "execute_result"
    }
   ],
   "source": [
    "\n",
    "#https://elitedatascience.com/imbalanced-classes\n",
    "# Separate majority and minority classes\n",
    "\n",
    "df_majority = data_new[data_new['class']==0]\n",
    "df_minority = data_new[data_new['class']==1]\n",
    " \n",
    "# Upsample minority class\n",
    "df_minority_upsampled = resample(df_minority, \n",
    "                                 replace=True,     # sample with replacement\n",
    "                                 n_samples=2408,    # to match majority class\n",
    "                                 random_state=123) # reproducible results\n",
    " \n",
    "# Combine majority class with upsampled minority class\n",
    "df_upsampled = pd.concat([df_majority, df_minority_upsampled])\n",
    " \n",
    "# Display new class counts\n",
    "df_upsampled['class'].value_counts()\n",
    "df_upsampled.head() "
   ]
  },
  {
   "cell_type": "code",
   "execution_count": 30,
   "metadata": {},
   "outputs": [
    {
     "data": {
      "text/html": [
       "<div>\n",
       "<style scoped>\n",
       "    .dataframe tbody tr th:only-of-type {\n",
       "        vertical-align: middle;\n",
       "    }\n",
       "\n",
       "    .dataframe tbody tr th {\n",
       "        vertical-align: top;\n",
       "    }\n",
       "\n",
       "    .dataframe thead th {\n",
       "        text-align: right;\n",
       "    }\n",
       "</style>\n",
       "<table border=\"1\" class=\"dataframe\">\n",
       "  <thead>\n",
       "    <tr style=\"text-align: right;\">\n",
       "      <th></th>\n",
       "      <th>Fseismic</th>\n",
       "      <th>seismoacoustic</th>\n",
       "      <th>shift</th>\n",
       "      <th>genergy</th>\n",
       "      <th>gpuls</th>\n",
       "      <th>gdenergy</th>\n",
       "      <th>gdpuls</th>\n",
       "      <th>ghazard</th>\n",
       "      <th>nbumps</th>\n",
       "      <th>nbumps2</th>\n",
       "      <th>nbumps3</th>\n",
       "      <th>nbumps4</th>\n",
       "      <th>nbumps5</th>\n",
       "      <th>maxenergy</th>\n",
       "    </tr>\n",
       "  </thead>\n",
       "  <tbody>\n",
       "    <tr>\n",
       "      <th>0</th>\n",
       "      <td>-0.861262</td>\n",
       "      <td>-0.776193</td>\n",
       "      <td>-1.790562</td>\n",
       "      <td>-0.467646</td>\n",
       "      <td>-0.972706</td>\n",
       "      <td>-1.156454</td>\n",
       "      <td>-1.313846</td>\n",
       "      <td>-0.297723</td>\n",
       "      <td>-0.840986</td>\n",
       "      <td>-0.687214</td>\n",
       "      <td>-0.664676</td>\n",
       "      <td>-0.305537</td>\n",
       "      <td>-0.07077</td>\n",
       "      <td>-0.326078</td>\n",
       "    </tr>\n",
       "    <tr>\n",
       "      <th>1</th>\n",
       "      <td>-0.861262</td>\n",
       "      <td>-0.776193</td>\n",
       "      <td>-1.790562</td>\n",
       "      <td>-0.469376</td>\n",
       "      <td>-0.993931</td>\n",
       "      <td>-1.129465</td>\n",
       "      <td>-1.429588</td>\n",
       "      <td>-0.297723</td>\n",
       "      <td>-0.261145</td>\n",
       "      <td>-0.687214</td>\n",
       "      <td>0.324533</td>\n",
       "      <td>-0.305537</td>\n",
       "      <td>-0.07077</td>\n",
       "      <td>-0.212918</td>\n",
       "    </tr>\n",
       "    <tr>\n",
       "      <th>2</th>\n",
       "      <td>-0.861262</td>\n",
       "      <td>-0.776193</td>\n",
       "      <td>-1.790562</td>\n",
       "      <td>-0.494468</td>\n",
       "      <td>-0.998176</td>\n",
       "      <td>-1.277901</td>\n",
       "      <td>-1.413053</td>\n",
       "      <td>-0.297723</td>\n",
       "      <td>-0.840986</td>\n",
       "      <td>-0.687214</td>\n",
       "      <td>-0.664676</td>\n",
       "      <td>-0.305537</td>\n",
       "      <td>-0.07077</td>\n",
       "      <td>-0.326078</td>\n",
       "    </tr>\n",
       "    <tr>\n",
       "      <th>3</th>\n",
       "      <td>-0.861262</td>\n",
       "      <td>-0.776193</td>\n",
       "      <td>-1.790562</td>\n",
       "      <td>-0.416333</td>\n",
       "      <td>-0.798661</td>\n",
       "      <td>-0.495239</td>\n",
       "      <td>0.538031</td>\n",
       "      <td>-0.297723</td>\n",
       "      <td>-0.261145</td>\n",
       "      <td>-0.687214</td>\n",
       "      <td>0.324533</td>\n",
       "      <td>-0.305537</td>\n",
       "      <td>-0.07077</td>\n",
       "      <td>-0.156338</td>\n",
       "    </tr>\n",
       "    <tr>\n",
       "      <th>4</th>\n",
       "      <td>-0.861262</td>\n",
       "      <td>-0.776193</td>\n",
       "      <td>-1.790562</td>\n",
       "      <td>-0.477201</td>\n",
       "      <td>-0.959971</td>\n",
       "      <td>-1.035006</td>\n",
       "      <td>-0.983154</td>\n",
       "      <td>-0.297723</td>\n",
       "      <td>-0.840986</td>\n",
       "      <td>-0.687214</td>\n",
       "      <td>-0.664676</td>\n",
       "      <td>-0.305537</td>\n",
       "      <td>-0.07077</td>\n",
       "      <td>-0.326078</td>\n",
       "    </tr>\n",
       "  </tbody>\n",
       "</table>\n",
       "</div>"
      ],
      "text/plain": [
       "   Fseismic  seismoacoustic     shift   genergy     gpuls  gdenergy    gdpuls  \\\n",
       "0 -0.861262       -0.776193 -1.790562 -0.467646 -0.972706 -1.156454 -1.313846   \n",
       "1 -0.861262       -0.776193 -1.790562 -0.469376 -0.993931 -1.129465 -1.429588   \n",
       "2 -0.861262       -0.776193 -1.790562 -0.494468 -0.998176 -1.277901 -1.413053   \n",
       "3 -0.861262       -0.776193 -1.790562 -0.416333 -0.798661 -0.495239  0.538031   \n",
       "4 -0.861262       -0.776193 -1.790562 -0.477201 -0.959971 -1.035006 -0.983154   \n",
       "\n",
       "    ghazard    nbumps   nbumps2   nbumps3   nbumps4  nbumps5  maxenergy  \n",
       "0 -0.297723 -0.840986 -0.687214 -0.664676 -0.305537 -0.07077  -0.326078  \n",
       "1 -0.297723 -0.261145 -0.687214  0.324533 -0.305537 -0.07077  -0.212918  \n",
       "2 -0.297723 -0.840986 -0.687214 -0.664676 -0.305537 -0.07077  -0.326078  \n",
       "3 -0.297723 -0.261145 -0.687214  0.324533 -0.305537 -0.07077  -0.156338  \n",
       "4 -0.297723 -0.840986 -0.687214 -0.664676 -0.305537 -0.07077  -0.326078  "
      ]
     },
     "execution_count": 30,
     "metadata": {},
     "output_type": "execute_result"
    }
   ],
   "source": [
    "y_=np.array(df_upsampled['class'])\n",
    "df_upsampled = df_upsampled.drop('class', axis=1)\n",
    "numerizar_var(df_upsampled)\n",
    "normalizar_var(df_upsampled)\n",
    "X_=np.array(df_upsampled )\n",
    "df_upsampled.head()"
   ]
  },
  {
   "cell_type": "code",
   "execution_count": 31,
   "metadata": {},
   "outputs": [],
   "source": [
    "X_train, X_test, y_train, y_test = train_test_split(X_, y_, test_size=0.4, random_state=0)  "
   ]
  },
  {
   "cell_type": "code",
   "execution_count": 32,
   "metadata": {},
   "outputs": [
    {
     "name": "stdout",
     "output_type": "stream",
     "text": [
      "Train Accuracy: 1.0\n",
      "Test Accuracy : 0.9849507005708354\n",
      "F1 score +    : 0.9852866565195332\n",
      "Recall +      : 1.0\n",
      "Precision +   : 0.971\n",
      "\n",
      " clasification report:\n",
      "               precision    recall  f1-score   support\n",
      "\n",
      "           0       1.00      0.97      0.98       956\n",
      "           1       0.97      1.00      0.99       971\n",
      "\n",
      "   micro avg       0.98      0.98      0.98      1927\n",
      "   macro avg       0.99      0.98      0.98      1927\n",
      "weighted avg       0.99      0.98      0.98      1927\n",
      "\n",
      "\n",
      " Matriz de Confusion:\n",
      " [[927  29]\n",
      " [  0 971]]\n"
     ]
    }
   ],
   "source": [
    "clf_ = RandomForestClassifier(bootstrap=True, class_weight={1: 20}, criterion='gini',\n",
    "            max_depth=None, max_features='auto', max_leaf_nodes=None,\n",
    "            min_impurity_decrease=0.0, min_impurity_split=None,\n",
    "            min_samples_leaf=1, min_samples_split=2,\n",
    "            min_weight_fraction_leaf=0.0, n_estimators=200, n_jobs=None,\n",
    "            oob_score=False, random_state=None, verbose=0,\n",
    "            warm_start=False)\n",
    "\n",
    "eval_modelo(clf_)"
   ]
  },
  {
   "cell_type": "markdown",
   "metadata": {},
   "source": [
    "#### Balanceo por  DownSample de la clase Mayoritaria"
   ]
  },
  {
   "cell_type": "code",
   "execution_count": 33,
   "metadata": {},
   "outputs": [
    {
     "data": {
      "text/plain": [
       "1    170\n",
       "0    170\n",
       "Name: class, dtype: int64"
      ]
     },
     "execution_count": 33,
     "metadata": {},
     "output_type": "execute_result"
    }
   ],
   "source": [
    "#https://elitedatascience.com/imbalanced-classes\n",
    "\n",
    "# Separate majority and minority classes\n",
    "df_majority = data_new[data_new['class']==0]\n",
    "df_minority = data_new[data_new['class']==1]\n",
    " \n",
    "# Downsample majority class\n",
    "df_majority_downsampled = resample(df_majority, \n",
    "                                 replace=False,    # sample without replacement\n",
    "                                 n_samples=170,     # to match minority class\n",
    "                                 random_state=123) # reproducible results\n",
    " \n",
    "# Combine minority class with downsampled majority class\n",
    "df_downsampled = pd.concat([df_majority_downsampled, df_minority])\n",
    " \n",
    "# Display new class counts\n",
    "df_downsampled['class'].value_counts()"
   ]
  },
  {
   "cell_type": "code",
   "execution_count": 34,
   "metadata": {},
   "outputs": [
    {
     "data": {
      "text/html": [
       "<div>\n",
       "<style scoped>\n",
       "    .dataframe tbody tr th:only-of-type {\n",
       "        vertical-align: middle;\n",
       "    }\n",
       "\n",
       "    .dataframe tbody tr th {\n",
       "        vertical-align: top;\n",
       "    }\n",
       "\n",
       "    .dataframe thead th {\n",
       "        text-align: right;\n",
       "    }\n",
       "</style>\n",
       "<table border=\"1\" class=\"dataframe\">\n",
       "  <thead>\n",
       "    <tr style=\"text-align: right;\">\n",
       "      <th></th>\n",
       "      <th>Fseismic</th>\n",
       "      <th>seismoacoustic</th>\n",
       "      <th>shift</th>\n",
       "      <th>genergy</th>\n",
       "      <th>gpuls</th>\n",
       "      <th>gdenergy</th>\n",
       "      <th>gdpuls</th>\n",
       "      <th>ghazard</th>\n",
       "      <th>nbumps</th>\n",
       "      <th>nbumps2</th>\n",
       "      <th>nbumps3</th>\n",
       "      <th>nbumps4</th>\n",
       "      <th>nbumps5</th>\n",
       "      <th>maxenergy</th>\n",
       "      <th>class</th>\n",
       "    </tr>\n",
       "  </thead>\n",
       "  <tbody>\n",
       "    <tr>\n",
       "      <th>2367</th>\n",
       "      <td>-0.857143</td>\n",
       "      <td>-0.843830</td>\n",
       "      <td>0.577350</td>\n",
       "      <td>-0.410805</td>\n",
       "      <td>-0.456961</td>\n",
       "      <td>-0.346517</td>\n",
       "      <td>-0.257889</td>\n",
       "      <td>-0.366871</td>\n",
       "      <td>-0.258452</td>\n",
       "      <td>-0.680659</td>\n",
       "      <td>0.331524</td>\n",
       "      <td>-0.283693</td>\n",
       "      <td>-0.076923</td>\n",
       "      <td>-0.037520</td>\n",
       "      <td>-1.0</td>\n",
       "    </tr>\n",
       "    <tr>\n",
       "      <th>1191</th>\n",
       "      <td>-0.857143</td>\n",
       "      <td>1.081689</td>\n",
       "      <td>0.577350</td>\n",
       "      <td>-0.408980</td>\n",
       "      <td>-0.112707</td>\n",
       "      <td>-0.006369</td>\n",
       "      <td>0.688074</td>\n",
       "      <td>-0.366871</td>\n",
       "      <td>-0.829060</td>\n",
       "      <td>-0.680659</td>\n",
       "      <td>-0.657232</td>\n",
       "      <td>-0.283693</td>\n",
       "      <td>-0.076923</td>\n",
       "      <td>-0.240685</td>\n",
       "      <td>-1.0</td>\n",
       "    </tr>\n",
       "    <tr>\n",
       "      <th>1151</th>\n",
       "      <td>-0.857143</td>\n",
       "      <td>1.081689</td>\n",
       "      <td>-1.732051</td>\n",
       "      <td>-0.467646</td>\n",
       "      <td>-0.541540</td>\n",
       "      <td>0.209057</td>\n",
       "      <td>0.498882</td>\n",
       "      <td>-0.366871</td>\n",
       "      <td>-0.829060</td>\n",
       "      <td>-0.680659</td>\n",
       "      <td>-0.657232</td>\n",
       "      <td>-0.283693</td>\n",
       "      <td>-0.076923</td>\n",
       "      <td>-0.240685</td>\n",
       "      <td>-1.0</td>\n",
       "    </tr>\n",
       "    <tr>\n",
       "      <th>2570</th>\n",
       "      <td>1.166667</td>\n",
       "      <td>-0.843830</td>\n",
       "      <td>0.577350</td>\n",
       "      <td>-0.424219</td>\n",
       "      <td>-0.492573</td>\n",
       "      <td>0.537866</td>\n",
       "      <td>0.189294</td>\n",
       "      <td>-0.366871</td>\n",
       "      <td>-0.829060</td>\n",
       "      <td>-0.680659</td>\n",
       "      <td>-0.657232</td>\n",
       "      <td>-0.283693</td>\n",
       "      <td>-0.076923</td>\n",
       "      <td>-0.240685</td>\n",
       "      <td>-1.0</td>\n",
       "    </tr>\n",
       "    <tr>\n",
       "      <th>550</th>\n",
       "      <td>-0.857143</td>\n",
       "      <td>1.081689</td>\n",
       "      <td>-1.732051</td>\n",
       "      <td>-0.505893</td>\n",
       "      <td>-0.896181</td>\n",
       "      <td>-0.380532</td>\n",
       "      <td>0.877267</td>\n",
       "      <td>-0.366871</td>\n",
       "      <td>-0.258452</td>\n",
       "      <td>-0.680659</td>\n",
       "      <td>0.331524</td>\n",
       "      <td>-0.283693</td>\n",
       "      <td>-0.076923</td>\n",
       "      <td>-0.159419</td>\n",
       "      <td>-1.0</td>\n",
       "    </tr>\n",
       "  </tbody>\n",
       "</table>\n",
       "</div>"
      ],
      "text/plain": [
       "      Fseismic  seismoacoustic     shift   genergy     gpuls  gdenergy  \\\n",
       "2367 -0.857143       -0.843830  0.577350 -0.410805 -0.456961 -0.346517   \n",
       "1191 -0.857143        1.081689  0.577350 -0.408980 -0.112707 -0.006369   \n",
       "1151 -0.857143        1.081689 -1.732051 -0.467646 -0.541540  0.209057   \n",
       "2570  1.166667       -0.843830  0.577350 -0.424219 -0.492573  0.537866   \n",
       "550  -0.857143        1.081689 -1.732051 -0.505893 -0.896181 -0.380532   \n",
       "\n",
       "        gdpuls   ghazard    nbumps   nbumps2   nbumps3   nbumps4   nbumps5  \\\n",
       "2367 -0.257889 -0.366871 -0.258452 -0.680659  0.331524 -0.283693 -0.076923   \n",
       "1191  0.688074 -0.366871 -0.829060 -0.680659 -0.657232 -0.283693 -0.076923   \n",
       "1151  0.498882 -0.366871 -0.829060 -0.680659 -0.657232 -0.283693 -0.076923   \n",
       "2570  0.189294 -0.366871 -0.829060 -0.680659 -0.657232 -0.283693 -0.076923   \n",
       "550   0.877267 -0.366871 -0.258452 -0.680659  0.331524 -0.283693 -0.076923   \n",
       "\n",
       "      maxenergy  class  \n",
       "2367  -0.037520   -1.0  \n",
       "1191  -0.240685   -1.0  \n",
       "1151  -0.240685   -1.0  \n",
       "2570  -0.240685   -1.0  \n",
       "550   -0.159419   -1.0  "
      ]
     },
     "execution_count": 34,
     "metadata": {},
     "output_type": "execute_result"
    }
   ],
   "source": [
    "y_=np.array(df_downsampled['class'])\n",
    "df_upsampled = df_downsampled.drop('class', axis=1)\n",
    "numerizar_var(df_downsampled)\n",
    "normalizar_var(df_downsampled)\n",
    "X_=np.array(df_downsampled )\n",
    "df_downsampled.head()"
   ]
  },
  {
   "cell_type": "code",
   "execution_count": 35,
   "metadata": {},
   "outputs": [],
   "source": [
    "X_train, X_test, y_train, y_test = train_test_split(X_, y_, test_size=0.4, random_state=0)  "
   ]
  },
  {
   "cell_type": "code",
   "execution_count": 36,
   "metadata": {},
   "outputs": [
    {
     "name": "stdout",
     "output_type": "stream",
     "text": [
      "Train Accuracy: 1.0\n",
      "Test Accuracy : 1.0\n",
      "F1 score +    : 1.0\n",
      "Recall +      : 1.0\n",
      "Precision +   : 1.0\n",
      "\n",
      " clasification report:\n",
      "               precision    recall  f1-score   support\n",
      "\n",
      "           0       1.00      1.00      1.00        74\n",
      "           1       1.00      1.00      1.00        62\n",
      "\n",
      "   micro avg       1.00      1.00      1.00       136\n",
      "   macro avg       1.00      1.00      1.00       136\n",
      "weighted avg       1.00      1.00      1.00       136\n",
      "\n",
      "\n",
      " Matriz de Confusion:\n",
      " [[74  0]\n",
      " [ 0 62]]\n"
     ]
    }
   ],
   "source": [
    "clf_ = RandomForestClassifier(bootstrap=True, class_weight={1: 20}, criterion='gini',\n",
    "            max_depth=None, max_features='auto', max_leaf_nodes=None,\n",
    "            min_impurity_decrease=0.0, min_impurity_split=None,\n",
    "            min_samples_leaf=1, min_samples_split=2,\n",
    "            min_weight_fraction_leaf=0.0, n_estimators=200, n_jobs=None,\n",
    "            oob_score=False, random_state=None, verbose=0,\n",
    "            warm_start=False)\n",
    "\n",
    "eval_modelo(clf_)"
   ]
  },
  {
   "cell_type": "code",
   "execution_count": 37,
   "metadata": {},
   "outputs": [
    {
     "data": {
      "text/plain": [
       "<matplotlib.legend.Legend at 0x274d458f438>"
      ]
     },
     "execution_count": 37,
     "metadata": {},
     "output_type": "execute_result"
    },
    {
     "data": {
      "image/png": "[encoded data removed]",
      "text/plain": [
       "<Figure size 432x288 with 1 Axes>"
      ]
     },
     "metadata": {
      "needs_background": "light"
     },
     "output_type": "display_data"
    }
   ],
   "source": [
    "probas_ = clf_.fit(X_train, y_train).predict_proba(X_test)\n",
    "fpr, tpr, thresholds = roc_curve(y_test, probas_[:, 1])\n",
    "plt.plot(fpr, tpr, label=\"ROC Curve\")\n",
    "plt.xlabel(\"FPR - 0\")\n",
    "plt.ylabel(\"TPR (recall -1)\")\n",
    "# find threshold closest to zero\n",
    "close_zero = np.argmin(np.abs(thresholds))\n",
    "plt.plot(fpr[close_zero], tpr[close_zero], 'o', markersize=10,\n",
    "label=\"threshold zero\", fillstyle=\"none\", c='k', mew=2)\n",
    "plt.plot([0, 1], [0, 1], color='darkorange', lw=2, linestyle='--')\n",
    "plt.legend(loc=4)"
   ]
  },
  {
   "cell_type": "markdown",
   "metadata": {},
   "source": [
    "### Se observa que balanceando el set de datos por el método \"resample\" los resultados son muy buenos para ambas clases , es posible que pueda haber un sobre ajuste en el modelo.\n"
   ]
  },
  {
   "cell_type": "markdown",
   "metadata": {},
   "source": [
    "# AdaBoost"
   ]
  },
  {
   "cell_type": "code",
   "execution_count": 38,
   "metadata": {},
   "outputs": [],
   "source": [
    "X_train, X_test, y_train, y_test = train_test_split(X, y, test_size=0.2, random_state=0) "
   ]
  },
  {
   "cell_type": "code",
   "execution_count": 39,
   "metadata": {},
   "outputs": [
    {
     "name": "stdout",
     "output_type": "stream",
     "text": [
      "1926 136\n"
     ]
    }
   ],
   "source": [
    "ceros = sum(map(lambda i: i == 0, y_train))\n",
    "unos = sum(map(lambda i: i == 1, y_train))\n",
    "print(ceros,unos)"
   ]
  },
  {
   "cell_type": "code",
   "execution_count": 40,
   "metadata": {},
   "outputs": [
    {
     "name": "stdout",
     "output_type": "stream",
     "text": [
      "Train Accuracy: 0.934529582929195\n",
      "Test Accuracy : 0.9341085271317829\n",
      "F1 score +    : 0.05555555555555555\n",
      "Recall +      : 0.029411764705882353\n",
      "Precision +   : 0.5\n",
      "\n",
      " clasification report:\n",
      "               precision    recall  f1-score   support\n",
      "\n",
      "           0       0.94      1.00      0.97       482\n",
      "           1       0.50      0.03      0.06        34\n",
      "\n",
      "   micro avg       0.93      0.93      0.93       516\n",
      "   macro avg       0.72      0.51      0.51       516\n",
      "weighted avg       0.91      0.93      0.91       516\n",
      "\n",
      "\n",
      " Matriz de Confusion:\n",
      " [[481   1]\n",
      " [ 33   1]]\n"
     ]
    }
   ],
   "source": [
    "clf0 = AdaBoostClassifier(n_estimators=50,\n",
    "                         learning_rate=1,\n",
    "                         random_state=0)\n",
    "eval_modelo(clf0)\n"
   ]
  },
  {
   "cell_type": "code",
   "execution_count": 41,
   "metadata": {},
   "outputs": [
    {
     "name": "stdout",
     "output_type": "stream",
     "text": [
      "Train Accuracy: 0.9340446168768186\n",
      "Test Accuracy : 0.9341085271317829\n",
      "F1 score +    : 0.0\n",
      "Recall +      : 0.0\n",
      "Precision +   : 0.0\n",
      "\n",
      " clasification report:\n",
      "               precision    recall  f1-score   support\n",
      "\n",
      "           0       0.93      1.00      0.97       482\n",
      "           1       0.00      0.00      0.00        34\n",
      "\n",
      "   micro avg       0.93      0.93      0.93       516\n",
      "   macro avg       0.47      0.50      0.48       516\n",
      "weighted avg       0.87      0.93      0.90       516\n",
      "\n",
      "\n",
      " Matriz de Confusion:\n",
      " [[482   0]\n",
      " [ 34   0]]\n"
     ]
    }
   ],
   "source": [
    "svc=svm.SVC(probability=True, kernel='linear')\n",
    "abc =AdaBoostClassifier(n_estimators=50, base_estimator=svc,learning_rate=1)\n",
    "eval_modelo(abc)"
   ]
  },
  {
   "cell_type": "code",
   "execution_count": 42,
   "metadata": {},
   "outputs": [
    {
     "name": "stdout",
     "output_type": "stream",
     "text": [
      "Train Accuracy: 0.9335596508244423\n",
      "Test Accuracy : 0.9302325581395349\n",
      "F1 score +    : 0.0\n",
      "Recall +      : 0.0\n",
      "Precision +   : 0.0\n",
      "\n",
      " clasification report:\n",
      "               precision    recall  f1-score   support\n",
      "\n",
      "           0       0.93      1.00      0.96       482\n",
      "           1       0.00      0.00      0.00        34\n",
      "\n",
      "   micro avg       0.93      0.93      0.93       516\n",
      "   macro avg       0.47      0.50      0.48       516\n",
      "weighted avg       0.87      0.93      0.90       516\n",
      "\n",
      "\n",
      " Matriz de Confusion:\n",
      " [[480   2]\n",
      " [ 34   0]]\n"
     ]
    }
   ],
   "source": [
    "svc = svm.SVC(kernel='linear', C= 0.1,class_weight=\"balanced\",random_state=0,probability=True)\n",
    "abc =AdaBoostClassifier(n_estimators=100, base_estimator=svc,learning_rate=1,algorithm='SAMME')\n",
    "eval_modelo(abc)"
   ]
  },
  {
   "cell_type": "code",
   "execution_count": 43,
   "metadata": {},
   "outputs": [
    {
     "name": "stdout",
     "output_type": "stream",
     "text": [
      "Train Accuracy: 0.9350145489815713\n",
      "Test Accuracy : 0.9341085271317829\n",
      "F1 score +    : 0.0\n",
      "Recall +      : 0.0\n",
      "Precision +   : 0.0\n",
      "\n",
      " clasification report:\n",
      "               precision    recall  f1-score   support\n",
      "\n",
      "           0       0.93      1.00      0.97       482\n",
      "           1       0.00      0.00      0.00        34\n",
      "\n",
      "   micro avg       0.93      0.93      0.93       516\n",
      "   macro avg       0.47      0.50      0.48       516\n",
      "weighted avg       0.87      0.93      0.90       516\n",
      "\n",
      "\n",
      " Matriz de Confusion:\n",
      " [[482   0]\n",
      " [ 34   0]]\n"
     ]
    }
   ],
   "source": [
    "from sklearn.tree import DecisionTreeClassifier\n",
    "bdt = AdaBoostClassifier(DecisionTreeClassifier(max_depth=1),\n",
    "                         algorithm=\"SAMME\",\n",
    "                         n_estimators=200)\n",
    "eval_modelo(bdt)"
   ]
  },
  {
   "cell_type": "code",
   "execution_count": 44,
   "metadata": {},
   "outputs": [
    {
     "data": {
      "text/plain": [
       "<matplotlib.legend.Legend at 0x274d449ae48>"
      ]
     },
     "execution_count": 44,
     "metadata": {},
     "output_type": "execute_result"
    },
    {
     "data": {
      "image/png": "[encoded data removed]",
      "text/plain": [
       "<Figure size 432x288 with 1 Axes>"
      ]
     },
     "metadata": {
      "needs_background": "light"
     },
     "output_type": "display_data"
    }
   ],
   "source": [
    "fpr, tpr, thresholds = roc_curve(y_test, clf0.decision_function(X_test))\n",
    "plt.plot(fpr, tpr, label=\"ROC Curve\")\n",
    "plt.xlabel(\"FPR - 0\")\n",
    "plt.ylabel(\"TPR (recall -1)\")\n",
    "# find threshold closest to zero\n",
    "close_zero = np.argmin(np.abs(thresholds))\n",
    "plt.plot(fpr[close_zero], tpr[close_zero], 'o', markersize=10,\n",
    "label=\"threshold zero\", fillstyle=\"none\", c='k', mew=2)\n",
    "plt.plot([0, 1], [0, 1], color='darkorange', lw=2, linestyle='--')\n",
    "plt.legend(loc=4)"
   ]
  },
  {
   "cell_type": "code",
   "execution_count": 45,
   "metadata": {},
   "outputs": [
    {
     "data": {
      "text/plain": [
       "0.7374298267024653"
      ]
     },
     "execution_count": 45,
     "metadata": {},
     "output_type": "execute_result"
    }
   ],
   "source": [
    "svc_auc = roc_auc_score(y_test, clf0.decision_function(X_test))\n",
    "svc_auc"
   ]
  },
  {
   "cell_type": "code",
   "execution_count": 46,
   "metadata": {},
   "outputs": [
    {
     "data": {
      "text/plain": [
       "<matplotlib.legend.Legend at 0x274d450c860>"
      ]
     },
     "execution_count": 46,
     "metadata": {},
     "output_type": "execute_result"
    },
    {
     "data": {
      "image/png": "[encoded data removed]",
      "text/plain": [
       "<Figure size 432x288 with 1 Axes>"
      ]
     },
     "metadata": {
      "needs_background": "light"
     },
     "output_type": "display_data"
    }
   ],
   "source": [
    "probas_ = clf0.fit(X_train, y_train).predict_proba(X_test)\n",
    "fpr, tpr, thresholds = roc_curve(y_test, probas_[:, 1])\n",
    "plt.plot(fpr, tpr, label=\"ROC Curve\")\n",
    "plt.xlabel(\"FPR - 0\")\n",
    "plt.ylabel(\"TPR (recall -1)\")\n",
    "# find threshold closest to zero\n",
    "close_zero = np.argmin(np.abs(thresholds))\n",
    "plt.plot(fpr[close_zero], tpr[close_zero], 'o', markersize=10,\n",
    "label=\"threshold zero\", fillstyle=\"none\", c='k', mew=2)\n",
    "plt.plot([0, 1], [0, 1], color='darkorange', lw=2, linestyle='--')\n",
    "plt.legend(loc=4)"
   ]
  },
  {
   "cell_type": "code",
   "execution_count": 47,
   "metadata": {},
   "outputs": [
    {
     "data": {
      "text/plain": [
       "0.7374298267024653"
      ]
     },
     "execution_count": 47,
     "metadata": {},
     "output_type": "execute_result"
    }
   ],
   "source": [
    "#### Area Bajo la Curva\n",
    "svc_auc = roc_auc_score(y_test, probas_[:, 1])\n",
    "svc_auc"
   ]
  },
  {
   "cell_type": "code",
   "execution_count": 48,
   "metadata": {},
   "outputs": [
    {
     "data": {
      "text/plain": [
       "<matplotlib.legend.Legend at 0x274d7529fd0>"
      ]
     },
     "execution_count": 48,
     "metadata": {},
     "output_type": "execute_result"
    },
    {
     "data": {
      "image/png": "[encoded data removed]",
      "text/plain": [
       "<Figure size 432x288 with 1 Axes>"
      ]
     },
     "metadata": {
      "needs_background": "light"
     },
     "output_type": "display_data"
    }
   ],
   "source": [
    "probas_ = abc.fit(X_train, y_train).predict_proba(X_test)\n",
    "fpr, tpr, thresholds = roc_curve(y_test, probas_[:, 1])\n",
    "plt.plot(fpr, tpr, label=\"ROC Curve\")\n",
    "plt.xlabel(\"FPR - 0\")\n",
    "plt.ylabel(\"TPR (recall -1)\")\n",
    "# find threshold closest to zero\n",
    "close_zero = np.argmin(np.abs(thresholds))\n",
    "plt.plot(fpr[close_zero], tpr[close_zero], 'o', markersize=10,\n",
    "label=\"threshold zero\", fillstyle=\"none\", c='k', mew=2)\n",
    "plt.plot([0, 1], [0, 1], color='darkorange', lw=2, linestyle='--')\n",
    "plt.legend(loc=4)"
   ]
  },
  {
   "cell_type": "code",
   "execution_count": 49,
   "metadata": {},
   "outputs": [
    {
     "data": {
      "text/plain": [
       "0.7673297534781547"
      ]
     },
     "execution_count": 49,
     "metadata": {},
     "output_type": "execute_result"
    }
   ],
   "source": [
    "#### Area Bajo la Curva\n",
    "svc_auc = roc_auc_score(y_test, probas_[:, 1])\n",
    "svc_auc"
   ]
  },
  {
   "cell_type": "markdown",
   "metadata": {},
   "source": [
    "## o\tEn general los algoritmos empleados con AdaBoost (svc, DecisionTreeClassifier), dan un buen desempeño para la clase negativa mayoritaria.\n",
    "### SVM con balanceo de clases es mas costosa computacionalmente\n",
    "### Cuando se usa las medidas de decisión retornadas por la función \"decision_function\" el umbral cero \"threshold zero\" se encuentra en el punto cero (0), por el desbalanceo de clases y malos indicadores para la clase positiva, por lo cual es conveniente usar la probabilidad estimada de la clase positiva (1)    \n",
    "### En comparación RandomForest y  AdaBoost para  este caso tienen métricas similares ,  tal vez con un mejor ajuste para AdaBoost con svc kernel lineal y clases balanceadas con una área Bajo la curva ROC de 0.767, en comparación a 0.713 con RandomForest."
   ]
  },
  {
   "cell_type": "code",
   "execution_count": null,
   "metadata": {},
   "outputs": [],
   "source": []
  }
 ],
 "metadata": {
  "kernelspec": {
   "display_name": "Python 3",
   "language": "python",
   "name": "python3"
  },
  "language_info": {
   "codemirror_mode": {
    "name": "ipython",
    "version": 3
   },
   "file_extension": ".py",
   "mimetype": "text/x-python",
   "name": "python",
   "nbconvert_exporter": "python",
   "pygments_lexer": "ipython3",
   "version": "3.7.3"
  }
 },
 "nbformat": 4,
 "nbformat_minor": 2
}
