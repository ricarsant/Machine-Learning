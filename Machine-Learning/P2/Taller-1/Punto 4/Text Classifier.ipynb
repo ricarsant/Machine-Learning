{
 "cells": [
  {
   "cell_type": "markdown",
   "metadata": {},
   "source": [
    "# Punto 1 - Taller 1\n",
    "\n",
    "<b>Desarrolldo Por:</b>\n",
    "* Juan Camilo\n",
    "* Diego\n",
    "* Ricardo"
   ]
  },
  {
   "cell_type": "code",
   "execution_count": 1,
   "metadata": {},
   "outputs": [],
   "source": [
    "import pandas as pd\n",
    "import numpy as np\n",
    "import datetime\n",
    "import pandas_profiling \n",
    "import matplotlib.pyplot as plt\n",
    "%matplotlib inline\n",
    "import seaborn as sns\n",
    "from mpl_toolkits.axes_grid1.axes_divider import make_axes_locatable\n",
    "from mpl_toolkits.axes_grid1.colorbar import colorbar\n",
    "\n",
    "from sklearn.model_selection import train_test_split\n",
    "from sklearn.model_selection import GridSearchCV\n",
    "from sklearn.feature_extraction.text import TfidfVectorizer\n",
    "from sklearn.metrics import classification_report, confusion_matrix\n",
    "from sklearn.pipeline import Pipeline\n",
    "from sklearn.preprocessing import LabelEncoder\n",
    "from sklearn.utils.multiclass import unique_labels\n",
    "\n",
    "from sklearn.naive_bayes import GaussianNB\n",
    "from sklearn.naive_bayes import BernoulliNB\n",
    "from sklearn.naive_bayes import MultinomialNB\n",
    "\n",
    "# Procesamiento del lenguaje Natural\n",
    "import re\n",
    "import nltk\n",
    "from nltk.tokenize import word_tokenize\n",
    "from nltk.tag import pos_tag\n",
    "from nltk.corpus import stopwords\n",
    "from nltk.stem import PorterStemmer\n",
    "from nltk.stem.snowball import SnowballStemmer"
   ]
  },
  {
   "cell_type": "code",
   "execution_count": 2,
   "metadata": {},
   "outputs": [],
   "source": [
    "def plot_matriz_confusion(y_test, y_pred):\n",
    "    array = confusion_matrix(y_test, y_pred)\n",
    "    filas = array.shape[0]\n",
    "    colunas = array.shape[1]\n",
    "    df_cm = pd.DataFrame(array, index = [i for i in range(filas)],\n",
    "                  columns = [i for i in range(colunas)])\n",
    "    plt.figure(figsize = (8,4))\n",
    "    sns.set(font_scale=1.2)\n",
    "    sns.heatmap(df_cm, annot=True,fmt='g')\n",
    "    \n",
    "def plot_confusion_matrix(y_true, y_pred, classes,\n",
    "                          normalize=False,\n",
    "                          title=None,\n",
    "                          cmap=plt.cm.Blues):\n",
    "    \"\"\"\n",
    "    This function prints and plots the confusion matrix.\n",
    "    Normalization can be applied by setting `normalize=True`.\n",
    "    \"\"\"\n",
    "    if not title:\n",
    "        if normalize:\n",
    "            title = 'Normalized confusion matrix'\n",
    "        else:\n",
    "            title = 'Confusion matrix, without normalization'\n",
    "\n",
    "    # Compute confusion matrix\n",
    "    cm = confusion_matrix(y_true, y_pred)\n",
    "    # Only use the labels that appear in the data\n",
    "    classes = classes[unique_labels(y_true, y_pred)]\n",
    "    if normalize:\n",
    "        cm = cm.astype('float') / cm.sum(axis=1)[:, np.newaxis]\n",
    "        print(\"Normalized confusion matrix\")\n",
    "    else:\n",
    "        print('Confusion matrix, without normalization')\n",
    "\n",
    "    fig, ax = plt.subplots(figsize=(8,6))\n",
    "    im = ax.imshow(cm, interpolation='nearest', cmap=cmap)\n",
    "    ax.figure.colorbar(im, ax=ax)\n",
    "    # We want to show all ticks...\n",
    "    ax.set(xticks=np.arange(cm.shape[1]),\n",
    "           yticks=np.arange(cm.shape[0]),\n",
    "           # ... and label them with the respective list entries\n",
    "           xticklabels=classes, yticklabels=classes,\n",
    "           title=title,\n",
    "           ylabel='True label',\n",
    "           xlabel='Predicted label')\n",
    "\n",
    "    # Rotate the tick labels and set their alignment.\n",
    "    plt.setp(ax.get_xticklabels(), rotation=45, ha=\"right\",\n",
    "             rotation_mode=\"anchor\")\n",
    "\n",
    "    # Loop over data dimensions and create text annotations.\n",
    "    fmt = '.2f' if normalize else 'd'\n",
    "    thresh = cm.max() / 2.\n",
    "    for i in range(cm.shape[0]):\n",
    "        for j in range(cm.shape[1]):\n",
    "            ax.text(j, i, format(cm[i, j], fmt),\n",
    "                    ha=\"center\", va=\"center\",\n",
    "                    color=\"white\" if cm[i, j] > thresh else \"black\")\n",
    "    fig.tight_layout()\n",
    "    return ax"
   ]
  },
  {
   "cell_type": "code",
   "execution_count": 3,
   "metadata": {},
   "outputs": [],
   "source": [
    "def make_report(estimator,X_test,y_test, classes):\n",
    "    y_pred = estimator.predict(X_test)\n",
    "    plot_confusion_matrix(y_test, y_pred, classes)\n",
    "    #plot_matriz_confusion(y_test, y_pred)\n",
    "    report = classification_report(y_test, y_pred, output_dict=True)\n",
    "    df_report = pd.DataFrame(report).transpose()\n",
    "    df_report[\"accuracy\"] = estimator.score(X_test, y_test)\n",
    "    return df_report.iloc[:5,:]"
   ]
  },
  {
   "cell_type": "markdown",
   "metadata": {},
   "source": [
    "## 1. Carga del Dataset"
   ]
  },
  {
   "cell_type": "markdown",
   "metadata": {},
   "source": [
    "## - Carga del conjunto de datos"
   ]
  },
  {
   "cell_type": "code",
   "execution_count": 4,
   "metadata": {},
   "outputs": [],
   "source": [
    "df = pd.read_csv(\"Documentos_proyectos.csv\", sep =\",\", encoding=\"latin\")\n",
    "df.rename({\"TEXTO;;;;;;;\":\"TEXTO\"},axis = 1, inplace=True)\n",
    "df[\"TEXTO\"] = df[\"TEXTO\"].apply(lambda x: x.replace(\";;;;;;;\",\"\"))"
   ]
  },
  {
   "cell_type": "markdown",
   "metadata": {},
   "source": [
    "Debido a la codiicación empleada para el conjunto de datos, el valor del parametro encoding debe ser \"latin\". "
   ]
  },
  {
   "cell_type": "code",
   "execution_count": 5,
   "metadata": {},
   "outputs": [
    {
     "data": {
      "text/plain": [
       "<bound method NDFrame.head of                                                MENCION  \\\n",
       "0                                APLICACIONES INTERNET   \n",
       "1                                APLICACIONES INTERNET   \n",
       "2                                APLICACIONES INTERNET   \n",
       "3                                APLICACIONES INTERNET   \n",
       "4                                APLICACIONES INTERNET   \n",
       "..                                                 ...   \n",
       "220  TECNOLOGIAS EN COMUNICACIONES Y REDES DE COMPU...   \n",
       "221  TECNOLOGIAS EN COMUNICACIONES Y REDES DE COMPU...   \n",
       "222  TECNOLOGIAS EN COMUNICACIONES Y REDES DE COMPU...   \n",
       "223  TECNOLOGIAS EN COMUNICACIONES Y REDES DE COMPU...   \n",
       "224  TECNOLOGIAS EN COMUNICACIONES Y REDES DE COMPU...   \n",
       "\n",
       "                                                 TEXTO  \n",
       "0    ACTUALIZACIÓN TECNOLÓGICA PARA EL INSTITUTO NA...  \n",
       "1    CATÁLOGOS INTELIGENTES: UNA HERRAMIENTA PARA L...  \n",
       "2    CENTRALIZACIÓN Y ESTANDARIZACIÓN DE LA AUTENTI...  \n",
       "3    CONSTRUCCIÓN DE UNA APLICACIÓN WEB BAJO LA ARQ...  \n",
       "4    DESARROLLO DE LA APLICACIÓN DE GESTIÓN ACADÉMI...  \n",
       "..                                                 ...  \n",
       "220  SISTEMA AUTOMATIZADO PARA LA GESTIÓN DE SOLICI...  \n",
       "221  SISTEMA DE AUTENTICACIÓN SIGILOSA CON TERMINAL...  \n",
       "222  SISTEMA DE GESTIÓN DE SERVICIOS DE RESERVACIÓN...  \n",
       "223  UNA APLICACIÓN DE SEGURIDAD PARA EL LABORATORI...  \n",
       "224  WRADVS: UN SERVIDOR DE AUTOCONFIGURACIÓN SIN E...  \n",
       "\n",
       "[225 rows x 2 columns]>"
      ]
     },
     "execution_count": 5,
     "metadata": {},
     "output_type": "execute_result"
    }
   ],
   "source": [
    "df.head"
   ]
  },
  {
   "cell_type": "markdown",
   "metadata": {},
   "source": [
    "## - Carga del Diccionario de Palabras"
   ]
  },
  {
   "cell_type": "code",
   "execution_count": 6,
   "metadata": {
    "scrolled": true
   },
   "outputs": [
    {
     "data": {
      "text/plain": [
       "345"
      ]
     },
     "execution_count": 6,
     "metadata": {},
     "output_type": "execute_result"
    }
   ],
   "source": [
    "df_stops = pd.read_table(\"DiccionarioPalabrasVacias.txt\")\n",
    "otras_stopwords = df_stops[\"STOP_WORDS\"].values\n",
    "len(otras_stopwords)"
   ]
  },
  {
   "cell_type": "markdown",
   "metadata": {},
   "source": [
    "## 2. Exploración Inicial"
   ]
  },
  {
   "cell_type": "code",
   "execution_count": 7,
   "metadata": {},
   "outputs": [
    {
     "data": {
      "text/html": [
       "<div>\n",
       "<style scoped>\n",
       "    .dataframe tbody tr th:only-of-type {\n",
       "        vertical-align: middle;\n",
       "    }\n",
       "\n",
       "    .dataframe tbody tr th {\n",
       "        vertical-align: top;\n",
       "    }\n",
       "\n",
       "    .dataframe thead th {\n",
       "        text-align: right;\n",
       "    }\n",
       "</style>\n",
       "<table border=\"1\" class=\"dataframe\">\n",
       "  <thead>\n",
       "    <tr style=\"text-align: right;\">\n",
       "      <th></th>\n",
       "      <th>MENCION</th>\n",
       "      <th>TEXTO</th>\n",
       "    </tr>\n",
       "  </thead>\n",
       "  <tbody>\n",
       "    <tr>\n",
       "      <td>0</td>\n",
       "      <td>APLICACIONES INTERNET</td>\n",
       "      <td>ACTUALIZACIÓN TECNOLÓGICA PARA EL INSTITUTO NA...</td>\n",
       "    </tr>\n",
       "    <tr>\n",
       "      <td>1</td>\n",
       "      <td>APLICACIONES INTERNET</td>\n",
       "      <td>CATÁLOGOS INTELIGENTES: UNA HERRAMIENTA PARA L...</td>\n",
       "    </tr>\n",
       "    <tr>\n",
       "      <td>2</td>\n",
       "      <td>APLICACIONES INTERNET</td>\n",
       "      <td>CENTRALIZACIÓN Y ESTANDARIZACIÓN DE LA AUTENTI...</td>\n",
       "    </tr>\n",
       "    <tr>\n",
       "      <td>3</td>\n",
       "      <td>APLICACIONES INTERNET</td>\n",
       "      <td>CONSTRUCCIÓN DE UNA APLICACIÓN WEB BAJO LA ARQ...</td>\n",
       "    </tr>\n",
       "    <tr>\n",
       "      <td>4</td>\n",
       "      <td>APLICACIONES INTERNET</td>\n",
       "      <td>DESARROLLO DE LA APLICACIÓN DE GESTIÓN ACADÉMI...</td>\n",
       "    </tr>\n",
       "  </tbody>\n",
       "</table>\n",
       "</div>"
      ],
      "text/plain": [
       "                 MENCION                                              TEXTO\n",
       "0  APLICACIONES INTERNET  ACTUALIZACIÓN TECNOLÓGICA PARA EL INSTITUTO NA...\n",
       "1  APLICACIONES INTERNET  CATÁLOGOS INTELIGENTES: UNA HERRAMIENTA PARA L...\n",
       "2  APLICACIONES INTERNET  CENTRALIZACIÓN Y ESTANDARIZACIÓN DE LA AUTENTI...\n",
       "3  APLICACIONES INTERNET  CONSTRUCCIÓN DE UNA APLICACIÓN WEB BAJO LA ARQ...\n",
       "4  APLICACIONES INTERNET  DESARROLLO DE LA APLICACIÓN DE GESTIÓN ACADÉMI..."
      ]
     },
     "execution_count": 7,
     "metadata": {},
     "output_type": "execute_result"
    }
   ],
   "source": [
    "df.head()"
   ]
  },
  {
   "cell_type": "code",
   "execution_count": 8,
   "metadata": {
    "scrolled": true
   },
   "outputs": [
    {
     "name": "stdout",
     "output_type": "stream",
     "text": [
      "<class 'pandas.core.frame.DataFrame'>\n",
      "RangeIndex: 225 entries, 0 to 224\n",
      "Data columns (total 2 columns):\n",
      "MENCION    225 non-null object\n",
      "TEXTO      225 non-null object\n",
      "dtypes: object(2)\n",
      "memory usage: 3.6+ KB\n"
     ]
    }
   ],
   "source": [
    "df.info()"
   ]
  },
  {
   "cell_type": "markdown",
   "metadata": {},
   "source": [
    "## - Inspección de la proporción de las Clases"
   ]
  },
  {
   "cell_type": "code",
   "execution_count": 9,
   "metadata": {
    "scrolled": false
   },
   "outputs": [
    {
     "name": "stdout",
     "output_type": "stream",
     "text": [
      "BASE DE DATOS                                            57\n",
      "APLICACIONES INTERNET                                    56\n",
      "TECNOLOGIAS EN COMUNICACIONES Y REDES DE COMPUTADORAS    51\n",
      "INTELIGENCIA ARTIFICIAL                                  46\n",
      "SISTEMAS DE INFORMACION                                  15\n",
      "Name: MENCION, dtype: int64\n"
     ]
    },
    {
     "data": {
      "image/png": "[encoded data removed]",
      "text/plain": [
       "<Figure size 432x288 with 1 Axes>"
      ]
     },
     "metadata": {
      "needs_background": "light"
     },
     "output_type": "display_data"
    }
   ],
   "source": [
    "print(df[\"MENCION\"].value_counts())\n",
    "df[\"MENCION\"].value_counts().plot(kind=\"barh\");"
   ]
  },
  {
   "cell_type": "code",
   "execution_count": 10,
   "metadata": {},
   "outputs": [
    {
     "ename": "TypeError",
     "evalue": "ufunc 'true_divide' not supported for the input types, and the inputs could not be safely coerced to any supported types according to the casting rule ''safe''",
     "output_type": "error",
     "traceback": [
      "\u001b[1;31m---------------------------------------------------------------------------\u001b[0m",
      "\u001b[1;31mTypeError\u001b[0m                                 Traceback (most recent call last)",
      "\u001b[1;32m~\\Anaconda3\\lib\\site-packages\\pandas\\core\\ops\\__init__.py\u001b[0m in \u001b[0;36mna_op\u001b[1;34m(x, y)\u001b[0m\n\u001b[0;32m    967\u001b[0m         \u001b[1;32mtry\u001b[0m\u001b[1;33m:\u001b[0m\u001b[1;33m\u001b[0m\u001b[1;33m\u001b[0m\u001b[0m\n\u001b[1;32m--> 968\u001b[1;33m             \u001b[0mresult\u001b[0m \u001b[1;33m=\u001b[0m \u001b[0mexpressions\u001b[0m\u001b[1;33m.\u001b[0m\u001b[0mevaluate\u001b[0m\u001b[1;33m(\u001b[0m\u001b[0mop\u001b[0m\u001b[1;33m,\u001b[0m \u001b[0mstr_rep\u001b[0m\u001b[1;33m,\u001b[0m \u001b[0mx\u001b[0m\u001b[1;33m,\u001b[0m \u001b[0my\u001b[0m\u001b[1;33m,\u001b[0m \u001b[1;33m**\u001b[0m\u001b[0meval_kwargs\u001b[0m\u001b[1;33m)\u001b[0m\u001b[1;33m\u001b[0m\u001b[1;33m\u001b[0m\u001b[0m\n\u001b[0m\u001b[0;32m    969\u001b[0m         \u001b[1;32mexcept\u001b[0m \u001b[0mTypeError\u001b[0m\u001b[1;33m:\u001b[0m\u001b[1;33m\u001b[0m\u001b[1;33m\u001b[0m\u001b[0m\n",
      "\u001b[1;32m~\\Anaconda3\\lib\\site-packages\\pandas\\core\\computation\\expressions.py\u001b[0m in \u001b[0;36mevaluate\u001b[1;34m(op, op_str, a, b, use_numexpr, **eval_kwargs)\u001b[0m\n\u001b[0;32m    220\u001b[0m     \u001b[1;32mif\u001b[0m \u001b[0muse_numexpr\u001b[0m\u001b[1;33m:\u001b[0m\u001b[1;33m\u001b[0m\u001b[1;33m\u001b[0m\u001b[0m\n\u001b[1;32m--> 221\u001b[1;33m         \u001b[1;32mreturn\u001b[0m \u001b[0m_evaluate\u001b[0m\u001b[1;33m(\u001b[0m\u001b[0mop\u001b[0m\u001b[1;33m,\u001b[0m \u001b[0mop_str\u001b[0m\u001b[1;33m,\u001b[0m \u001b[0ma\u001b[0m\u001b[1;33m,\u001b[0m \u001b[0mb\u001b[0m\u001b[1;33m,\u001b[0m \u001b[1;33m**\u001b[0m\u001b[0meval_kwargs\u001b[0m\u001b[1;33m)\u001b[0m\u001b[1;33m\u001b[0m\u001b[1;33m\u001b[0m\u001b[0m\n\u001b[0m\u001b[0;32m    222\u001b[0m     \u001b[1;32mreturn\u001b[0m \u001b[0m_evaluate_standard\u001b[0m\u001b[1;33m(\u001b[0m\u001b[0mop\u001b[0m\u001b[1;33m,\u001b[0m \u001b[0mop_str\u001b[0m\u001b[1;33m,\u001b[0m \u001b[0ma\u001b[0m\u001b[1;33m,\u001b[0m \u001b[0mb\u001b[0m\u001b[1;33m)\u001b[0m\u001b[1;33m\u001b[0m\u001b[1;33m\u001b[0m\u001b[0m\n",
      "\u001b[1;32m~\\Anaconda3\\lib\\site-packages\\pandas\\core\\computation\\expressions.py\u001b[0m in \u001b[0;36m_evaluate_numexpr\u001b[1;34m(op, op_str, a, b, truediv, reversed, **eval_kwargs)\u001b[0m\n\u001b[0;32m    126\u001b[0m     \u001b[1;32mif\u001b[0m \u001b[0mresult\u001b[0m \u001b[1;32mis\u001b[0m \u001b[1;32mNone\u001b[0m\u001b[1;33m:\u001b[0m\u001b[1;33m\u001b[0m\u001b[1;33m\u001b[0m\u001b[0m\n\u001b[1;32m--> 127\u001b[1;33m         \u001b[0mresult\u001b[0m \u001b[1;33m=\u001b[0m \u001b[0m_evaluate_standard\u001b[0m\u001b[1;33m(\u001b[0m\u001b[0mop\u001b[0m\u001b[1;33m,\u001b[0m \u001b[0mop_str\u001b[0m\u001b[1;33m,\u001b[0m \u001b[0ma\u001b[0m\u001b[1;33m,\u001b[0m \u001b[0mb\u001b[0m\u001b[1;33m)\u001b[0m\u001b[1;33m\u001b[0m\u001b[1;33m\u001b[0m\u001b[0m\n\u001b[0m\u001b[0;32m    128\u001b[0m \u001b[1;33m\u001b[0m\u001b[0m\n",
      "\u001b[1;32m~\\Anaconda3\\lib\\site-packages\\pandas\\core\\computation\\expressions.py\u001b[0m in \u001b[0;36m_evaluate_standard\u001b[1;34m(op, op_str, a, b, **eval_kwargs)\u001b[0m\n\u001b[0;32m     69\u001b[0m     \u001b[1;32mwith\u001b[0m \u001b[0mnp\u001b[0m\u001b[1;33m.\u001b[0m\u001b[0merrstate\u001b[0m\u001b[1;33m(\u001b[0m\u001b[0mall\u001b[0m\u001b[1;33m=\u001b[0m\u001b[1;34m\"ignore\"\u001b[0m\u001b[1;33m)\u001b[0m\u001b[1;33m:\u001b[0m\u001b[1;33m\u001b[0m\u001b[1;33m\u001b[0m\u001b[0m\n\u001b[1;32m---> 70\u001b[1;33m         \u001b[1;32mreturn\u001b[0m \u001b[0mop\u001b[0m\u001b[1;33m(\u001b[0m\u001b[0ma\u001b[0m\u001b[1;33m,\u001b[0m \u001b[0mb\u001b[0m\u001b[1;33m)\u001b[0m\u001b[1;33m\u001b[0m\u001b[1;33m\u001b[0m\u001b[0m\n\u001b[0m\u001b[0;32m     71\u001b[0m \u001b[1;33m\u001b[0m\u001b[0m\n",
      "\u001b[1;31mTypeError\u001b[0m: ufunc 'true_divide' not supported for the input types, and the inputs could not be safely coerced to any supported types according to the casting rule ''safe''",
      "\nDuring handling of the above exception, another exception occurred:\n",
      "\u001b[1;31mTypeError\u001b[0m                                 Traceback (most recent call last)",
      "\u001b[1;32m<ipython-input-10-613b7a8bb272>\u001b[0m in \u001b[0;36m<module>\u001b[1;34m\u001b[0m\n\u001b[1;32m----> 1\u001b[1;33m \u001b[0mprint\u001b[0m\u001b[1;33m(\u001b[0m\u001b[0mdf\u001b[0m\u001b[1;33m[\u001b[0m\u001b[1;34m\"MENCION\"\u001b[0m\u001b[1;33m]\u001b[0m\u001b[1;33m.\u001b[0m\u001b[0mvalue_counts\u001b[0m\u001b[1;33m(\u001b[0m\u001b[1;33m)\u001b[0m\u001b[1;33m/\u001b[0m\u001b[0mdf\u001b[0m\u001b[1;33m[\u001b[0m\u001b[1;34m\"MENCION\"\u001b[0m\u001b[1;33m]\u001b[0m\u001b[1;33m.\u001b[0m\u001b[0msum\u001b[0m\u001b[1;33m(\u001b[0m\u001b[1;33m)\u001b[0m\u001b[1;33m)\u001b[0m\u001b[1;33m\u001b[0m\u001b[1;33m\u001b[0m\u001b[0m\n\u001b[0m",
      "\u001b[1;32m~\\Anaconda3\\lib\\site-packages\\pandas\\core\\ops\\__init__.py\u001b[0m in \u001b[0;36mwrapper\u001b[1;34m(left, right)\u001b[0m\n\u001b[0;32m   1046\u001b[0m \u001b[1;33m\u001b[0m\u001b[0m\n\u001b[0;32m   1047\u001b[0m         \u001b[1;32mwith\u001b[0m \u001b[0mnp\u001b[0m\u001b[1;33m.\u001b[0m\u001b[0merrstate\u001b[0m\u001b[1;33m(\u001b[0m\u001b[0mall\u001b[0m\u001b[1;33m=\u001b[0m\u001b[1;34m\"ignore\"\u001b[0m\u001b[1;33m)\u001b[0m\u001b[1;33m:\u001b[0m\u001b[1;33m\u001b[0m\u001b[1;33m\u001b[0m\u001b[0m\n\u001b[1;32m-> 1048\u001b[1;33m             \u001b[0mresult\u001b[0m \u001b[1;33m=\u001b[0m \u001b[0mna_op\u001b[0m\u001b[1;33m(\u001b[0m\u001b[0mlvalues\u001b[0m\u001b[1;33m,\u001b[0m \u001b[0mrvalues\u001b[0m\u001b[1;33m)\u001b[0m\u001b[1;33m\u001b[0m\u001b[1;33m\u001b[0m\u001b[0m\n\u001b[0m\u001b[0;32m   1049\u001b[0m         return construct_result(\n\u001b[0;32m   1050\u001b[0m             \u001b[0mleft\u001b[0m\u001b[1;33m,\u001b[0m \u001b[0mresult\u001b[0m\u001b[1;33m,\u001b[0m \u001b[0mindex\u001b[0m\u001b[1;33m=\u001b[0m\u001b[0mleft\u001b[0m\u001b[1;33m.\u001b[0m\u001b[0mindex\u001b[0m\u001b[1;33m,\u001b[0m \u001b[0mname\u001b[0m\u001b[1;33m=\u001b[0m\u001b[0mres_name\u001b[0m\u001b[1;33m,\u001b[0m \u001b[0mdtype\u001b[0m\u001b[1;33m=\u001b[0m\u001b[1;32mNone\u001b[0m\u001b[1;33m\u001b[0m\u001b[1;33m\u001b[0m\u001b[0m\n",
      "\u001b[1;32m~\\Anaconda3\\lib\\site-packages\\pandas\\core\\ops\\__init__.py\u001b[0m in \u001b[0;36mna_op\u001b[1;34m(x, y)\u001b[0m\n\u001b[0;32m    968\u001b[0m             \u001b[0mresult\u001b[0m \u001b[1;33m=\u001b[0m \u001b[0mexpressions\u001b[0m\u001b[1;33m.\u001b[0m\u001b[0mevaluate\u001b[0m\u001b[1;33m(\u001b[0m\u001b[0mop\u001b[0m\u001b[1;33m,\u001b[0m \u001b[0mstr_rep\u001b[0m\u001b[1;33m,\u001b[0m \u001b[0mx\u001b[0m\u001b[1;33m,\u001b[0m \u001b[0my\u001b[0m\u001b[1;33m,\u001b[0m \u001b[1;33m**\u001b[0m\u001b[0meval_kwargs\u001b[0m\u001b[1;33m)\u001b[0m\u001b[1;33m\u001b[0m\u001b[1;33m\u001b[0m\u001b[0m\n\u001b[0;32m    969\u001b[0m         \u001b[1;32mexcept\u001b[0m \u001b[0mTypeError\u001b[0m\u001b[1;33m:\u001b[0m\u001b[1;33m\u001b[0m\u001b[1;33m\u001b[0m\u001b[0m\n\u001b[1;32m--> 970\u001b[1;33m             \u001b[0mresult\u001b[0m \u001b[1;33m=\u001b[0m \u001b[0mmasked_arith_op\u001b[0m\u001b[1;33m(\u001b[0m\u001b[0mx\u001b[0m\u001b[1;33m,\u001b[0m \u001b[0my\u001b[0m\u001b[1;33m,\u001b[0m \u001b[0mop\u001b[0m\u001b[1;33m)\u001b[0m\u001b[1;33m\u001b[0m\u001b[1;33m\u001b[0m\u001b[0m\n\u001b[0m\u001b[0;32m    971\u001b[0m \u001b[1;33m\u001b[0m\u001b[0m\n\u001b[0;32m    972\u001b[0m         \u001b[1;32mreturn\u001b[0m \u001b[0mmissing\u001b[0m\u001b[1;33m.\u001b[0m\u001b[0mdispatch_fill_zeros\u001b[0m\u001b[1;33m(\u001b[0m\u001b[0mop\u001b[0m\u001b[1;33m,\u001b[0m \u001b[0mx\u001b[0m\u001b[1;33m,\u001b[0m \u001b[0my\u001b[0m\u001b[1;33m,\u001b[0m \u001b[0mresult\u001b[0m\u001b[1;33m)\u001b[0m\u001b[1;33m\u001b[0m\u001b[1;33m\u001b[0m\u001b[0m\n",
      "\u001b[1;32m~\\Anaconda3\\lib\\site-packages\\pandas\\core\\ops\\__init__.py\u001b[0m in \u001b[0;36mmasked_arith_op\u001b[1;34m(x, y, op)\u001b[0m\n\u001b[0;32m    462\u001b[0m         \u001b[1;32mif\u001b[0m \u001b[0mmask\u001b[0m\u001b[1;33m.\u001b[0m\u001b[0many\u001b[0m\u001b[1;33m(\u001b[0m\u001b[1;33m)\u001b[0m\u001b[1;33m:\u001b[0m\u001b[1;33m\u001b[0m\u001b[1;33m\u001b[0m\u001b[0m\n\u001b[0;32m    463\u001b[0m             \u001b[1;32mwith\u001b[0m \u001b[0mnp\u001b[0m\u001b[1;33m.\u001b[0m\u001b[0merrstate\u001b[0m\u001b[1;33m(\u001b[0m\u001b[0mall\u001b[0m\u001b[1;33m=\u001b[0m\u001b[1;34m\"ignore\"\u001b[0m\u001b[1;33m)\u001b[0m\u001b[1;33m:\u001b[0m\u001b[1;33m\u001b[0m\u001b[1;33m\u001b[0m\u001b[0m\n\u001b[1;32m--> 464\u001b[1;33m                 \u001b[0mresult\u001b[0m\u001b[1;33m[\u001b[0m\u001b[0mmask\u001b[0m\u001b[1;33m]\u001b[0m \u001b[1;33m=\u001b[0m \u001b[0mop\u001b[0m\u001b[1;33m(\u001b[0m\u001b[0mxrav\u001b[0m\u001b[1;33m[\u001b[0m\u001b[0mmask\u001b[0m\u001b[1;33m]\u001b[0m\u001b[1;33m,\u001b[0m \u001b[0my\u001b[0m\u001b[1;33m)\u001b[0m\u001b[1;33m\u001b[0m\u001b[1;33m\u001b[0m\u001b[0m\n\u001b[0m\u001b[0;32m    465\u001b[0m \u001b[1;33m\u001b[0m\u001b[0m\n\u001b[0;32m    466\u001b[0m     \u001b[0mresult\u001b[0m\u001b[1;33m,\u001b[0m \u001b[0mchanged\u001b[0m \u001b[1;33m=\u001b[0m \u001b[0mmaybe_upcast_putmask\u001b[0m\u001b[1;33m(\u001b[0m\u001b[0mresult\u001b[0m\u001b[1;33m,\u001b[0m \u001b[1;33m~\u001b[0m\u001b[0mmask\u001b[0m\u001b[1;33m,\u001b[0m \u001b[0mnp\u001b[0m\u001b[1;33m.\u001b[0m\u001b[0mnan\u001b[0m\u001b[1;33m)\u001b[0m\u001b[1;33m\u001b[0m\u001b[1;33m\u001b[0m\u001b[0m\n",
      "\u001b[1;31mTypeError\u001b[0m: ufunc 'true_divide' not supported for the input types, and the inputs could not be safely coerced to any supported types according to the casting rule ''safe''"
     ]
    }
   ],
   "source": [
    "print(df[\"MENCION\"].value_counts()/df[\"MENCION\"].sum())"
   ]
  },
  {
   "cell_type": "markdown",
   "metadata": {},
   "source": [
    "Calramente existeun desbalance siginicatvo en entre la case \"SISTEMAS DE INFORMACIÓN\" y las demas clases."
   ]
  },
  {
   "cell_type": "markdown",
   "metadata": {},
   "source": [
    "## - Cambio de etiquetas"
   ]
  },
  {
   "cell_type": "code",
   "execution_count": 11,
   "metadata": {
    "scrolled": true
   },
   "outputs": [],
   "source": [
    "le = LabelEncoder()\n",
    "le.fit(df[\"MENCION\"].unique())\n",
    "df[\"MENCION\"] = le.transform(df[\"MENCION\"].values)"
   ]
  },
  {
   "cell_type": "code",
   "execution_count": 12,
   "metadata": {},
   "outputs": [
    {
     "data": {
      "text/plain": [
       "array(['APLICACIONES INTERNET', 'BASE DE DATOS',\n",
       "       'INTELIGENCIA ARTIFICIAL', 'SISTEMAS DE INFORMACION',\n",
       "       'TECNOLOGIAS EN COMUNICACIONES Y REDES DE COMPUTADORAS'],\n",
       "      dtype=object)"
      ]
     },
     "execution_count": 12,
     "metadata": {},
     "output_type": "execute_result"
    }
   ],
   "source": [
    "etiquetas = np.array([0,1,2,3,4])\n",
    "etiquetas = le.inverse_transform(etiquetas)\n",
    "etiquetas"
   ]
  },
  {
   "cell_type": "markdown",
   "metadata": {},
   "source": [
    "---"
   ]
  },
  {
   "cell_type": "markdown",
   "metadata": {},
   "source": [
    "## - Definición de: X & y"
   ]
  },
  {
   "cell_type": "code",
   "execution_count": 13,
   "metadata": {},
   "outputs": [],
   "source": [
    "X = df[\"TEXTO\"]\n",
    "y = df[\"MENCION\"]"
   ]
  },
  {
   "cell_type": "markdown",
   "metadata": {},
   "source": [
    "## - Train-Test Estratificada "
   ]
  },
  {
   "cell_type": "code",
   "execution_count": 14,
   "metadata": {},
   "outputs": [],
   "source": [
    "X_train, X_test, y_train, y_test = train_test_split(X, y, stratify = y, test_size=0.2, random_state=42)"
   ]
  },
  {
   "cell_type": "markdown",
   "metadata": {},
   "source": [
    "## - Creación de Clase Vectorizador \n",
    "<b>Objetivo:</b> Desarrollar el preprocesamiento y transformación de la misma forma que lo hace sklearn y poder ejecutar los procesos de transformación al interior de un \"Pipeline\"."
   ]
  },
  {
   "cell_type": "code",
   "execution_count": 15,
   "metadata": {},
   "outputs": [
    {
     "data": {
      "text/plain": [
       "12     DESARROLLO DE UN SISTEMA WEB PARA LA ADMINISTR...\n",
       "45     METODOLOGÍA PARA LA AUDITORÍA DE SEGURIDAD DE ...\n",
       "11     DESARROLLO DE UN SISTEMA WEB DE GESTIÓN  CONTR...\n",
       "127    HERRAMIENTA DE MINERÍA DE DATOS: PROTOTIPO DEL...\n",
       "44     IMPLEMENTACIÓN Y ESPECIFICACIÓN DE UNA HERRAMI...\n",
       "Name: TEXTO, dtype: object"
      ]
     },
     "execution_count": 15,
     "metadata": {},
     "output_type": "execute_result"
    }
   ],
   "source": [
    "X_train.head()"
   ]
  },
  {
   "cell_type": "code",
   "execution_count": 16,
   "metadata": {},
   "outputs": [],
   "source": [
    "from sklearn.base import BaseEstimator, TransformerMixin\n",
    "import re\n",
    "import nltk\n",
    "from nltk.tokenize import word_tokenize\n",
    "from nltk.tag import pos_tag\n",
    "from nltk.corpus import stopwords\n",
    "from nltk.stem.snowball import SnowballStemmer\n",
    "from sklearn.pipeline import Pipeline\n",
    "from sklearn.feature_extraction.text import TfidfVectorizer\n",
    "\n",
    "class MiVectorizador(BaseEstimator, TransformerMixin):\n",
    "    \"\"\"\n",
    "    Desarrollada por:\n",
    "        Juan Camilo Cática\n",
    "    \n",
    "    Esta clase permite trasformar colecciones de textos al formato vectorial que se define a \n",
    "    través de los parametros del método constructor.\n",
    "    \n",
    "    Esta clase desarrolla lematización por defecto sobre el conjunto de datos (Textos)\n",
    "    \"\"\"\n",
    "    \n",
    "    def __init__(self, tipo_vectores, idioma=\"spanish\", stop_words_lem = False , add_stop_words =list()):\n",
    "        \"\"\"\n",
    "        Iniialización de la clase \"Vectorizador\", la cual permite trasformar colecciones de textos al formato\n",
    "        vectorial que se define a través de los parametros de este método.\n",
    "        \n",
    "        --------------------\n",
    "        \n",
    "        :Parametros\n",
    "        \n",
    "            - tipo_vetores: \"binario\", \"gauss\", \"multinomial\"\n",
    "                \"binario\": Durante la trasformación se generan vectores binarios de palabras en \n",
    "                           representación de la colección de documentos.\n",
    "                \n",
    "                \"gauss\": Durante la trasformación se generan vectores de palabras en representación \n",
    "                         de documentos bajo la aplicación de la técnica TF-IDF.\n",
    "                \n",
    "                \"multinomial\": Durante la trasformación se generan vectores de palabras en representación de\n",
    "                               los documentos por medio de fecuencias absolutas.\n",
    "                    \n",
    "            - idioma: str, default = \"spanish\"\n",
    "                Idioma del lematizador intacia de la clase SnowballStemmer.\n",
    "                Si el valor de idioma es igual a 'None' no se emplea lematización durante la tranformación.\n",
    "                \n",
    "            - stop_words_lem: True o False\n",
    "                Determina si se incluye o no el conjunto de stop_words del lematizador.\n",
    "                \n",
    "            - add_stop_words: list, defoult = list()\n",
    "                Este parametro recive la lista de stop_words que se adicionarán al conjuto de stop_words\n",
    "                nltk.corpus.stopwods.\n",
    "        \"\"\"\n",
    "        if tipo_vectores not in [\"binario\", \"gauss\", \"multinomial\"]:\n",
    "            raise Exception(\"\"\"Unicamente se aceptan los siguientes valores para el parametro 'tipo_vectores'\n",
    "                               'binario', 'gauss', 'multinomial'\"\"\")\n",
    "        \n",
    "        self.tipo_vectores = tipo_vectores\n",
    "        swnltk = set(stopwords.words(idioma)) if stop_words_lem else set()\n",
    "        swprop = set(add_stop_words) \n",
    "        self.stop_words = list(swnltk.union(swprop)) \n",
    "        self.idioma = idioma\n",
    "        self.lematizador = SnowballStemmer(idioma)\n",
    "        self.tfidfvect = None\n",
    "        \n",
    "    def _preprocesar(self, X):\n",
    "        \"\"\"\n",
    "        Este metodo se desarrolla en 6 estapas, las cuales son:\n",
    "         1. Conversion a minusculas de la colección de textos que llegan a través del parametro.\n",
    "         2. Eliminación de los signos de puntuación.\n",
    "         3. Tokenización.\n",
    "         4. Eliminación de stop words.\n",
    "         5. Lematización de las palabras.\n",
    "         6. Union de las palabras en una cadena de texto.\n",
    "         \n",
    "        --------------------\n",
    "        \n",
    "        :Parametros\n",
    "        \n",
    "            - X: list o DataFrame.Series\n",
    "                 Este parametro contiene una colección de los texto que se requieren procesar.\n",
    "        \n",
    "        --------------------\n",
    "        \n",
    "        Importante:\n",
    "        \n",
    "        La eliminación de las StopWords se desarrolla en la etapa 4 y no se emplea la eliminación \n",
    "        durante la creación del Objeto <b>vecorizer</b> de la clase <b>TfidfVectorizer</b>. \n",
    "\n",
    "        Se desarrolla esta eliminación por medio de la etapa 4 debido a que se puedo haber realizado\n",
    "        una unión entre el conjunto de stopwords entregadas a través del parametro \"add_stop_words\" junto\n",
    "        con aquellas que se encuentran diponibles en NLTK, por tanto <b>SnowballStemmer</b> (NLTK) \n",
    "        al momneto de lematizar ignorando las stopwords puede cometer errores con aquellas que vienen \n",
    "        junto definido por medio de \"add_stop_words\" en el método constructor.\n",
    "        \"\"\"\n",
    "        if type(X)==list:\n",
    "            X = pd.Series(X)\n",
    "        texto_preprocesado = X.apply(lambda x: x.lower())\n",
    "        texto_preprocesado = texto_preprocesado.apply(lambda x: re.sub(r'[^\\w\\s]','',x))\n",
    "        texto_preprocesado = texto_preprocesado.apply(lambda x: word_tokenize(x))\n",
    "        texto_preprocesado = texto_preprocesado.apply(lambda x: [w for w in x if w not in self.stop_words])\n",
    "        texto_preprocesado = texto_preprocesado.apply(lambda x: [self.lematizador.stem(i) for i in x])\n",
    "        texto_preprocesado = texto_preprocesado.apply(lambda x: \" \".join(x))\n",
    "        return texto_preprocesado\n",
    "    \n",
    "    def fit(self, X, y=None):\n",
    "        \"\"\"\n",
    "        Este metodo ejecuta crea la instancia de la clase \"TfidfVectorizer\" según se define a través de \n",
    "        los parametros de entrada del método constructor de esta clase.\n",
    "        \n",
    "        Posteriormente se ejecuta la etapa de preprocesamnto a través del método \"self._preprocesar\" y \n",
    "        se alimeta la instancia de la clase \"TfidfVectorizer\" previamente definida.\n",
    "        \n",
    "        --------------------\n",
    "        \n",
    "        :Parametros\n",
    "        \n",
    "            - X: list o DataFrame.Series\n",
    "                 Este parametro contiene una colección de los texto que se requieren procesar.\n",
    "            \n",
    "            - y: None\n",
    "                 Este parametro no se emplea durante el proceso de transformación. Proviene del metodo \"tranform\"\n",
    "                 de la superclase.\n",
    "                 \n",
    "        NOTA: Revisar parametro \"stop_words\", ya que se han eliminado las stop_words en etapas anteriores\n",
    "        \"\"\"\n",
    "        if self.tipo_vectores == \"binario\":\n",
    "             self.tfidfvect = TfidfVectorizer(stop_words=self.stop_words, \n",
    "                                              binary=True, use_idf = False, norm = None)\n",
    "        elif self.tipo_vectores == \"gauss\":\n",
    "            self.tfidfvect = TfidfVectorizer(stop_words=self.stop_words)\n",
    "        elif self.tipo_vectores == \"multinomial\":\n",
    "            self.tfidfvect = TfidfVectorizer(stop_words=self.stop_words, \n",
    "                                             binary=False, use_idf = False, norm = None)\n",
    "        else:\n",
    "            raise Exception(\"\"\"Unicamente se aceptan los siguientes valores para el parametro 'tipo_vectores'\n",
    "                               'binario', 'gauss', 'multinomial'\"\"\")\n",
    "        self.tfidfvect.fit(self._preprocesar(X))\n",
    "        return self\n",
    "    \n",
    "    def transform(self, X, y=None):\n",
    "        \"\"\"\n",
    "        Este metodo transforma la colección de datos que entran como parametro a una representación vectorial \n",
    "        definida por los atrbutos de clase que se establecen durante la creación de instancias de esta clase.\n",
    "        \n",
    "        --------------------\n",
    "        \n",
    "        :Parametros\n",
    "        \n",
    "            - X: list o DataFrame.Series\n",
    "                 Este parametro contiene una colección de los texto que se requieren procesar.\n",
    "            \n",
    "            - y: None\n",
    "                 Este parametro no se emplea durante el proceso de transformación. Proviene del metodo \n",
    "                 \"transform\" de la superclase.\n",
    "        \"\"\"\n",
    "        return self.tfidfvect.transform(self._preprocesar(X)).toarray()\n",
    "    \n",
    "    def get_feature_names(self):\n",
    "        \"\"\"\n",
    "        Este método retorna las palabras almacenadas en la instancia \"self.tfidfvect\" que se generan durante el\n",
    "        preproesamiento desarrollado en la ejecución del metodo \"self.fit()\", es decir, estas palabras se \n",
    "        encuentran lematizadas, con eliminación de signos de puntuación y totalmente en minusculas.\n",
    "        \"\"\"\n",
    "        if self.tfidfvect:\n",
    "            return self.tfidfvect.get_feature_names()\n",
    "        else:\n",
    "            print(\"No se ha ejecutado 'self.fit()'\")\n",
    "            \n",
    "    def info(self):\n",
    "        vect_definido = \"Definido\" if self.tfidfvect else \"No Definido, Sin entrenar (Sin ejecución de fit())\"\n",
    "        sub_msn = \"\"\n",
    "        if self.tfidfvect:\n",
    "            sub_msn = f\"\"\"\n",
    "            -----------------------------------------\n",
    "                Modelo\n",
    "                Total de Palabras (features): {len(self.tfidfvect.get_feature_names())}\"\"\"\n",
    "        msn = f\"\"\"\n",
    "            Vectorizado TfIdfVect  : {vect_definido}\n",
    "            Tipo de vectores       : {self.tipo_vectores}\n",
    "            Total de stopwords     : {len(self.stop_words)}\n",
    "            Idioma del lematizador : {self.idioma}\n",
    "            {sub_msn}\"\"\"\n",
    "        print(msn)"
   ]
  },
  {
   "cell_type": "markdown",
   "metadata": {},
   "source": [
    "## - Test de la Calse Creada : Prueba multinomial"
   ]
  },
  {
   "cell_type": "code",
   "execution_count": 17,
   "metadata": {},
   "outputs": [
    {
     "data": {
      "text/plain": [
       "(225, 3319)"
      ]
     },
     "execution_count": 17,
     "metadata": {},
     "output_type": "execute_result"
    }
   ],
   "source": [
    "mi_vectorizador = MiVectorizador(\"multinomial\", stop_words_lem =True, add_stop_words=otras_stopwords)\n",
    "X = mi_vectorizador.fit_transform(X=df[\"TEXTO\"])\n",
    "X.shape"
   ]
  },
  {
   "cell_type": "code",
   "execution_count": 23,
   "metadata": {},
   "outputs": [
    {
     "ename": "AttributeError",
     "evalue": "'Series' object has no attribute 'type'",
     "output_type": "error",
     "traceback": [
      "\u001b[1;31m---------------------------------------------------------------------------\u001b[0m",
      "\u001b[1;31mAttributeError\u001b[0m                            Traceback (most recent call last)",
      "\u001b[1;32m<ipython-input-23-6eed6d723730>\u001b[0m in \u001b[0;36m<module>\u001b[1;34m\u001b[0m\n\u001b[1;32m----> 1\u001b[1;33m \u001b[0mdf\u001b[0m\u001b[1;33m[\u001b[0m\u001b[1;34m\"TEXTO\"\u001b[0m\u001b[1;33m]\u001b[0m\u001b[1;33m.\u001b[0m\u001b[0mtype\u001b[0m\u001b[1;33m(\u001b[0m\u001b[1;33m)\u001b[0m\u001b[1;33m\u001b[0m\u001b[1;33m\u001b[0m\u001b[0m\n\u001b[0m",
      "\u001b[1;32m~\\Anaconda3\\lib\\site-packages\\pandas\\core\\generic.py\u001b[0m in \u001b[0;36m__getattr__\u001b[1;34m(self, name)\u001b[0m\n\u001b[0;32m   5177\u001b[0m             \u001b[1;32mif\u001b[0m \u001b[0mself\u001b[0m\u001b[1;33m.\u001b[0m\u001b[0m_info_axis\u001b[0m\u001b[1;33m.\u001b[0m\u001b[0m_can_hold_identifiers_and_holds_name\u001b[0m\u001b[1;33m(\u001b[0m\u001b[0mname\u001b[0m\u001b[1;33m)\u001b[0m\u001b[1;33m:\u001b[0m\u001b[1;33m\u001b[0m\u001b[1;33m\u001b[0m\u001b[0m\n\u001b[0;32m   5178\u001b[0m                 \u001b[1;32mreturn\u001b[0m \u001b[0mself\u001b[0m\u001b[1;33m[\u001b[0m\u001b[0mname\u001b[0m\u001b[1;33m]\u001b[0m\u001b[1;33m\u001b[0m\u001b[1;33m\u001b[0m\u001b[0m\n\u001b[1;32m-> 5179\u001b[1;33m             \u001b[1;32mreturn\u001b[0m \u001b[0mobject\u001b[0m\u001b[1;33m.\u001b[0m\u001b[0m__getattribute__\u001b[0m\u001b[1;33m(\u001b[0m\u001b[0mself\u001b[0m\u001b[1;33m,\u001b[0m \u001b[0mname\u001b[0m\u001b[1;33m)\u001b[0m\u001b[1;33m\u001b[0m\u001b[1;33m\u001b[0m\u001b[0m\n\u001b[0m\u001b[0;32m   5180\u001b[0m \u001b[1;33m\u001b[0m\u001b[0m\n\u001b[0;32m   5181\u001b[0m     \u001b[1;32mdef\u001b[0m \u001b[0m__setattr__\u001b[0m\u001b[1;33m(\u001b[0m\u001b[0mself\u001b[0m\u001b[1;33m,\u001b[0m \u001b[0mname\u001b[0m\u001b[1;33m,\u001b[0m \u001b[0mvalue\u001b[0m\u001b[1;33m)\u001b[0m\u001b[1;33m:\u001b[0m\u001b[1;33m\u001b[0m\u001b[1;33m\u001b[0m\u001b[0m\n",
      "\u001b[1;31mAttributeError\u001b[0m: 'Series' object has no attribute 'type'"
     ]
    }
   ],
   "source": [
    "df[\"TEXTO\"].type()"
   ]
  },
  {
   "cell_type": "code",
   "execution_count": 20,
   "metadata": {},
   "outputs": [
    {
     "data": {
      "text/plain": [
       "array([[0., 0., 0., ..., 0., 0., 0.],\n",
       "       [0., 0., 0., ..., 0., 0., 0.],\n",
       "       [0., 0., 0., ..., 0., 0., 0.],\n",
       "       ...,\n",
       "       [0., 0., 0., ..., 0., 0., 0.],\n",
       "       [0., 0., 0., ..., 0., 0., 0.],\n",
       "       [0., 0., 0., ..., 0., 0., 0.]])"
      ]
     },
     "execution_count": 20,
     "metadata": {},
     "output_type": "execute_result"
    }
   ],
   "source": [
    "X"
   ]
  },
  {
   "cell_type": "code",
   "execution_count": 21,
   "metadata": {},
   "outputs": [
    {
     "name": "stdout",
     "output_type": "stream",
     "text": [
      "\n",
      "            Vectorizado TfIdfVect  : Definido\n",
      "            Tipo de vectores       : multinomial\n",
      "            Total de stopwords     : 517\n",
      "            Idioma del lematizador : spanish\n",
      "            \n",
      "            -----------------------------------------\n",
      "                Modelo\n",
      "                Total de Palabras (features): 3319\n"
     ]
    }
   ],
   "source": [
    "mi_vectorizador.info()"
   ]
  },
  {
   "cell_type": "markdown",
   "metadata": {},
   "source": [
    "#### Análisis: Conjunto de Palabras Original"
   ]
  },
  {
   "cell_type": "code",
   "execution_count": 16,
   "metadata": {
    "scrolled": true
   },
   "outputs": [
    {
     "name": "stdout",
     "output_type": "stream",
     "text": [
      "Tamaño del conjuto de palabras orginal (Corpus): 6194\n"
     ]
    }
   ],
   "source": [
    "conjuto_palabras = set()\n",
    "agg = lambda x : conjuto_palabras.update(x)\n",
    "df[\"TEXTO\"].apply(lambda x: agg(set(re.sub(r'[^\\w\\s]','',x).lower().split(\" \"))));\n",
    "print(\"Tamaño del conjuto de palabras orginal (Corpus):\",len(conjuto_palabras))"
   ]
  },
  {
   "cell_type": "markdown",
   "metadata": {},
   "source": [
    "## Análisis"
   ]
  },
  {
   "cell_type": "markdown",
   "metadata": {},
   "source": [
    "Se puede observar que se disminuye notoriamente el número de variales (palabras) por medio de la elimnaión de stopwords duante la etapa de preprocesamiento que se desarrolla durante la ejecución del método fit de la clase <b>MiVectorizador</b>.\n",
    "\n",
    "Se eliminan 4093 palabras!\n",
    "\n",
    "<b>Importante:</b> Recordar que si al momento de instanciar <b>MiVectorizador</b> no se agregan nuevas stopwords, la instancia de <b>MiVectorizador</b> eliminara stopwords definidas en por <b>NLTK</b>. Es decir que siempre se dearrollará eliminación de stopwrds mediante <b>MiVectorizador</b>."
   ]
  },
  {
   "cell_type": "markdown",
   "metadata": {},
   "source": [
    "------"
   ]
  },
  {
   "cell_type": "markdown",
   "metadata": {},
   "source": [
    "# Estimadores Bayesianos"
   ]
  },
  {
   "cell_type": "markdown",
   "metadata": {},
   "source": [
    "En las siguientes lineas se desarrolla el entrenamiento y evaluación de 3 clasificadores Bayesiano. Para cada uno de ellos se lleva a cab el siguiente procedimiento:\n",
    "\n",
    "1. Se crea una instancia de la clase \"MiVectorizador\", en la cual se añaden las \"stopwords\" suministradas en el enunciado del problema. Adiconalmente se definen otros parametros como el tipo de vectores deseados, con el fin de entrenar posteriormente cada uno de los diferentes estimadores de manera adecuada en función de sus requerimientos.\n",
    "\n",
    "2. Se desarrolla la transformación unicamente del conjunto de entrenamento. \n",
    "    \n",
    "    En este paso la instancia de \"MiVectorizador\" internamente crea una instancia de \"Sklearn.TfIdfVectorizer\" y la almacena, de tal forma que al momento de desarrollar futuras transformaciones ese objeto ya ha almacenado valores necesarios, como es el caso de \"Idf\" cuando el valor de \"tipo_vectores\" es igual a \"gauss\", para el estiador \"GaussianNB\".\n",
    "\n",
    "3. se crea una instancia del estimador bayesiano deseado.\n",
    "\n",
    "4. Se entrena el estimador bayesiano\n",
    "\n",
    "5. Se toma el conjunto de test y se transforma con ayuda de la instancia previamente creada de \"MiVectorizador\"\n",
    "\n",
    "6. Se desarrolla la prueba.\n"
   ]
  },
  {
   "cell_type": "code",
   "execution_count": 17,
   "metadata": {},
   "outputs": [],
   "source": [
    "import warnings\n",
    "warnings.filterwarnings('ignore')"
   ]
  },
  {
   "cell_type": "markdown",
   "metadata": {},
   "source": [
    "## - Bernoulli NB"
   ]
  },
  {
   "cell_type": "markdown",
   "metadata": {},
   "source": [
    "### Train"
   ]
  },
  {
   "cell_type": "code",
   "execution_count": 18,
   "metadata": {},
   "outputs": [],
   "source": [
    "mivect_binario =  MiVectorizador(\"binario\", stop_words_lem =True, add_stop_words=otras_stopwords)\n",
    "Bin_X_train = mivect_binario.fit_transform(X_train.copy())\n",
    "bernoulliNB = BernoulliNB()\n",
    "bernoulliNB.fit(Bin_X_train, y_train);"
   ]
  },
  {
   "cell_type": "markdown",
   "metadata": {},
   "source": [
    "### Test"
   ]
  },
  {
   "cell_type": "code",
   "execution_count": 19,
   "metadata": {},
   "outputs": [
    {
     "data": {
      "text/plain": [
       "0.8444444444444444"
      ]
     },
     "execution_count": 19,
     "metadata": {},
     "output_type": "execute_result"
    }
   ],
   "source": [
    "Bin_X_test = mivect_binario.transform(X_test.copy())\n",
    "bernoulliNB.score(Bin_X_test,y_test)"
   ]
  },
  {
   "cell_type": "code",
   "execution_count": 20,
   "metadata": {},
   "outputs": [
    {
     "name": "stdout",
     "output_type": "stream",
     "text": [
      "Confusion matrix, without normalization\n"
     ]
    },
    {
     "data": {
      "image/png": "[encoded data removed]",
      "text/plain": [
       "<Figure size 576x432 with 2 Axes>"
      ]
     },
     "metadata": {},
     "output_type": "display_data"
    }
   ],
   "source": [
    "binNB_report = make_report(bernoulliNB, Bin_X_test, y_test.values, etiquetas)"
   ]
  },
  {
   "cell_type": "code",
   "execution_count": 21,
   "metadata": {},
   "outputs": [
    {
     "name": "stdout",
     "output_type": "stream",
     "text": [
      "              precision    recall  f1-score   support\n",
      "\n",
      "           0       0.79      1.00      0.88        11\n",
      "           1       0.83      0.83      0.83        12\n",
      "           2       1.00      1.00      1.00         9\n",
      "           3       0.00      0.00      0.00         3\n",
      "           4       0.80      0.80      0.80        10\n",
      "\n",
      "   micro avg       0.84      0.84      0.84        45\n",
      "   macro avg       0.68      0.73      0.70        45\n",
      "weighted avg       0.79      0.84      0.82        45\n",
      "\n"
     ]
    }
   ],
   "source": [
    "print(classification_report(y_test, bernoulliNB.predict(Bin_X_test)))"
   ]
  },
  {
   "cell_type": "markdown",
   "metadata": {},
   "source": [
    "## - GaussianNB"
   ]
  },
  {
   "cell_type": "markdown",
   "metadata": {},
   "source": [
    "### Train"
   ]
  },
  {
   "cell_type": "code",
   "execution_count": 22,
   "metadata": {},
   "outputs": [],
   "source": [
    "mivect_gauss =  MiVectorizador(\"gauss\", stop_words_lem =True, add_stop_words=otras_stopwords)\n",
    "Gauss_X_train = mivect_gauss.fit_transform(X_train.copy())\n",
    "gausNB = GaussianNB()\n",
    "gausNB.fit(Gauss_X_train, y_train);"
   ]
  },
  {
   "cell_type": "markdown",
   "metadata": {},
   "source": [
    "### Test"
   ]
  },
  {
   "cell_type": "code",
   "execution_count": 23,
   "metadata": {},
   "outputs": [
    {
     "data": {
      "text/plain": [
       "0.6444444444444445"
      ]
     },
     "execution_count": 23,
     "metadata": {},
     "output_type": "execute_result"
    }
   ],
   "source": [
    "Gauss_X_test = mivect_gauss.transform(X_test.copy())\n",
    "gausNB.score(Gauss_X_test,y_test)"
   ]
  },
  {
   "cell_type": "code",
   "execution_count": 24,
   "metadata": {},
   "outputs": [
    {
     "name": "stdout",
     "output_type": "stream",
     "text": [
      "Confusion matrix, without normalization\n"
     ]
    },
    {
     "data": {
      "image/png": "[encoded data removed]",
      "text/plain": [
       "<Figure size 576x432 with 2 Axes>"
      ]
     },
     "metadata": {},
     "output_type": "display_data"
    }
   ],
   "source": [
    "gausNB_report = make_report(gausNB, Gauss_X_test, y_test.values, etiquetas)"
   ]
  },
  {
   "cell_type": "code",
   "execution_count": 25,
   "metadata": {},
   "outputs": [
    {
     "name": "stdout",
     "output_type": "stream",
     "text": [
      "              precision    recall  f1-score   support\n",
      "\n",
      "           0       0.50      0.55      0.52        11\n",
      "           1       0.50      0.50      0.50        12\n",
      "           2       0.80      0.89      0.84         9\n",
      "           3       1.00      0.33      0.50         3\n",
      "           4       0.80      0.80      0.80        10\n",
      "\n",
      "   micro avg       0.64      0.64      0.64        45\n",
      "   macro avg       0.72      0.61      0.63        45\n",
      "weighted avg       0.66      0.64      0.64        45\n",
      "\n"
     ]
    }
   ],
   "source": [
    "print(classification_report(y_test, gausNB.predict(Gauss_X_test)))"
   ]
  },
  {
   "cell_type": "markdown",
   "metadata": {},
   "source": [
    "## - MultinomialNB"
   ]
  },
  {
   "cell_type": "markdown",
   "metadata": {},
   "source": [
    "### Train"
   ]
  },
  {
   "cell_type": "code",
   "execution_count": 26,
   "metadata": {},
   "outputs": [],
   "source": [
    "mivect_multinomial =  MiVectorizador(\"multinomial\", stop_words_lem =True, add_stop_words=otras_stopwords)\n",
    "Mult_X_train = mivect_multinomial.fit_transform(X_train.copy())\n",
    "multinomialNB = MultinomialNB()\n",
    "multinomialNB.fit(Mult_X_train, y_train);"
   ]
  },
  {
   "cell_type": "markdown",
   "metadata": {},
   "source": [
    "### Test"
   ]
  },
  {
   "cell_type": "code",
   "execution_count": 27,
   "metadata": {},
   "outputs": [
    {
     "data": {
      "text/plain": [
       "0.8666666666666667"
      ]
     },
     "execution_count": 27,
     "metadata": {},
     "output_type": "execute_result"
    }
   ],
   "source": [
    "Mult_X_test = mivect_multinomial.transform(X_test.copy())\n",
    "multinomialNB.score(Mult_X_test,y_test)"
   ]
  },
  {
   "cell_type": "code",
   "execution_count": 28,
   "metadata": {
    "scrolled": false
   },
   "outputs": [
    {
     "name": "stdout",
     "output_type": "stream",
     "text": [
      "Confusion matrix, without normalization\n"
     ]
    },
    {
     "data": {
      "image/png": "[encoded data removed]",
      "text/plain": [
       "<Figure size 576x432 with 2 Axes>"
      ]
     },
     "metadata": {},
     "output_type": "display_data"
    }
   ],
   "source": [
    "multiNB_report = make_report(multinomialNB, Mult_X_test, y_test.values, etiquetas)"
   ]
  },
  {
   "cell_type": "markdown",
   "metadata": {},
   "source": [
    "-----"
   ]
  },
  {
   "cell_type": "code",
   "execution_count": 29,
   "metadata": {
    "scrolled": false
   },
   "outputs": [
    {
     "name": "stdout",
     "output_type": "stream",
     "text": [
      "              precision    recall  f1-score   support\n",
      "\n",
      "           0       0.77      0.91      0.83        11\n",
      "           1       0.79      0.92      0.85        12\n",
      "           2       1.00      1.00      1.00         9\n",
      "           3       0.00      0.00      0.00         3\n",
      "           4       1.00      0.90      0.95        10\n",
      "\n",
      "   micro avg       0.87      0.87      0.87        45\n",
      "   macro avg       0.71      0.75      0.73        45\n",
      "weighted avg       0.82      0.87      0.84        45\n",
      "\n"
     ]
    }
   ],
   "source": [
    "print(classification_report(y_test, multinomialNB.predict(Mult_X_test)))"
   ]
  },
  {
   "cell_type": "markdown",
   "metadata": {},
   "source": [
    "----"
   ]
  },
  {
   "cell_type": "code",
   "execution_count": 36,
   "metadata": {},
   "outputs": [
    {
     "data": {
      "text/plain": [
       "<matplotlib.legend.Legend at 0x1a21b2b400>"
      ]
     },
     "execution_count": 36,
     "metadata": {},
     "output_type": "execute_result"
    },
    {
     "data": {
      "image/png": "[encoded data removed]",
      "text/plain": [
       "<Figure size 432x288 with 1 Axes>"
      ]
     },
     "metadata": {},
     "output_type": "display_data"
    }
   ],
   "source": [
    "df = pd.DataFrame({\n",
    "        'Bernoulli': binNB_report.mean(),\n",
    "        'Gaussian': gausNB_report.mean(),\n",
    "        'Multinomial': multiNB_report.mean(),\n",
    "    }, index = multiNB_report.mean().index)\n",
    "df.drop([\"support\"],axis = 0, inplace=True)\n",
    "ax = df.plot.bar(rot=0)\n",
    "plt.legend(loc=8, bbox_to_anchor=(0, 0.5, 2.7, 0.5))"
   ]
  },
  {
   "cell_type": "markdown",
   "metadata": {},
   "source": [
    "## Interpretación"
   ]
  },
  {
   "cell_type": "markdown",
   "metadata": {},
   "source": [
    "Como se puede observar claramente en las pruebas desarroldas para cada uno de los estimadores y en la gráfica anterior,  el mejor de ellos es el multinomial, donde se implementa unicamente la frecuancia absoluta de cada palabra en los diferentes documentos.\n",
    "\n",
    "Otro de los aspectos mas importantes es la dificultad para desarrollar predicciones correctas sobre la clase \"SISTEMAS DE INFORMACIÓN\", esto se debe al claro desbalance que existe en el conjunto de datos, ya que el número de instancias de esta clase representa tan solo 3.75 % del conjunto de datos con 5 etiquetas posibles.\n",
    "\n",
    "Para el estimador Gausiano es interesante ver como las clases \"BASES DE DATOS\" y \"APLICACIONES INTERNET\" tienen un alto grado de confusión. \n",
    "\n",
    "\n",
    "[Ver comentarios (Docstrings) de la clase \"MiVectorizador\" desarrollada para este proyecto]"
   ]
  },
  {
   "cell_type": "markdown",
   "metadata": {},
   "source": [
    "-----"
   ]
  },
  {
   "cell_type": "markdown",
   "metadata": {},
   "source": [
    "-----"
   ]
  },
  {
   "cell_type": "markdown",
   "metadata": {},
   "source": [
    "### Adicional: Entendimiento \"Weighted\", \"Macro\", \"Micro\""
   ]
  },
  {
   "cell_type": "markdown",
   "metadata": {},
   "source": [
    "#### Weighted - precision"
   ]
  },
  {
   "cell_type": "code",
   "execution_count": 30,
   "metadata": {},
   "outputs": [
    {
     "data": {
      "text/plain": [
       "0.8197802197802198"
      ]
     },
     "execution_count": 30,
     "metadata": {},
     "output_type": "execute_result"
    }
   ],
   "source": [
    "# Ponderado por el número de etiquetas\n",
    "(multiNB_report[\"precision\"]*multiNB_report[\"support\"]).sum()/45"
   ]
  },
  {
   "cell_type": "markdown",
   "metadata": {},
   "source": [
    "#### Macro - precision"
   ]
  },
  {
   "cell_type": "code",
   "execution_count": 34,
   "metadata": {},
   "outputs": [
    {
     "data": {
      "text/plain": [
       "0.7109890109890109"
      ]
     },
     "execution_count": 34,
     "metadata": {},
     "output_type": "execute_result"
    }
   ],
   "source": [
    "# Media de los valores por etiqueta sin ponderación\n",
    "multiNB_report[\"precision\"].mean()"
   ]
  },
  {
   "cell_type": "markdown",
   "metadata": {},
   "source": [
    "#### Micro - precision"
   ]
  },
  {
   "cell_type": "code",
   "execution_count": 32,
   "metadata": {},
   "outputs": [
    {
     "data": {
      "text/plain": [
       "0.8666666666666667"
      ]
     },
     "execution_count": 32,
     "metadata": {},
     "output_type": "execute_result"
    }
   ],
   "source": [
    "# VP / (VP + (Misclassification))\n",
    "39/(39+6)"
   ]
  }
 ],
 "metadata": {
  "kernelspec": {
   "display_name": "Python 3",
   "language": "python",
   "name": "python3"
  },
  "language_info": {
   "codemirror_mode": {
    "name": "ipython",
    "version": 3
   },
   "file_extension": ".py",
   "mimetype": "text/x-python",
   "name": "python",
   "nbconvert_exporter": "python",
   "pygments_lexer": "ipython3",
   "version": "3.7.3"
  }
 },
 "nbformat": 4,
 "nbformat_minor": 2
}
