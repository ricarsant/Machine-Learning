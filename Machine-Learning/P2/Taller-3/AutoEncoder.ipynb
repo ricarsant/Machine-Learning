{
 "cells": [
  {
   "cell_type": "markdown",
   "metadata": {},
   "source": [
    "# TALLER N. 3.\n",
    "## Punto 1 -b:  Entrenamiento de un undercompleted autoencoder"
   ]
  },
  {
   "cell_type": "markdown",
   "metadata": {},
   "source": [
    "<p>Integrantes:</p>\n",
    "<ul>\n",
    "<li>Juan Camilo Cática</li>\n",
    "<li>Ricardo Santacruz </li>\n",
    "<li>Diego Fernando Escobar</li>\n",
    "</ul>"
   ]
  },
  {
   "cell_type": "markdown",
   "metadata": {},
   "source": [
    "## Importar librerias"
   ]
  },
  {
   "cell_type": "code",
   "execution_count": 148,
   "metadata": {},
   "outputs": [],
   "source": [
    "import tensorflow as tf\n",
    "from tensorflow import keras\n",
    "import matplotlib.pyplot as plt\n",
    "import numpy as np\n",
    "from keras.layers import Input, Dense\n",
    "from keras.models import Model"
   ]
  },
  {
   "cell_type": "markdown",
   "metadata": {},
   "source": [
    "## Cargar Datos fashion_mnist"
   ]
  },
  {
   "cell_type": "code",
   "execution_count": 149,
   "metadata": {},
   "outputs": [],
   "source": [
    "fashion_mnist = keras.datasets.fashion_mnist\n",
    "(X_train_full, y_train_full), (X_test, y_test) = fashion_mnist.load_data()"
   ]
  },
  {
   "cell_type": "code",
   "execution_count": 150,
   "metadata": {},
   "outputs": [
    {
     "name": "stdout",
     "output_type": "stream",
     "text": [
      "X_train_full Shape : (60000, 28, 28)\n",
      "X_train_full[0] Shape : (28, 28)\n",
      "y_train_full Shape : (60000,)\n",
      "X_test Shape       : (10000, 28, 28)\n",
      "y_test Shape       : (10000,)\n"
     ]
    }
   ],
   "source": [
    "print(\"X_train_full Shape :\", X_train_full.shape)\n",
    "print(\"X_train_full[0] Shape :\", X_train_full[0].shape)\n",
    "print(\"y_train_full Shape :\", y_train_full.shape)\n",
    "\n",
    "\n",
    "print(\"X_test Shape       :\", X_test.shape)\n",
    "print(\"y_test Shape       :\", y_test.shape)"
   ]
  },
  {
   "cell_type": "markdown",
   "metadata": {},
   "source": [
    "## obtener los datos de entrenamiento y validacion\n",
    "### 5000 para validacion y 55000 para entrenamiento y se normaliza,  maximo valor del pixel = 255"
   ]
  },
  {
   "cell_type": "code",
   "execution_count": 151,
   "metadata": {},
   "outputs": [],
   "source": [
    "\n",
    "X_valid, X_train = X_train_full[:5000] / 255.0, X_train_full[5000:] / 255.0\n",
    "y_valid, y_train = y_train_full[:5000], y_train_full[5000:]"
   ]
  },
  {
   "cell_type": "code",
   "execution_count": 152,
   "metadata": {},
   "outputs": [
    {
     "name": "stdout",
     "output_type": "stream",
     "text": [
      "Dimensiones de la capa de entrada : ( 55000 , 784 )\n"
     ]
    }
   ],
   "source": [
    "print (\"Dimensiones de la capa de entrada : (\" , len(X_train), \",\", np.prod(X_train.shape[1:] ), \")\")"
   ]
  },
  {
   "cell_type": "code",
   "execution_count": 153,
   "metadata": {},
   "outputs": [
    {
     "name": "stdout",
     "output_type": "stream",
     "text": [
      "(55000, 784)\n",
      "(5000, 784)\n"
     ]
    }
   ],
   "source": [
    "X_train = X_train.reshape((len(X_train), np.prod(X_train.shape[1:])))\n",
    "X_valid = X_valid.reshape((len(X_valid), np.prod(X_valid.shape[1:])))\n",
    "print(X_train.shape)\n",
    "print( X_valid.shape)"
   ]
  },
  {
   "cell_type": "markdown",
   "metadata": {},
   "source": [
    "## Crear modeo undercompleted autoencoder"
   ]
  },
  {
   "cell_type": "code",
   "execution_count": 154,
   "metadata": {},
   "outputs": [],
   "source": [
    "# this is the size of our encoded representations\n",
    "encoding_dim = 32  # 32 floats -> compression of factor 24.5, assuming the input is 784 floats\n",
    "\n",
    "# this is our input placeholder\n",
    "input_img = Input(shape=(784,))\n",
    "# \"encoded\" is the encoded representation of the input\n",
    "encoded = Dense(encoding_dim, activation='relu')(input_img)\n",
    "# \"decoded\" is the lossy reconstruction of the input\n",
    "decoded = Dense(784, activation='sigmoid')(encoded)\n",
    "\n",
    "# this model maps an input to its reconstruction\n",
    "autoencoder = Model(input_img, decoded)"
   ]
  },
  {
   "cell_type": "code",
   "execution_count": 155,
   "metadata": {},
   "outputs": [
    {
     "name": "stdout",
     "output_type": "stream",
     "text": [
      "Model: \"model_24\"\n",
      "_________________________________________________________________\n",
      "Layer (type)                 Output Shape              Param #   \n",
      "=================================================================\n",
      "input_15 (InputLayer)        (None, 784)               0         \n",
      "_________________________________________________________________\n",
      "dense_15 (Dense)             (None, 32)                25120     \n",
      "_________________________________________________________________\n",
      "dense_16 (Dense)             (None, 784)               25872     \n",
      "=================================================================\n",
      "Total params: 50,992\n",
      "Trainable params: 50,992\n",
      "Non-trainable params: 0\n",
      "_________________________________________________________________\n"
     ]
    }
   ],
   "source": [
    "autoencoder.summary()"
   ]
  },
  {
   "cell_type": "markdown",
   "metadata": {},
   "source": [
    "## Crear Moldeo del encoder : Capa que reduce la dimensionalidad"
   ]
  },
  {
   "cell_type": "code",
   "execution_count": 157,
   "metadata": {},
   "outputs": [
    {
     "name": "stdout",
     "output_type": "stream",
     "text": [
      "Model: \"model_26\"\n",
      "_________________________________________________________________\n",
      "Layer (type)                 Output Shape              Param #   \n",
      "=================================================================\n",
      "input_15 (InputLayer)        (None, 784)               0         \n",
      "_________________________________________________________________\n",
      "dense_15 (Dense)             (None, 32)                25120     \n",
      "=================================================================\n",
      "Total params: 25,120\n",
      "Trainable params: 25,120\n",
      "Non-trainable params: 0\n",
      "_________________________________________________________________\n"
     ]
    }
   ],
   "source": [
    "#capa a utilizar o datos que genera esta capa\n",
    "# this model maps an input to its encoded representation\n",
    "#entran 784 y salen 32 variables\n",
    "encoder = Model(input_img, encoded)\n",
    "encoder.summary()"
   ]
  },
  {
   "cell_type": "markdown",
   "metadata": {},
   "source": [
    "### Otra forma de crear el modelo para encoder"
   ]
  },
  {
   "cell_type": "code",
   "execution_count": 158,
   "metadata": {},
   "outputs": [
    {
     "name": "stdout",
     "output_type": "stream",
     "text": [
      "input_15\n",
      "dense_15\n",
      "Model: \"model_27\"\n",
      "_________________________________________________________________\n",
      "Layer (type)                 Output Shape              Param #   \n",
      "=================================================================\n",
      "input_16 (InputLayer)        (None, 784)               0         \n",
      "_________________________________________________________________\n",
      "dense_15 (Dense)             (None, 32)                25120     \n",
      "=================================================================\n",
      "Total params: 25,120\n",
      "Trainable params: 25,120\n",
      "Non-trainable params: 0\n",
      "_________________________________________________________________\n"
     ]
    }
   ],
   "source": [
    "encoder_layer = autoencoder.layers[0]\n",
    "print(encoder_layer.name)\n",
    "input_img = Input(shape=(784,))\n",
    "encoder_layer = autoencoder.layers[1]\n",
    "print(encoder_layer.name)\n",
    "encoder1 = Model(input_img, encoder_layer(input_img))\n",
    "encoder1.summary()"
   ]
  },
  {
   "cell_type": "code",
   "execution_count": 159,
   "metadata": {},
   "outputs": [
    {
     "data": {
      "text/plain": [
       "'dense_16'"
      ]
     },
     "execution_count": 159,
     "metadata": {},
     "output_type": "execute_result"
    }
   ],
   "source": [
    "autoencoder.layers[-1].name"
   ]
  },
  {
   "cell_type": "markdown",
   "metadata": {},
   "source": [
    "## Crear Modelo del decoder: Capa que reconstruye los datos de entrada a partir de la nueva dimensionalidad reducida"
   ]
  },
  {
   "cell_type": "code",
   "execution_count": 161,
   "metadata": {},
   "outputs": [
    {
     "name": "stdout",
     "output_type": "stream",
     "text": [
      "Model: \"model_29\"\n",
      "_________________________________________________________________\n",
      "Layer (type)                 Output Shape              Param #   \n",
      "=================================================================\n",
      "input_18 (InputLayer)        (None, 32)                0         \n",
      "_________________________________________________________________\n",
      "dense_16 (Dense)             (None, 784)               25872     \n",
      "=================================================================\n",
      "Total params: 25,872\n",
      "Trainable params: 25,872\n",
      "Non-trainable params: 0\n",
      "_________________________________________________________________\n"
     ]
    }
   ],
   "source": [
    "#decodificador entran 32 y salen 784 variables\n",
    "# create a placeholder for an encoded (32-dimensional) input\n",
    "encoded_input = Input(shape=(encoding_dim,))\n",
    "# retrieve the last layer of the autoencoder model\n",
    "decoder_layer = autoencoder.layers[-1]\n",
    "# create the decoder model\n",
    "decoder = Model(encoded_input, decoder_layer(encoded_input))\n",
    "decoder.summary()"
   ]
  },
  {
   "cell_type": "code",
   "execution_count": 162,
   "metadata": {},
   "outputs": [],
   "source": [
    "# Compilar el modelo\n",
    "#dado que la funcion de activacion de la capa de salida es sigmoide, la funcion de perdida es : binary_crossentropy\n",
    "autoencoder.compile(optimizer='adadelta', loss='binary_crossentropy')"
   ]
  },
  {
   "cell_type": "code",
   "execution_count": 163,
   "metadata": {},
   "outputs": [
    {
     "name": "stdout",
     "output_type": "stream",
     "text": [
      "Train on 55000 samples, validate on 5000 samples\n",
      "Epoch 1/50\n",
      "55000/55000 [==============================] - 5s 94us/step - loss: 0.5356 - val_loss: 0.4643\n",
      "Epoch 2/50\n",
      "55000/55000 [==============================] - 4s 82us/step - loss: 0.4309 - val_loss: 0.4058\n",
      "Epoch 3/50\n",
      "55000/55000 [==============================] - 5s 84us/step - loss: 0.3992 - val_loss: 0.3872\n",
      "Epoch 4/50\n",
      "55000/55000 [==============================] - 5s 86us/step - loss: 0.3824 - val_loss: 0.3719\n",
      "Epoch 5/50\n",
      "55000/55000 [==============================] - 4s 81us/step - loss: 0.3681 - val_loss: 0.3592\n",
      "Epoch 6/50\n",
      "55000/55000 [==============================] - 4s 77us/step - loss: 0.3570 - val_loss: 0.3497\n",
      "Epoch 7/50\n",
      "55000/55000 [==============================] - 5s 94us/step - loss: 0.3486 - val_loss: 0.3423\n",
      "Epoch 8/50\n",
      "55000/55000 [==============================] - 4s 78us/step - loss: 0.3420 - val_loss: 0.3364\n",
      "Epoch 9/50\n",
      "55000/55000 [==============================] - 5s 85us/step - loss: 0.3365 - val_loss: 0.3314\n",
      "Epoch 10/50\n",
      "55000/55000 [==============================] - 4s 78us/step - loss: 0.3319 - val_loss: 0.3272\n",
      "Epoch 11/50\n",
      "55000/55000 [==============================] - 5s 97us/step - loss: 0.3280 - val_loss: 0.3237\n",
      "Epoch 12/50\n",
      "55000/55000 [==============================] - 4s 78us/step - loss: 0.3247 - val_loss: 0.3206\n",
      "Epoch 13/50\n",
      "55000/55000 [==============================] - 4s 80us/step - loss: 0.3218 - val_loss: 0.3180\n",
      "Epoch 14/50\n",
      "55000/55000 [==============================] - 5s 98us/step - loss: 0.3193 - val_loss: 0.3157\n",
      "Epoch 15/50\n",
      "55000/55000 [==============================] - 4s 80us/step - loss: 0.3172 - val_loss: 0.3136\n",
      "Epoch 16/50\n",
      "55000/55000 [==============================] - 4s 73us/step - loss: 0.3153 - val_loss: 0.3119\n",
      "Epoch 17/50\n",
      "55000/55000 [==============================] - 5s 88us/step - loss: 0.3137 - val_loss: 0.3104\n",
      "Epoch 18/50\n",
      "55000/55000 [==============================] - 4s 73us/step - loss: 0.3123 - val_loss: 0.3091\n",
      "Epoch 19/50\n",
      "55000/55000 [==============================] - 4s 73us/step - loss: 0.3111 - val_loss: 0.3079\n",
      "Epoch 20/50\n",
      "55000/55000 [==============================] - 4s 72us/step - loss: 0.3100 - val_loss: 0.3069\n",
      "Epoch 21/50\n",
      "55000/55000 [==============================] - 4s 79us/step - loss: 0.3091 - val_loss: 0.3061\n",
      "Epoch 22/50\n",
      "55000/55000 [==============================] - 5s 83us/step - loss: 0.3083 - val_loss: 0.3053\n",
      "Epoch 23/50\n",
      "55000/55000 [==============================] - 5s 82us/step - loss: 0.3075 - val_loss: 0.3047\n",
      "Epoch 24/50\n",
      "55000/55000 [==============================] - 5s 89us/step - loss: 0.3069 - val_loss: 0.3039\n",
      "Epoch 25/50\n",
      "55000/55000 [==============================] - 5s 85us/step - loss: 0.3063 - val_loss: 0.3034\n",
      "Epoch 26/50\n",
      "55000/55000 [==============================] - 5s 85us/step - loss: 0.3057 - val_loss: 0.3028\n",
      "Epoch 27/50\n",
      "55000/55000 [==============================] - 4s 80us/step - loss: 0.3052 - val_loss: 0.3023\n",
      "Epoch 28/50\n",
      "55000/55000 [==============================] - 5s 98us/step - loss: 0.3047 - val_loss: 0.3018\n",
      "Epoch 29/50\n",
      "55000/55000 [==============================] - 5s 90us/step - loss: 0.3042 - val_loss: 0.3013\n",
      "Epoch 30/50\n",
      "55000/55000 [==============================] - 5s 90us/step - loss: 0.3037 - val_loss: 0.3009\n",
      "Epoch 31/50\n",
      "55000/55000 [==============================] - 5s 86us/step - loss: 0.3033 - val_loss: 0.3004\n",
      "Epoch 32/50\n",
      "55000/55000 [==============================] - 5s 88us/step - loss: 0.3028 - val_loss: 0.3000\n",
      "Epoch 33/50\n",
      "55000/55000 [==============================] - 5s 85us/step - loss: 0.3024 - val_loss: 0.2995\n",
      "Epoch 34/50\n",
      "55000/55000 [==============================] - 4s 81us/step - loss: 0.3020 - val_loss: 0.2991\n",
      "Epoch 35/50\n",
      "55000/55000 [==============================] - 5s 85us/step - loss: 0.3016 - val_loss: 0.2987\n",
      "Epoch 36/50\n",
      "55000/55000 [==============================] - 4s 78us/step - loss: 0.3012 - val_loss: 0.2984\n",
      "Epoch 37/50\n",
      "55000/55000 [==============================] - 4s 80us/step - loss: 0.3008 - val_loss: 0.2979\n",
      "Epoch 38/50\n",
      "55000/55000 [==============================] - 4s 76us/step - loss: 0.3004 - val_loss: 0.2976\n",
      "Epoch 39/50\n",
      "55000/55000 [==============================] - 4s 74us/step - loss: 0.3001 - val_loss: 0.2972\n",
      "Epoch 40/50\n",
      "55000/55000 [==============================] - 4s 72us/step - loss: 0.2997 - val_loss: 0.2968\n",
      "Epoch 41/50\n",
      "55000/55000 [==============================] - 4s 70us/step - loss: 0.2993 - val_loss: 0.2965\n",
      "Epoch 42/50\n",
      "55000/55000 [==============================] - 5s 92us/step - loss: 0.2990 - val_loss: 0.2961\n",
      "Epoch 43/50\n",
      "55000/55000 [==============================] - 7s 122us/step - loss: 0.2986 - val_loss: 0.2958\n",
      "Epoch 44/50\n",
      "55000/55000 [==============================] - 4s 77us/step - loss: 0.2983 - val_loss: 0.2955\n",
      "Epoch 45/50\n",
      "55000/55000 [==============================] - 4s 79us/step - loss: 0.2980 - val_loss: 0.2952\n",
      "Epoch 46/50\n",
      "55000/55000 [==============================] - 4s 73us/step - loss: 0.2977 - val_loss: 0.2949\n",
      "Epoch 47/50\n",
      "55000/55000 [==============================] - 4s 76us/step - loss: 0.2974 - val_loss: 0.2946\n",
      "Epoch 48/50\n",
      "55000/55000 [==============================] - 4s 76us/step - loss: 0.2971 - val_loss: 0.2943\n",
      "Epoch 49/50\n",
      "55000/55000 [==============================] - 5s 85us/step - loss: 0.2969 - val_loss: 0.2940\n",
      "Epoch 50/50\n",
      "55000/55000 [==============================] - 5s 88us/step - loss: 0.2966 - val_loss: 0.2938\n"
     ]
    },
    {
     "data": {
      "text/plain": [
       "<keras.callbacks.callbacks.History at 0x1f1805fe898>"
      ]
     },
     "execution_count": 163,
     "metadata": {},
     "output_type": "execute_result"
    }
   ],
   "source": [
    "#Entrenar modelo\n",
    "autoencoder.fit(X_train, X_train,\n",
    "                epochs=50,\n",
    "                batch_size=256,\n",
    "                shuffle=True,\n",
    "                validation_data=(X_valid, X_valid))"
   ]
  },
  {
   "cell_type": "code",
   "execution_count": 170,
   "metadata": {},
   "outputs": [
    {
     "name": "stdout",
     "output_type": "stream",
     "text": [
      "Test loss: 0.29826893029212953\n"
     ]
    }
   ],
   "source": [
    "#Perdida  evaluacion modelo con datos de test\n",
    "Xtest = X_test / 255.0\n",
    "Xtest = Xtest.reshape((len(Xtest), np.prod(Xtest.shape[1:])))\n",
    "score = autoencoder.evaluate(Xtest, Xtest, verbose=0)\n",
    "print('Test loss:', score)"
   ]
  },
  {
   "cell_type": "code",
   "execution_count": 35,
   "metadata": {},
   "outputs": [],
   "source": [
    "# encode and decode some data\n",
    "# note that we take them from the *test* set\n",
    "encoded_imgs = encoder.predict(Xtest)\n",
    "decoded_imgs = decoder.predict(encoded_imgs)"
   ]
  },
  {
   "cell_type": "code",
   "execution_count": 171,
   "metadata": {},
   "outputs": [
    {
     "data": {
      "text/plain": [
       "10000"
      ]
     },
     "execution_count": 171,
     "metadata": {},
     "output_type": "execute_result"
    }
   ],
   "source": [
    "Xtest.shape[0]"
   ]
  },
  {
   "cell_type": "markdown",
   "metadata": {},
   "source": [
    "### Plot Encoder - Decoder"
   ]
  },
  {
   "cell_type": "code",
   "execution_count": 183,
   "metadata": {},
   "outputs": [
    {
     "data": {
      "image/png": "[encoded data removed]",
      "text/plain": [
       "<Figure size 1296x288 with 30 Axes>"
      ]
     },
     "metadata": {
      "needs_background": "light"
     },
     "output_type": "display_data"
    }
   ],
   "source": [
    "num_images = 10\n",
    "np.random.seed(42)\n",
    "random_test_images = np.random.randint(Xtest.shape[0], size=num_images)\n",
    "\n",
    "encoded_imgs = encoder.predict(Xtest)\n",
    "#decoded_imgs = autoencoder.predict(x_test)\n",
    "decoded_imgs = decoder.predict(encoded_imgs)\n",
    "\n",
    "plt.figure(figsize=(18, 4))\n",
    "\n",
    "for i, image_idx in enumerate(random_test_images):\n",
    "    # plot original image\n",
    "    ax = plt.subplot(3, num_images, i + 1)\n",
    "    plt.imshow(X_test[image_idx].reshape(28, 28))\n",
    "    plt.gray()\n",
    "    ax.get_xaxis().set_visible(False)\n",
    "    ax.get_yaxis().set_visible(False)\n",
    "    ax.set_title(\"Original\")\n",
    "    plt.subplots_adjust(hspace = .8)\n",
    "    \n",
    "    # plot encoded image\n",
    "    ax = plt.subplot(3, num_images, num_images + i + 1)\n",
    "    plt.imshow(encoded_imgs[image_idx].reshape(8, 4))\n",
    "    plt.gray()\n",
    "    ax.get_xaxis().set_visible(False)\n",
    "    ax.get_yaxis().set_visible(False)\n",
    "    ax.set_title(\"Codificada\")\n",
    "   \n",
    "    # plot reconstructed image\n",
    "    ax = plt.subplot(3, num_images, 2*num_images + i + 1)\n",
    "    plt.imshow(decoded_imgs[image_idx].reshape(28, 28))\n",
    "    plt.gray()\n",
    "    ax.get_xaxis().set_visible(False)\n",
    "    ax.get_yaxis().set_visible(False)\n",
    "    ax.set_title(\"Decodificada\")\n",
    "plt.show()"
   ]
  },
  {
   "cell_type": "markdown",
   "metadata": {},
   "source": [
    "### Plot Evaluación Modelo Autoencoder:  encode  de 10 imágenes de entrada y su reconstrucción a la salida del  decode"
   ]
  },
  {
   "cell_type": "code",
   "execution_count": 37,
   "metadata": {},
   "outputs": [
    {
     "data": {
      "image/png": "[encoded data removed]",
      "text/plain": [
       "<Figure size 1440x288 with 20 Axes>"
      ]
     },
     "metadata": {
      "needs_background": "light"
     },
     "output_type": "display_data"
    }
   ],
   "source": [
    "# use Matplotlib (don't ask)\n",
    "import matplotlib.pyplot as plt\n",
    "\n",
    "n = 10  # how many digits we will display\n",
    "plt.figure(figsize=(20, 4))\n",
    "for i in range(n):\n",
    "    # display original\n",
    "    ax = plt.subplot(2, n, i + 1)\n",
    "    plt.imshow(Xtest[i].reshape(28, 28))\n",
    "    plt.gray()\n",
    "    ax.get_xaxis().set_visible(False)\n",
    "    ax.get_yaxis().set_visible(False)\n",
    "\n",
    "    # display reconstruction\n",
    "    ax = plt.subplot(2, n, i + 1 + n)\n",
    "    plt.imshow(decoded_imgs[i].reshape(28, 28))\n",
    "    plt.gray()\n",
    "    ax.get_xaxis().set_visible(False)\n",
    "    ax.get_yaxis().set_visible(False)\n",
    "plt.show()"
   ]
  },
  {
   "cell_type": "code",
   "execution_count": 70,
   "metadata": {},
   "outputs": [
    {
     "data": {
      "text/plain": [
       "(10000, 32)"
      ]
     },
     "execution_count": 70,
     "metadata": {},
     "output_type": "execute_result"
    }
   ],
   "source": [
    "encoded_imgs.shape"
   ]
  },
  {
   "cell_type": "code",
   "execution_count": 52,
   "metadata": {
    "scrolled": true
   },
   "outputs": [
    {
     "data": {
      "text/plain": [
       "(10000, 784)"
      ]
     },
     "execution_count": 52,
     "metadata": {},
     "output_type": "execute_result"
    }
   ],
   "source": [
    "decoded_imgs.shape"
   ]
  },
  {
   "cell_type": "markdown",
   "metadata": {},
   "source": [
    "# Modelo MLP"
   ]
  },
  {
   "cell_type": "code",
   "execution_count": 184,
   "metadata": {},
   "outputs": [],
   "source": [
    "#Modelo MLP con capa de entra de  32 variables generadas por el encoder\n",
    "def crear_modelo(optimizer='adam', init='normal'):\n",
    "    modelo1 = keras.models.Sequential()\n",
    "    modelo1.add(keras.layers.Flatten(input_shape=[32,]))\n",
    "    modelo1.add(keras.layers.Dense(300,kernel_initializer=init,activation =\"relu\"))\n",
    "    modelo1.add(keras.layers.Dense(100,kernel_initializer=init, activation =\"relu\"))\n",
    "    modelo1.add(keras.layers.Dense(10,kernel_initializer=init,activation =\"softmax\"))    \n",
    "    #modelo.summary()\n",
    "    modelo1.compile(loss=\"sparse_categorical_crossentropy\", optimizer=optimizer,  metrics=[\"accuracy\"])\n",
    "    return modelo1"
   ]
  },
  {
   "cell_type": "markdown",
   "metadata": {},
   "source": [
    "## Datos de entrada generados por modelo encode ( encoded_imgs) "
   ]
  },
  {
   "cell_type": "code",
   "execution_count": 191,
   "metadata": {},
   "outputs": [
    {
     "data": {
      "text/plain": [
       "(60000, 32)"
      ]
     },
     "execution_count": 191,
     "metadata": {},
     "output_type": "execute_result"
    }
   ],
   "source": [
    "# Preparar datos \n",
    "Xtrainfull = X_train_full / 255.0\n",
    "Xtrainfull = Xtrainfull.reshape((len(Xtrainfull), np.prod(Xtrainfull.shape[1:])))\n",
    "\n",
    "#Se gneran los nuevos datos de 32 variables con el encoder para el MLP\n",
    "encoded_imgs0 = encoder.predict(Xtrainfull)\n",
    "encoded_imgs0.shape"
   ]
  },
  {
   "cell_type": "code",
   "execution_count": 285,
   "metadata": {},
   "outputs": [
    {
     "data": {
      "text/plain": [
       "(60000,)"
      ]
     },
     "execution_count": 285,
     "metadata": {},
     "output_type": "execute_result"
    }
   ],
   "source": [
    "y_train_full.shape"
   ]
  },
  {
   "cell_type": "code",
   "execution_count": 264,
   "metadata": {},
   "outputs": [
    {
     "data": {
      "text/plain": [
       "(60000, 28, 28)"
      ]
     },
     "execution_count": 264,
     "metadata": {},
     "output_type": "execute_result"
    }
   ],
   "source": [
    "X_train_full.shape"
   ]
  },
  {
   "cell_type": "markdown",
   "metadata": {},
   "source": [
    "### Conjuto de images por clase"
   ]
  },
  {
   "cell_type": "code",
   "execution_count": 204,
   "metadata": {},
   "outputs": [],
   "source": [
    "# Clases del conjunto de datos\n",
    "class_names = [\"T-shirt/top\", \"Trouser\", \"Pullover\", \"Dress\", \"Coat\",\n",
    "\"Sandal\", \"Shirt\", \"Sneaker\", \"Bag\", \"Ankle boot\"]\n",
    "#np.array(class_names)[y_pred]."
   ]
  },
  {
   "cell_type": "code",
   "execution_count": 308,
   "metadata": {},
   "outputs": [],
   "source": [
    "# Arreglo de imagenes iniciales\n",
    "val =np.unique(y_train_full)\n",
    "img_ini = []\n",
    "y_ini =[]\n",
    "for i in val:\n",
    "    indi = np.where(y_train_full == i)[0][0]\n",
    "    #print(indi)\n",
    "    y_ini = np.append(y_ini,indi)\n",
    "    img_ini =np.append(img_ini, X_train_full[indi])\n",
    "\n",
    "img_ini = np.asarray(img_ini)\n",
    "y_ini = np.asarray(y_ini)\n",
    "\n",
    "img_ini =img_ini.reshape(10,28,28)\n",
    "y_ini =y_ini.reshape(-1)\n",
    "#print(img_ini.shape)\n",
    "#print(y_ini)\n"
   ]
  },
  {
   "cell_type": "code",
   "execution_count": 309,
   "metadata": {},
   "outputs": [
    {
     "data": {
      "image/png": "[encoded data removed]",
      "text/plain": [
       "<Figure size 1296x288 with 10 Axes>"
      ]
     },
     "metadata": {
      "needs_background": "light"
     },
     "output_type": "display_data"
    }
   ],
   "source": [
    "plt.figure(figsize=(18, 4))\n",
    "for i, image_idx in enumerate(img_ini):\n",
    "    #print (image_idx)\n",
    "    \n",
    "    \n",
    "    # plot original image\n",
    "    ax = plt.subplot(3, 10, i + 1)\n",
    "    plt.imshow(img_ini[i])\n",
    "    #plt.gray()\n",
    "    ax.get_xaxis().set_visible(False)\n",
    "    ax.get_yaxis().set_visible(False)\n",
    "    plt.subplots_adjust(hspace = .8)\n",
    "    \n",
    "    clase_real = np.array(class_names)[i]\n",
    "    ax.set_title(clase_real)\n",
    "    plt.subplots_adjust(hspace = .8)\n",
    "    \n",
    "plt.show()"
   ]
  },
  {
   "cell_type": "markdown",
   "metadata": {},
   "source": [
    "### Datos de Entrenamiento y Test, obtenidos del encoder: encoded_imgs0"
   ]
  },
  {
   "cell_type": "code",
   "execution_count": 196,
   "metadata": {},
   "outputs": [],
   "source": [
    "#new data encoded_imgs\n",
    "#Entrenamiento y test\n",
    "\n",
    "X_test_, X_train_ = encoded_imgs0[:5000] , encoded_imgs0[5000:] \n",
    "y_test_, y_train_ = y_train_full[:5000], y_train_full[5000:]"
   ]
  },
  {
   "cell_type": "code",
   "execution_count": 197,
   "metadata": {},
   "outputs": [
    {
     "name": "stdout",
     "output_type": "stream",
     "text": [
      "X_train_.shape  : (55000, 32)\n",
      "X_test_.shape  : (5000, 32)\n",
      "y_train_ Clases : (55000,)\n",
      "y_test_ Clases : (5000,)\n"
     ]
    }
   ],
   "source": [
    "print(\"X_train_.shape  :\", X_train_.shape)\n",
    "print(\"X_test_.shape  :\", X_test_.shape)\n",
    "print(\"y_train_ Clases :\", y_train_.shape)\n",
    "print(\"y_test_ Clases :\", y_test_.shape)"
   ]
  },
  {
   "cell_type": "markdown",
   "metadata": {},
   "source": [
    "### Datos Entrenamiento y Validacion"
   ]
  },
  {
   "cell_type": "code",
   "execution_count": 198,
   "metadata": {},
   "outputs": [
    {
     "name": "stdout",
     "output_type": "stream",
     "text": [
      "X_train.shape  : (50000, 32)\n",
      "X_valid.shape  : (5000, 32)\n",
      "y_train Clases : (50000,)\n",
      "y_valid Clases : (5000,)\n"
     ]
    }
   ],
   "source": [
    "#Entrenamiento y  validacion\n",
    "X_valid, X_train = X_train_[:5000] , X_train_[5000:] \n",
    "y_valid, y_train = y_train_[:5000],  y_train_[5000:]\n",
    "print(\"X_train.shape  :\", X_train.shape)\n",
    "print(\"X_valid.shape  :\", X_valid.shape)\n",
    "print(\"y_train Clases :\", y_train.shape)\n",
    "print(\"y_valid Clases :\", y_valid.shape)"
   ]
  },
  {
   "cell_type": "markdown",
   "metadata": {},
   "source": [
    "## Crear Modelo MLP"
   ]
  },
  {
   "cell_type": "code",
   "execution_count": 199,
   "metadata": {},
   "outputs": [
    {
     "name": "stdout",
     "output_type": "stream",
     "text": [
      "Train on 50000 samples, validate on 5000 samples\n",
      "Epoch 1/50\n",
      "50000/50000 [==============================] - 12s 238us/sample - loss: 0.5766 - accuracy: 0.7858 - val_loss: 0.5093 - val_accuracy: 0.8068\n",
      "Epoch 2/50\n",
      "50000/50000 [==============================] - 12s 236us/sample - loss: 0.4631 - accuracy: 0.8259 - val_loss: 0.4446 - val_accuracy: 0.8320\n",
      "Epoch 3/50\n",
      "50000/50000 [==============================] - 10s 203us/sample - loss: 0.4340 - accuracy: 0.8386 - val_loss: 0.4453 - val_accuracy: 0.8330\n",
      "Epoch 4/50\n",
      "50000/50000 [==============================] - 9s 186us/sample - loss: 0.4170 - accuracy: 0.8433 - val_loss: 0.4191 - val_accuracy: 0.8464\n",
      "Epoch 5/50\n",
      "50000/50000 [==============================] - 9s 177us/sample - loss: 0.4030 - accuracy: 0.8487 - val_loss: 0.4157 - val_accuracy: 0.8428\n",
      "Epoch 6/50\n",
      "50000/50000 [==============================] - 8s 168us/sample - loss: 0.3923 - accuracy: 0.8522 - val_loss: 0.4239 - val_accuracy: 0.8414\n",
      "Epoch 7/50\n",
      "50000/50000 [==============================] - 9s 178us/sample - loss: 0.3830 - accuracy: 0.8559 - val_loss: 0.3986 - val_accuracy: 0.8502\n",
      "Epoch 8/50\n",
      "50000/50000 [==============================] - 8s 165us/sample - loss: 0.3747 - accuracy: 0.8598 - val_loss: 0.3978 - val_accuracy: 0.8558\n",
      "Epoch 9/50\n",
      "50000/50000 [==============================] - 12s 244us/sample - loss: 0.3682 - accuracy: 0.8604 - val_loss: 0.3935 - val_accuracy: 0.8554\n",
      "Epoch 10/50\n",
      "50000/50000 [==============================] - 12s 237us/sample - loss: 0.3634 - accuracy: 0.8635 - val_loss: 0.4035 - val_accuracy: 0.8514\n",
      "Epoch 11/50\n",
      "50000/50000 [==============================] - 11s 213us/sample - loss: 0.3548 - accuracy: 0.8653 - val_loss: 0.3955 - val_accuracy: 0.8552\n",
      "Epoch 12/50\n",
      "50000/50000 [==============================] - 11s 217us/sample - loss: 0.3525 - accuracy: 0.8672 - val_loss: 0.3768 - val_accuracy: 0.8604\n",
      "Epoch 13/50\n",
      "50000/50000 [==============================] - 12s 232us/sample - loss: 0.3459 - accuracy: 0.8692 - val_loss: 0.3845 - val_accuracy: 0.8588\n",
      "Epoch 14/50\n",
      "50000/50000 [==============================] - 11s 210us/sample - loss: 0.3409 - accuracy: 0.8705 - val_loss: 0.3910 - val_accuracy: 0.8576\n",
      "Epoch 15/50\n",
      "50000/50000 [==============================] - 11s 220us/sample - loss: 0.3370 - accuracy: 0.8709 - val_loss: 0.4022 - val_accuracy: 0.8540\n",
      "Epoch 16/50\n",
      "50000/50000 [==============================] - 11s 224us/sample - loss: 0.3350 - accuracy: 0.8736 - val_loss: 0.4005 - val_accuracy: 0.8524\n",
      "Epoch 17/50\n",
      "50000/50000 [==============================] - 10s 204us/sample - loss: 0.3287 - accuracy: 0.8744 - val_loss: 0.3862 - val_accuracy: 0.8566\n",
      "Epoch 18/50\n",
      "50000/50000 [==============================] - 11s 224us/sample - loss: 0.3258 - accuracy: 0.8772 - val_loss: 0.3961 - val_accuracy: 0.8628\n",
      "Epoch 19/50\n",
      "50000/50000 [==============================] - 12s 232us/sample - loss: 0.3224 - accuracy: 0.8773 - val_loss: 0.3778 - val_accuracy: 0.8644\n",
      "Epoch 20/50\n",
      "50000/50000 [==============================] - 12s 232us/sample - loss: 0.3183 - accuracy: 0.8789 - val_loss: 0.3821 - val_accuracy: 0.8638\n",
      "Epoch 21/50\n",
      "50000/50000 [==============================] - 12s 232us/sample - loss: 0.3155 - accuracy: 0.8796 - val_loss: 0.3860 - val_accuracy: 0.8634\n",
      "Epoch 22/50\n",
      "50000/50000 [==============================] - 14s 273us/sample - loss: 0.3114 - accuracy: 0.8802 - val_loss: 0.3908 - val_accuracy: 0.8604\n",
      "Epoch 23/50\n",
      "50000/50000 [==============================] - 13s 265us/sample - loss: 0.3090 - accuracy: 0.8815 - val_loss: 0.3752 - val_accuracy: 0.8692\n",
      "Epoch 24/50\n",
      "50000/50000 [==============================] - 12s 235us/sample - loss: 0.3039 - accuracy: 0.8839 - val_loss: 0.3874 - val_accuracy: 0.8594\n",
      "Epoch 25/50\n",
      "50000/50000 [==============================] - 12s 233us/sample - loss: 0.3008 - accuracy: 0.8847 - val_loss: 0.3933 - val_accuracy: 0.8638\n",
      "Epoch 26/50\n",
      "50000/50000 [==============================] - 12s 238us/sample - loss: 0.2987 - accuracy: 0.8853 - val_loss: 0.3956 - val_accuracy: 0.8610\n",
      "Epoch 27/50\n",
      "50000/50000 [==============================] - 14s 279us/sample - loss: 0.2979 - accuracy: 0.8867 - val_loss: 0.3904 - val_accuracy: 0.8618\n",
      "Epoch 28/50\n",
      "50000/50000 [==============================] - 9s 186us/sample - loss: 0.2939 - accuracy: 0.8868 - val_loss: 0.3899 - val_accuracy: 0.8616\n",
      "Epoch 29/50\n",
      "50000/50000 [==============================] - 10s 196us/sample - loss: 0.2907 - accuracy: 0.8881 - val_loss: 0.3922 - val_accuracy: 0.8654\n",
      "Epoch 30/50\n",
      "50000/50000 [==============================] - 10s 195us/sample - loss: 0.2891 - accuracy: 0.8898 - val_loss: 0.4042 - val_accuracy: 0.8600\n",
      "Epoch 31/50\n",
      "50000/50000 [==============================] - 9s 175us/sample - loss: 0.2838 - accuracy: 0.8910 - val_loss: 0.3906 - val_accuracy: 0.8644\n",
      "Epoch 32/50\n",
      "50000/50000 [==============================] - 10s 192us/sample - loss: 0.2819 - accuracy: 0.8909 - val_loss: 0.3893 - val_accuracy: 0.8598\n",
      "Epoch 33/50\n",
      "50000/50000 [==============================] - 9s 190us/sample - loss: 0.2803 - accuracy: 0.8927 - val_loss: 0.4060 - val_accuracy: 0.8650\n",
      "Epoch 34/50\n",
      "50000/50000 [==============================] - 12s 248us/sample - loss: 0.2792 - accuracy: 0.8931 - val_loss: 0.4007 - val_accuracy: 0.8608\n",
      "Epoch 35/50\n",
      "50000/50000 [==============================] - 14s 271us/sample - loss: 0.2756 - accuracy: 0.8940 - val_loss: 0.3986 - val_accuracy: 0.8676\n",
      "Epoch 36/50\n",
      "50000/50000 [==============================] - 9s 185us/sample - loss: 0.2732 - accuracy: 0.8951 - val_loss: 0.4022 - val_accuracy: 0.8680\n",
      "Epoch 37/50\n",
      "50000/50000 [==============================] - 9s 175us/sample - loss: 0.2704 - accuracy: 0.8953 - val_loss: 0.4089 - val_accuracy: 0.8666\n",
      "Epoch 38/50\n",
      "50000/50000 [==============================] - 9s 183us/sample - loss: 0.2693 - accuracy: 0.8950 - val_loss: 0.4168 - val_accuracy: 0.8566\n",
      "Epoch 39/50\n",
      "50000/50000 [==============================] - 8s 169us/sample - loss: 0.2630 - accuracy: 0.8984 - val_loss: 0.4124 - val_accuracy: 0.8674\n",
      "Epoch 40/50\n",
      "50000/50000 [==============================] - 9s 187us/sample - loss: 0.2648 - accuracy: 0.8974 - val_loss: 0.4194 - val_accuracy: 0.8600\n",
      "Epoch 41/50\n",
      "50000/50000 [==============================] - 8s 163us/sample - loss: 0.2617 - accuracy: 0.8998 - val_loss: 0.4185 - val_accuracy: 0.8612\n",
      "Epoch 42/50\n",
      "50000/50000 [==============================] - 9s 172us/sample - loss: 0.2586 - accuracy: 0.9006 - val_loss: 0.4204 - val_accuracy: 0.8568\n",
      "Epoch 43/50\n",
      "50000/50000 [==============================] - 9s 174us/sample - loss: 0.2583 - accuracy: 0.9009 - val_loss: 0.4274 - val_accuracy: 0.8576\n",
      "Epoch 44/50\n",
      "50000/50000 [==============================] - 15s 295us/sample - loss: 0.2550 - accuracy: 0.9025 - val_loss: 0.4302 - val_accuracy: 0.8656\n",
      "Epoch 45/50\n",
      "50000/50000 [==============================] - 12s 237us/sample - loss: 0.2528 - accuracy: 0.9026 - val_loss: 0.4251 - val_accuracy: 0.8660\n",
      "Epoch 46/50\n",
      "50000/50000 [==============================] - 12s 230us/sample - loss: 0.2545 - accuracy: 0.9023 - val_loss: 0.4262 - val_accuracy: 0.8634\n",
      "Epoch 47/50\n",
      "50000/50000 [==============================] - 12s 246us/sample - loss: 0.2495 - accuracy: 0.9032 - val_loss: 0.4458 - val_accuracy: 0.8580\n",
      "Epoch 48/50\n",
      "50000/50000 [==============================] - 12s 238us/sample - loss: 0.2494 - accuracy: 0.9038 - val_loss: 0.4449 - val_accuracy: 0.8522\n",
      "Epoch 49/50\n",
      "50000/50000 [==============================] - 13s 260us/sample - loss: 0.2462 - accuracy: 0.9051 - val_loss: 0.4471 - val_accuracy: 0.8646\n",
      "Epoch 50/50\n",
      "50000/50000 [==============================] - 11s 230us/sample - loss: 0.2458 - accuracy: 0.9050 - val_loss: 0.4425 - val_accuracy: 0.8592\n"
     ]
    }
   ],
   "source": [
    "modeloMLP = crear_modelo()\n",
    "history = modeloMLP.fit(X_train, y_train, batch_size=32, epochs=50,validation_data=(X_valid, y_valid))"
   ]
  },
  {
   "cell_type": "code",
   "execution_count": 200,
   "metadata": {},
   "outputs": [
    {
     "data": {
      "image/png": "[encoded data removed]",
      "text/plain": [
       "<Figure size 576x360 with 1 Axes>"
      ]
     },
     "metadata": {
      "needs_background": "light"
     },
     "output_type": "display_data"
    }
   ],
   "source": [
    "import pandas as pd\n",
    "pd.DataFrame(history.history).plot(figsize=(8, 5))\n",
    "plt.grid(True)\n",
    "plt.gca().set_ylim(0, 1) # set the vertical range to [0-1]\n",
    "plt.title(\"Curvas Aprendizaje Entrenamiento y Validación\")\n",
    "plt.show()"
   ]
  },
  {
   "cell_type": "code",
   "execution_count": 201,
   "metadata": {},
   "outputs": [
    {
     "name": "stdout",
     "output_type": "stream",
     "text": [
      "Test loss: 0.42696501519680025\n",
      "Test accuracy: 0.865\n"
     ]
    }
   ],
   "source": [
    "score = modeloMLP.evaluate(X_test_, y_test_, verbose=0)\n",
    "print('Test loss:', score[0])\n",
    "print('Test accuracy:', score[1])"
   ]
  },
  {
   "cell_type": "markdown",
   "metadata": {},
   "source": [
    "### Se observa que el modelo preliminar tiene un buen comportamiento con accuracy %86 sobre el set de datos de validación.\n",
    "### Las curvas de accuracy en entrenamiento y validación son cercanas lo que indica una buena generalización del modelo.\n",
    "### Las curvas de perdida aumenta rápidamente en validación con respecto a entrenamiento, después de la época 20, donde la accuracy se mantiene en 86%., lo que podría indicar un sobre entrenamiento. Por lo que sería suficiente con entrenamiento en 20 épocas."
   ]
  },
  {
   "cell_type": "markdown",
   "metadata": {},
   "source": [
    "## Predicción del modelo MLP"
   ]
  },
  {
   "cell_type": "code",
   "execution_count": 328,
   "metadata": {},
   "outputs": [
    {
     "data": {
      "text/plain": [
       "array([[0.  , 0.  , 0.  , 0.  , 0.  , 0.04, 0.  , 0.96, 0.  , 0.  ],\n",
       "       [0.02, 0.  , 0.88, 0.  , 0.02, 0.  , 0.07, 0.  , 0.  , 0.  ],\n",
       "       [0.  , 0.  , 0.98, 0.  , 0.01, 0.  , 0.01, 0.  , 0.  , 0.  ],\n",
       "       [0.78, 0.  , 0.  , 0.  , 0.  , 0.  , 0.22, 0.  , 0.  , 0.  ]],\n",
       "      dtype=float32)"
      ]
     },
     "execution_count": 328,
     "metadata": {},
     "output_type": "execute_result"
    }
   ],
   "source": [
    "#predict muestra la probabilidad asignada a cad clase a una instnacia dada\n",
    "X_new = X_test_[52:56]\n",
    "y_proba = modeloMLP.predict(X_new)\n",
    "y_proba.round(2)"
   ]
  },
  {
   "cell_type": "code",
   "execution_count": 329,
   "metadata": {},
   "outputs": [
    {
     "data": {
      "text/plain": [
       "array([7, 2, 2, 0], dtype=int64)"
      ]
     },
     "execution_count": 329,
     "metadata": {},
     "output_type": "execute_result"
    }
   ],
   "source": [
    "# con predict_classes determian cual es la clase con mayor ptobabilidad para una instacia\n",
    "y_pred = modeloMLP.predict_classes(X_new)\n",
    "y_pred"
   ]
  },
  {
   "cell_type": "code",
   "execution_count": 331,
   "metadata": {},
   "outputs": [
    {
     "name": "stdout",
     "output_type": "stream",
     "text": [
      "7 ,  2 ,  2 ,  6\n"
     ]
    }
   ],
   "source": [
    "#Comparación  con la clasificacion real\n",
    "print( y_test_[52], \", \", y_test_[53], \", \" ,y_test_[54], \", \", y_test_[55])"
   ]
  },
  {
   "cell_type": "code",
   "execution_count": 332,
   "metadata": {},
   "outputs": [
    {
     "data": {
      "text/plain": [
       "array(['Sneaker', 'Pullover', 'Pullover', 'T-shirt/top'], dtype='<U11')"
      ]
     },
     "execution_count": 332,
     "metadata": {},
     "output_type": "execute_result"
    }
   ],
   "source": [
    "#Ver la clasifcacado a cada  clase\n",
    "np.array(class_names)[y_pred]"
   ]
  },
  {
   "cell_type": "code",
   "execution_count": 344,
   "metadata": {},
   "outputs": [
    {
     "data": {
      "text/plain": [
       "<matplotlib.image.AxesImage at 0x1f1adc17cf8>"
      ]
     },
     "execution_count": 344,
     "metadata": {},
     "output_type": "execute_result"
    },
    {
     "data": {
      "image/png": "[encoded data removed]",
      "text/plain": [
       "<Figure size 432x288 with 4 Axes>"
      ]
     },
     "metadata": {
      "needs_background": "light"
     },
     "output_type": "display_data"
    }
   ],
   "source": [
    "#Plot real de las  clases\n",
    "# plot 4 images as gray scale\n",
    "plt.subplot(221)\n",
    "plt.imshow(X_train_full[52], cmap=plt.get_cmap('gray'))\n",
    "plt.subplot(222)\n",
    "plt.imshow(X_train_full[53], cmap=plt.get_cmap('gray'))\n",
    "plt.subplot(223)\n",
    "plt.imshow(X_train_full[54], cmap=plt.get_cmap('gray'))\n",
    "plt.subplot(224)\n",
    "plt.imshow(X_train_full[55], cmap=plt.get_cmap('gray'))\n"
   ]
  },
  {
   "cell_type": "code",
   "execution_count": 335,
   "metadata": {},
   "outputs": [
    {
     "data": {
      "text/plain": [
       "'Shirt'"
      ]
     },
     "execution_count": 335,
     "metadata": {},
     "output_type": "execute_result"
    }
   ],
   "source": [
    "#Cometio error en la clase 0 cuando en realidad es 6\n",
    "#Clasificando 'Shirt' como 'T-shirt/top' \n",
    "\n",
    "np.array(class_names)[6]"
   ]
  },
  {
   "cell_type": "markdown",
   "metadata": {},
   "source": [
    "## Validación del modelo "
   ]
  },
  {
   "cell_type": "code",
   "execution_count": 342,
   "metadata": {},
   "outputs": [
    {
     "data": {
      "image/png": "[encoded data removed]",
      "text/plain": [
       "<Figure size 1296x288 with 20 Axes>"
      ]
     },
     "metadata": {
      "needs_background": "light"
     },
     "output_type": "display_data"
    }
   ],
   "source": [
    "num_images = 10\n",
    "np.random.seed(42)\n",
    "X_real = X_train_full[:5000]\n",
    "random_test_images = np.random.randint(X_real.shape[0], size=num_images)\n",
    "\n",
    "plt.figure(figsize=(18, 4))\n",
    "\n",
    "for i, image_idx in enumerate(random_test_images):\n",
    "    # plot original imagen\n",
    "    ax = plt.subplot(3, num_images, i + 1)\n",
    "    plt.imshow(X_real[image_idx])\n",
    "    plt.gray()\n",
    "    ax.get_xaxis().set_visible(False)\n",
    "    ax.get_yaxis().set_visible(False)\n",
    "    plt.subplots_adjust(hspace = .8)\n",
    "    clase_real = np.array(class_names)[y_test_[image_idx]]\n",
    "    ax.set_title(clase_real)\n",
    "    \n",
    "    # plot Clasificacion imagen\n",
    "    ax = plt.subplot(3, num_images, num_images + i + 1)\n",
    "    y_pred = modeloMLP.predict_classes(X_test_[image_idx].reshape(1,32))\n",
    "    plt.imshow(img_ini[y_pred].reshape(28,28))\n",
    "    plt.gray()\n",
    "    ax.get_xaxis().set_visible(False)\n",
    "    ax.get_yaxis().set_visible(False)\n",
    "    clasificacion = np.array(class_names)[y_pred]\n",
    "    ax.set_title(clasificacion)\n",
    "\n",
    "    \n",
    "plt.show()"
   ]
  },
  {
   "cell_type": "markdown",
   "metadata": {},
   "source": [
    "## El general el modelo tiene un buen desempeño con accuracy del 86%, se observa que se equivoca clasificando Shirt como 'T-shirt/top' o 'Coat', como se ve en las imágenes"
   ]
  },
  {
   "cell_type": "code",
   "execution_count": null,
   "metadata": {},
   "outputs": [],
   "source": []
  }
 ],
 "metadata": {
  "kernelspec": {
   "display_name": "Python 3",
   "language": "python",
   "name": "python3"
  },
  "language_info": {
   "codemirror_mode": {
    "name": "ipython",
    "version": 3
   },
   "file_extension": ".py",
   "mimetype": "text/x-python",
   "name": "python",
   "nbconvert_exporter": "python",
   "pygments_lexer": "ipython3",
   "version": "3.7.3"
  }
 },
 "nbformat": 4,
 "nbformat_minor": 2
}
