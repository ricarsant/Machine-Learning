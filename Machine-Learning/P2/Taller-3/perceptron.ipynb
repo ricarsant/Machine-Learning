{
 "cells": [
  {
   "cell_type": "markdown",
   "metadata": {},
   "source": [
    "# TALLER N. 3.\n",
    "## Punto 1 -a:  Entrenamiento de un perceptrón multicapa."
   ]
  },
  {
   "cell_type": "markdown",
   "metadata": {},
   "source": [
    "<p>Integrantes:</p>\n",
    "<ul>\n",
    "<li>Juan Camilo Cática</li>\n",
    "<li>Ricardo Santacruz </li>\n",
    "<li>Diego Fernando Escobar</li>\n",
    "</ul>"
   ]
  },
  {
   "cell_type": "code",
   "execution_count": 1,
   "metadata": {},
   "outputs": [],
   "source": [
    "import tensorflow as tf\n",
    "from tensorflow import keras\n",
    "import matplotlib.pyplot as plt\n",
    "import numpy as np"
   ]
  },
  {
   "cell_type": "code",
   "execution_count": 2,
   "metadata": {},
   "outputs": [],
   "source": [
    "def normalize(arr):\n",
    "    rng = arr.max()-arr.min()\n",
    "    amin = arr.min()\n",
    "    return (arr-amin)*255/rng"
   ]
  },
  {
   "cell_type": "code",
   "execution_count": 3,
   "metadata": {},
   "outputs": [],
   "source": [
    "#Cargar Bd"
   ]
  },
  {
   "cell_type": "code",
   "execution_count": 4,
   "metadata": {},
   "outputs": [],
   "source": [
    "fashion_mnist = keras.datasets.fashion_mnist\n",
    "(X_train_full, y_train_full), (X_test, y_test) = fashion_mnist.load_data()"
   ]
  },
  {
   "cell_type": "code",
   "execution_count": 5,
   "metadata": {},
   "outputs": [
    {
     "name": "stdout",
     "output_type": "stream",
     "text": [
      "X_train_full Shape : (60000, 28, 28)\n",
      "X_train_full[0] Shape : (28, 28)\n",
      "y_train_full Shape : (60000,)\n",
      "X_test Shape       : (10000, 28, 28)\n",
      "y_test Shape       : (10000,)\n"
     ]
    }
   ],
   "source": [
    "print(\"X_train_full Shape :\", X_train_full.shape)\n",
    "print(\"X_train_full[0] Shape :\", X_train_full[0].shape)\n",
    "print(\"y_train_full Shape :\", y_train_full.shape)\n",
    "\n",
    "\n",
    "print(\"X_test Shape       :\", X_test.shape)\n",
    "print(\"y_test Shape       :\", y_test.shape)"
   ]
  },
  {
   "cell_type": "code",
   "execution_count": 6,
   "metadata": {},
   "outputs": [
    {
     "data": {
      "image/png": "[encoded data removed]",
      "text/plain": [
       "<Figure size 432x288 with 4 Axes>"
      ]
     },
     "metadata": {
      "needs_background": "light"
     },
     "output_type": "display_data"
    }
   ],
   "source": [
    "# plot 4 images as gray scale\n",
    "plt.subplot(221)\n",
    "plt.imshow(X_train_full[0], cmap=plt.get_cmap('gray'))\n",
    "plt.subplot(222)\n",
    "plt.imshow(X_train_full[1], cmap=plt.get_cmap('gray'))\n",
    "plt.subplot(223)\n",
    "plt.imshow(X_train_full[2], cmap=plt.get_cmap('gray'))\n",
    "plt.subplot(224)\n",
    "\n",
    "#Plot test - color\n",
    "plt.imshow(X_test[10])\n",
    "# show the plot\n",
    "plt.show()"
   ]
  },
  {
   "cell_type": "code",
   "execution_count": 7,
   "metadata": {},
   "outputs": [],
   "source": [
    "#Obtener set datos validacion"
   ]
  },
  {
   "cell_type": "code",
   "execution_count": 8,
   "metadata": {},
   "outputs": [],
   "source": [
    "X_valid, X_train = X_train_full[:5000] , X_train_full[5000:] \n",
    "y_valid, y_train = y_train_full[:5000], y_train_full[5000:]"
   ]
  },
  {
   "cell_type": "code",
   "execution_count": 9,
   "metadata": {},
   "outputs": [],
   "source": [
    "#Nomalizar datos de validacion y entrenamiento"
   ]
  },
  {
   "cell_type": "code",
   "execution_count": 10,
   "metadata": {},
   "outputs": [],
   "source": [
    "X_valid = normalize(X_valid)\n",
    "X_train = normalize(X_train)"
   ]
  },
  {
   "cell_type": "code",
   "execution_count": 11,
   "metadata": {},
   "outputs": [],
   "source": [
    "#Establecer el nombre de las clases"
   ]
  },
  {
   "cell_type": "code",
   "execution_count": 12,
   "metadata": {},
   "outputs": [],
   "source": [
    "class_names = [\"T-shirt/top\", \"Trouser\", \"Pullover\", \"Dress\", \"Coat\",\n",
    "\"Sandal\", \"Shirt\", \"Sneaker\", \"Bag\", \"Ankle boot\"]"
   ]
  },
  {
   "cell_type": "code",
   "execution_count": 14,
   "metadata": {},
   "outputs": [
    {
     "data": {
      "text/plain": [
       "array([4, 0, 7, ..., 3, 0, 5], dtype=uint8)"
      ]
     },
     "execution_count": 14,
     "metadata": {},
     "output_type": "execute_result"
    }
   ],
   "source": [
    "y_train"
   ]
  },
  {
   "cell_type": "markdown",
   "metadata": {},
   "source": [
    "# Crear modelo.\n",
    "## capa de entrada con input shape [28,28] .\n",
    "#### FLATEN VECTORIZA LAS IMAGENES Y LAS VUELVE EN UN ARREGLO DE UNA DIMESION.\n",
    "#### SE OBTIENE UN ARREGLO DE UAN DIMESION CON 28X28 =728 ELEMENTOS (CAPA DE ENTRADA).\n",
    "## Se adicionan dos capas ocultas de 300 y 100 neuronas y activación relu.\n",
    "## La capa de salida con 10 neuronas =Len(class_names) y activación multiclase softmax"
   ]
  },
  {
   "cell_type": "code",
   "execution_count": 13,
   "metadata": {},
   "outputs": [
    {
     "name": "stdout",
     "output_type": "stream",
     "text": [
      "Model: \"sequential\"\n",
      "_________________________________________________________________\n",
      "Layer (type)                 Output Shape              Param #   \n",
      "=================================================================\n",
      "flatten (Flatten)            (None, 784)               0         \n",
      "_________________________________________________________________\n",
      "dense (Dense)                (None, 300)               235500    \n",
      "_________________________________________________________________\n",
      "dense_1 (Dense)              (None, 100)               30100     \n",
      "_________________________________________________________________\n",
      "dense_2 (Dense)              (None, 10)                1010      \n",
      "=================================================================\n",
      "Total params: 266,610\n",
      "Trainable params: 266,610\n",
      "Non-trainable params: 0\n",
      "_________________________________________________________________\n"
     ]
    }
   ],
   "source": [
    "modelo = keras.models.Sequential()\n",
    "modelo.add(keras.layers.Flatten(input_shape=[28,28]))\n",
    "modelo.add(keras.layers.Dense(300,activation =\"relu\"))\n",
    "modelo.add(keras.layers.Dense(100,activation =\"relu\"))\n",
    "modelo.add(keras.layers.Dense(10,activation =\"softmax\"))    \n",
    "modelo.summary()"
   ]
  },
  {
   "cell_type": "code",
   "execution_count": 14,
   "metadata": {},
   "outputs": [
    {
     "name": "stdout",
     "output_type": "stream",
     "text": [
      "flatten\n",
      "[]\n",
      "dense\n",
      "[array([[-0.02166273, -0.03912928,  0.06135528, ..., -0.04562813,\n",
      "         0.06831679, -0.00864974],\n",
      "       [ 0.06271914,  0.01451854, -0.0002798 , ..., -0.06131898,\n",
      "        -0.0256618 ,  0.06593293],\n",
      "       [ 0.0198298 , -0.02213283,  0.03300832, ...,  0.02251069,\n",
      "        -0.03165487, -0.0249953 ],\n",
      "       ...,\n",
      "       [ 0.0397812 ,  0.07111815, -0.01302123, ...,  0.06127705,\n",
      "        -0.00275857,  0.04632638],\n",
      "       [ 0.05639772, -0.01593735,  0.03715055, ...,  0.07390484,\n",
      "         0.02822387, -0.01005985],\n",
      "       [ 0.01245049, -0.04149776, -0.05539218, ..., -0.00173022,\n",
      "        -0.01376851,  0.05805489]], dtype=float32), array([0., 0., 0., 0., 0., 0., 0., 0., 0., 0., 0., 0., 0., 0., 0., 0., 0.,\n",
      "       0., 0., 0., 0., 0., 0., 0., 0., 0., 0., 0., 0., 0., 0., 0., 0., 0.,\n",
      "       0., 0., 0., 0., 0., 0., 0., 0., 0., 0., 0., 0., 0., 0., 0., 0., 0.,\n",
      "       0., 0., 0., 0., 0., 0., 0., 0., 0., 0., 0., 0., 0., 0., 0., 0., 0.,\n",
      "       0., 0., 0., 0., 0., 0., 0., 0., 0., 0., 0., 0., 0., 0., 0., 0., 0.,\n",
      "       0., 0., 0., 0., 0., 0., 0., 0., 0., 0., 0., 0., 0., 0., 0., 0., 0.,\n",
      "       0., 0., 0., 0., 0., 0., 0., 0., 0., 0., 0., 0., 0., 0., 0., 0., 0.,\n",
      "       0., 0., 0., 0., 0., 0., 0., 0., 0., 0., 0., 0., 0., 0., 0., 0., 0.,\n",
      "       0., 0., 0., 0., 0., 0., 0., 0., 0., 0., 0., 0., 0., 0., 0., 0., 0.,\n",
      "       0., 0., 0., 0., 0., 0., 0., 0., 0., 0., 0., 0., 0., 0., 0., 0., 0.,\n",
      "       0., 0., 0., 0., 0., 0., 0., 0., 0., 0., 0., 0., 0., 0., 0., 0., 0.,\n",
      "       0., 0., 0., 0., 0., 0., 0., 0., 0., 0., 0., 0., 0., 0., 0., 0., 0.,\n",
      "       0., 0., 0., 0., 0., 0., 0., 0., 0., 0., 0., 0., 0., 0., 0., 0., 0.,\n",
      "       0., 0., 0., 0., 0., 0., 0., 0., 0., 0., 0., 0., 0., 0., 0., 0., 0.,\n",
      "       0., 0., 0., 0., 0., 0., 0., 0., 0., 0., 0., 0., 0., 0., 0., 0., 0.,\n",
      "       0., 0., 0., 0., 0., 0., 0., 0., 0., 0., 0., 0., 0., 0., 0., 0., 0.,\n",
      "       0., 0., 0., 0., 0., 0., 0., 0., 0., 0., 0., 0., 0., 0., 0., 0., 0.,\n",
      "       0., 0., 0., 0., 0., 0., 0., 0., 0., 0., 0.], dtype=float32)]\n",
      "dense_1\n",
      "[array([[ 0.10089698, -0.00420409,  0.06290189, ...,  0.12211757,\n",
      "         0.00963671, -0.00369485],\n",
      "       [-0.08793296, -0.11062682,  0.02007487, ...,  0.02323327,\n",
      "        -0.12152521, -0.10423984],\n",
      "       [ 0.10421919, -0.02416772,  0.09861381, ..., -0.08563386,\n",
      "         0.04276573,  0.05876134],\n",
      "       ...,\n",
      "       [-0.06383498,  0.04081448, -0.05962294, ...,  0.10598926,\n",
      "         0.05892911, -0.0413998 ],\n",
      "       [ 0.02858851, -0.08869708,  0.07661211, ..., -0.0591298 ,\n",
      "         0.08609559,  0.07791526],\n",
      "       [-0.06980966, -0.09655315, -0.007103  , ..., -0.01662566,\n",
      "        -0.07922149, -0.0806943 ]], dtype=float32), array([0., 0., 0., 0., 0., 0., 0., 0., 0., 0., 0., 0., 0., 0., 0., 0., 0.,\n",
      "       0., 0., 0., 0., 0., 0., 0., 0., 0., 0., 0., 0., 0., 0., 0., 0., 0.,\n",
      "       0., 0., 0., 0., 0., 0., 0., 0., 0., 0., 0., 0., 0., 0., 0., 0., 0.,\n",
      "       0., 0., 0., 0., 0., 0., 0., 0., 0., 0., 0., 0., 0., 0., 0., 0., 0.,\n",
      "       0., 0., 0., 0., 0., 0., 0., 0., 0., 0., 0., 0., 0., 0., 0., 0., 0.,\n",
      "       0., 0., 0., 0., 0., 0., 0., 0., 0., 0., 0., 0., 0., 0., 0.],\n",
      "      dtype=float32)]\n",
      "dense_2\n",
      "[array([[ 2.15557039e-01, -7.74299800e-02,  8.51134360e-02,\n",
      "        -2.16837451e-01,  7.08845556e-02, -1.69728845e-02,\n",
      "        -7.70354569e-02,  1.68655306e-01,  1.77554041e-01,\n",
      "         4.30910289e-03],\n",
      "       [ 9.53781307e-02, -1.50849789e-01, -1.91145122e-01,\n",
      "         1.10647202e-01, -1.39847398e-02, -5.39682806e-02,\n",
      "         2.19629496e-01, -1.17695272e-01, -2.09219068e-01,\n",
      "         4.03049886e-02],\n",
      "       [ 1.29227191e-01, -2.55590230e-02,  1.85304731e-01,\n",
      "        -2.05364332e-01,  1.69554979e-01,  1.51185185e-01,\n",
      "        -9.91834700e-03,  1.87747866e-01, -7.79192597e-02,\n",
      "         2.33043194e-01],\n",
      "       [-2.01570570e-01,  8.12751949e-02, -4.54360992e-02,\n",
      "         1.66438013e-01, -5.06285578e-02,  9.40150917e-02,\n",
      "         1.40950769e-01, -1.60149783e-02, -7.20024109e-04,\n",
      "         8.20727646e-03],\n",
      "       [ 4.18251455e-02, -1.38727874e-01,  1.76217049e-01,\n",
      "        -1.38795465e-01, -1.31705523e-01, -7.69247115e-02,\n",
      "        -1.46295741e-01,  1.73258364e-01,  2.18294561e-02,\n",
      "        -1.23530366e-01],\n",
      "       [ 7.76701868e-02, -4.78385836e-02, -1.15639195e-01,\n",
      "        -1.90627128e-02, -4.81294096e-02, -1.08026162e-01,\n",
      "        -1.93045393e-01,  4.59905863e-02,  1.81256831e-02,\n",
      "        -5.13062626e-02],\n",
      "       [-2.31937110e-01,  3.25737894e-03, -2.12260395e-01,\n",
      "         2.20703363e-01, -1.55837849e-01, -1.27432764e-01,\n",
      "        -1.70062304e-01,  2.16912299e-01, -7.33773410e-02,\n",
      "        -1.76408887e-01],\n",
      "       [-2.04264209e-01,  2.19425797e-01, -1.71604872e-01,\n",
      "        -1.39650196e-01,  2.01567620e-01, -1.81158781e-02,\n",
      "        -1.54113293e-01, -7.39239156e-02, -4.35945094e-02,\n",
      "        -3.89491320e-02],\n",
      "       [-7.08891600e-02, -4.28666174e-02, -1.36345044e-01,\n",
      "        -1.93371087e-01,  1.32139713e-01, -6.53285831e-02,\n",
      "        -1.71241373e-01, -5.81295490e-02, -3.69076431e-02,\n",
      "        -2.02750817e-01],\n",
      "       [-2.25661516e-01,  1.77909970e-01, -3.99297625e-02,\n",
      "         2.20961273e-02, -1.73253179e-01,  1.19685024e-01,\n",
      "         2.12810695e-01, -2.19017252e-01, -6.00491613e-02,\n",
      "         9.86398458e-02],\n",
      "       [-1.69129550e-01, -2.29486078e-01,  9.79899764e-02,\n",
      "         6.34653866e-02,  4.50223088e-02,  1.88502908e-01,\n",
      "         1.20283902e-01,  2.78494358e-02, -1.43029243e-01,\n",
      "         1.78148687e-01],\n",
      "       [-1.20305561e-01, -1.00320578e-02, -2.22223178e-01,\n",
      "        -1.27529651e-01, -1.41797647e-01, -8.00796300e-02,\n",
      "         1.54962450e-01,  7.31336176e-02,  2.67501771e-02,\n",
      "        -1.58659339e-01],\n",
      "       [-1.81881815e-01, -1.80246919e-01, -8.35141242e-02,\n",
      "         5.98547161e-02,  1.72902048e-01,  1.78750336e-01,\n",
      "         7.84006417e-02,  5.08614182e-02, -1.26289666e-01,\n",
      "         2.21999556e-01],\n",
      "       [-1.55309469e-01,  1.63102210e-01, -1.41645968e-01,\n",
      "        -6.63017035e-02,  5.31021357e-02, -1.38102502e-01,\n",
      "         2.17408866e-01,  1.93991333e-01, -1.89994380e-01,\n",
      "        -2.05043659e-01],\n",
      "       [ 1.71376407e-01, -1.38874054e-02,  4.00920212e-03,\n",
      "         1.85602427e-01, -1.15117133e-02,  1.04779631e-01,\n",
      "        -1.71035171e-01, -5.06150275e-02, -1.95069849e-01,\n",
      "         1.63878471e-01],\n",
      "       [-2.21179575e-02,  8.92609656e-02,  7.13851750e-02,\n",
      "         2.04000205e-01, -3.71117145e-02, -3.62633169e-03,\n",
      "        -7.68464208e-02, -1.65109605e-01, -1.26244724e-01,\n",
      "         4.64203358e-02],\n",
      "       [-7.63429999e-02, -1.41539335e-01,  1.20703310e-01,\n",
      "         1.27021968e-02,  1.42824203e-02, -3.18240970e-02,\n",
      "         1.27832562e-01, -1.79237843e-01,  1.38824910e-01,\n",
      "        -1.26361102e-02],\n",
      "       [-1.11604601e-01, -5.00448346e-02,  1.22357309e-01,\n",
      "         1.33529007e-01,  1.53516054e-01, -1.30058035e-01,\n",
      "         1.82487965e-02, -1.19986616e-01,  5.21773100e-02,\n",
      "        -1.78157434e-01],\n",
      "       [-4.24847007e-03,  1.60806119e-01, -2.28146747e-01,\n",
      "        -1.08762510e-01, -4.70746160e-02, -1.38959005e-01,\n",
      "        -3.47711593e-02,  4.84749675e-02,  2.76052952e-02,\n",
      "        -2.22963646e-01],\n",
      "       [-1.83348104e-01,  2.11221308e-01,  1.73979729e-01,\n",
      "        -2.24188879e-01,  9.55256522e-02, -7.43108541e-02,\n",
      "         3.71302068e-02,  1.63861483e-01, -1.12645924e-01,\n",
      "        -2.71041095e-02],\n",
      "       [ 1.16113096e-01, -1.60794154e-01, -1.17849402e-01,\n",
      "        -1.25911355e-01, -2.08020106e-01,  7.75486231e-02,\n",
      "        -1.06808722e-01, -1.01097077e-01,  2.13770837e-01,\n",
      "        -1.81257218e-01],\n",
      "       [ 1.64708495e-03, -8.78432840e-02,  2.10074186e-01,\n",
      "        -5.50661832e-02, -8.04804862e-02, -1.81726739e-01,\n",
      "        -1.26585394e-01,  6.23283684e-02, -1.15122855e-01,\n",
      "        -1.67491645e-01],\n",
      "       [-1.13265447e-01, -1.84341490e-01, -2.32701689e-01,\n",
      "        -7.49548227e-02,  5.78076541e-02, -2.12959662e-01,\n",
      "         2.12906927e-01,  1.28450036e-01,  8.93011689e-02,\n",
      "        -1.06445223e-01],\n",
      "       [-8.82852972e-02,  8.00598562e-02,  1.80429727e-01,\n",
      "        -1.01885319e-01,  1.35901242e-01, -4.69902605e-02,\n",
      "        -4.13459390e-02, -1.27646148e-01, -6.23166114e-02,\n",
      "         4.79517877e-02],\n",
      "       [-1.49654746e-02, -2.24265620e-01, -5.05452603e-02,\n",
      "         8.05204213e-02, -1.18806660e-02,  2.86415517e-02,\n",
      "         1.25944436e-01, -2.01309353e-01,  7.86811113e-03,\n",
      "        -1.48979306e-01],\n",
      "       [-9.63805914e-02,  1.89632565e-01, -5.73757738e-02,\n",
      "         1.92984462e-01,  1.02944344e-01, -2.04613447e-01,\n",
      "         7.44432807e-02,  4.37248647e-02,  1.78358823e-01,\n",
      "         1.25109851e-02],\n",
      "       [ 1.58317626e-01,  2.03097165e-02,  1.34344369e-01,\n",
      "        -3.03529054e-02, -1.75549209e-01,  1.87229574e-01,\n",
      "         1.82895690e-01,  1.38638496e-01, -2.04680607e-01,\n",
      "         1.72159970e-01],\n",
      "       [ 1.63821012e-01, -2.04085529e-01,  1.76703602e-01,\n",
      "        -2.26159379e-01,  2.10139543e-01, -2.11949795e-01,\n",
      "        -1.99187517e-01, -2.32559532e-01,  2.33266264e-01,\n",
      "         8.56943130e-02],\n",
      "       [-1.15796946e-01,  1.39453977e-01, -1.73401088e-01,\n",
      "        -1.77591309e-01,  5.29212952e-02, -1.50766000e-01,\n",
      "         4.62662578e-02, -4.21020985e-02,  1.14350021e-01,\n",
      "        -4.51874733e-02],\n",
      "       [ 1.15353703e-01,  7.06836283e-02, -7.71103054e-02,\n",
      "         2.19965249e-01,  1.83857501e-01,  2.16674179e-01,\n",
      "        -3.93089503e-02, -2.09599987e-01,  2.17764080e-02,\n",
      "        -1.66281894e-01],\n",
      "       [-7.09608793e-02,  1.74963713e-01,  1.49073899e-02,\n",
      "        -1.26865298e-01, -1.95147634e-01,  1.49809748e-01,\n",
      "        -5.94969094e-03, -1.21550240e-01,  2.49534845e-02,\n",
      "         2.40173936e-02],\n",
      "       [ 2.54218280e-03,  2.29837000e-01, -1.63562238e-01,\n",
      "         1.87785119e-01,  1.09115303e-01, -6.96970522e-02,\n",
      "        -8.34224224e-02,  1.31757349e-01, -1.94854081e-01,\n",
      "        -2.00041577e-01],\n",
      "       [ 2.12709188e-01,  1.76765323e-01,  7.80883133e-02,\n",
      "        -1.39410034e-01,  1.56106502e-01, -5.99710941e-02,\n",
      "        -7.02214241e-02, -7.50536621e-02,  9.28291678e-02,\n",
      "         6.50058985e-02],\n",
      "       [-6.30106330e-02,  1.52704209e-01,  2.62352526e-02,\n",
      "         4.22154665e-02, -1.20822787e-02,  4.90982234e-02,\n",
      "        -1.26887918e-01,  1.96999133e-01,  1.10597968e-01,\n",
      "         1.82098240e-01],\n",
      "       [ 1.09472960e-01, -2.06204250e-01, -6.43775910e-02,\n",
      "         2.01058567e-01, -5.21080345e-02,  7.90387988e-02,\n",
      "         1.89190090e-01,  5.48560321e-02,  4.96214330e-02,\n",
      "         1.93874568e-01],\n",
      "       [ 1.05155557e-01, -7.12709725e-02,  2.09271729e-01,\n",
      "         1.98829144e-01, -1.50134951e-01,  1.10424966e-01,\n",
      "        -6.55310452e-02,  2.17904478e-01, -2.27526218e-01,\n",
      "         1.63116843e-01],\n",
      "       [-4.04707640e-02, -7.57458508e-02,  1.58385664e-01,\n",
      "         1.23772740e-01, -9.44985747e-02, -1.88629091e-01,\n",
      "         1.46839529e-01, -2.87458003e-02,  1.88473284e-01,\n",
      "        -2.19520181e-02],\n",
      "       [ 2.22210050e-01,  6.34061992e-02,  1.60363168e-01,\n",
      "         2.03077346e-01,  1.72941864e-01,  1.50567442e-01,\n",
      "        -1.89436883e-01,  3.48464847e-02,  1.60614073e-01,\n",
      "         1.23656929e-01],\n",
      "       [ 1.09660894e-01, -1.91981345e-02, -9.51226056e-03,\n",
      "         2.10060716e-01, -2.15096638e-01, -1.50044128e-01,\n",
      "        -8.28462690e-02,  7.42048025e-03,  8.07466507e-02,\n",
      "         7.24319518e-02],\n",
      "       [-2.02043205e-02,  2.14439809e-01, -8.41974169e-02,\n",
      "        -1.02432624e-01,  3.64371836e-02,  8.78147185e-02,\n",
      "         1.30661130e-01, -2.13524669e-01, -1.37900263e-01,\n",
      "        -1.01972684e-01],\n",
      "       [ 2.04645097e-03,  1.07377410e-01, -5.22571653e-02,\n",
      "        -2.15721071e-01, -1.55677259e-01, -1.57781720e-01,\n",
      "        -1.87122941e-01, -2.19147325e-01,  1.48580521e-01,\n",
      "        -1.73196733e-01],\n",
      "       [-4.78094071e-02, -1.43436000e-01,  1.60323352e-01,\n",
      "        -2.19682604e-01,  8.54836702e-02,  1.03877485e-01,\n",
      "        -7.60623813e-03,  1.63476318e-01,  1.61149085e-01,\n",
      "         1.33837014e-02],\n",
      "       [ 1.59536511e-01,  8.47885013e-03,  1.52666986e-01,\n",
      "         8.16233158e-02,  2.17907488e-01,  2.07253516e-01,\n",
      "        -1.46490797e-01,  2.02588886e-01, -5.69912940e-02,\n",
      "        -2.43827850e-02],\n",
      "       [ 2.12220520e-01,  7.11407959e-02,  1.13666147e-01,\n",
      "        -1.55745417e-01,  4.19884920e-03, -2.09845215e-01,\n",
      "        -4.78102863e-02, -1.41151011e-01,  1.11109972e-01,\n",
      "        -1.08772516e-02],\n",
      "       [-5.69384992e-02,  1.68120146e-01,  1.89319164e-01,\n",
      "        -3.13275158e-02,  1.82253599e-01, -1.59760118e-01,\n",
      "        -7.77169019e-02,  9.13656652e-02,  1.41551197e-02,\n",
      "        -3.27838510e-02],\n",
      "       [ 1.03552788e-01, -1.26455367e-01,  1.95587456e-01,\n",
      "        -1.45073012e-01,  9.27734673e-02, -2.19129115e-01,\n",
      "         4.59842384e-02,  1.72688007e-01, -2.02067867e-01,\n",
      "        -8.84575248e-02],\n",
      "       [-2.18137696e-01, -7.47980773e-02, -8.54144692e-02,\n",
      "         3.93082798e-02,  6.91711307e-02, -1.33401662e-01,\n",
      "         2.95307636e-02, -7.83507377e-02, -2.08093941e-01,\n",
      "        -2.11237788e-01],\n",
      "       [-7.17848539e-03, -4.11268175e-02,  1.28147304e-02,\n",
      "         1.81003988e-01,  1.69783115e-01, -1.17218852e-01,\n",
      "         1.67259246e-01,  1.29054010e-01,  1.15787476e-01,\n",
      "        -6.68221116e-02],\n",
      "       [-1.85842246e-01, -1.92997336e-01,  2.21139759e-01,\n",
      "        -1.10493064e-01, -1.85356960e-01,  5.62732518e-02,\n",
      "        -1.76427513e-02, -1.93174183e-03, -2.95562595e-02,\n",
      "         8.03523660e-02],\n",
      "       [ 1.90135092e-01, -4.82366532e-02, -2.21766859e-01,\n",
      "         8.06404054e-02,  6.17244840e-02, -2.14260519e-01,\n",
      "         3.78173888e-02, -7.23198205e-02,  4.70846891e-03,\n",
      "        -9.12646949e-02],\n",
      "       [-1.50936216e-01,  2.18137085e-01, -1.12798363e-02,\n",
      "        -1.74715698e-01,  1.24039203e-01,  1.26609564e-01,\n",
      "         6.15042448e-02,  1.60220355e-01, -1.22005165e-01,\n",
      "        -6.87833577e-02],\n",
      "       [ 1.55634105e-01,  5.99533916e-02,  2.09959984e-01,\n",
      "        -9.62740779e-02,  2.08742529e-01,  1.48464978e-01,\n",
      "         1.13229424e-01,  1.32719666e-01, -1.79971233e-01,\n",
      "        -2.18875319e-01],\n",
      "       [ 9.56434608e-02, -2.01069757e-01, -6.73180223e-02,\n",
      "         1.66778028e-01,  1.57242149e-01, -2.10157096e-01,\n",
      "        -1.93424582e-01, -1.46968067e-02,  4.30532694e-02,\n",
      "         1.29046351e-01],\n",
      "       [ 6.37097657e-03,  8.14644992e-02,  6.00987077e-02,\n",
      "         1.43128186e-01, -1.24234192e-01, -2.10219905e-01,\n",
      "        -1.36830151e-01, -1.70718238e-01,  9.90732908e-02,\n",
      "        -1.57442540e-02],\n",
      "       [-1.11664347e-01, -1.23426460e-01, -1.67875856e-01,\n",
      "         5.94881475e-02,  1.59675479e-01,  7.28338957e-03,\n",
      "        -2.17946425e-01,  3.89592648e-02, -5.79804927e-02,\n",
      "        -2.31319875e-01],\n",
      "       [ 1.72579527e-01,  3.83829474e-02,  1.57579750e-01,\n",
      "         4.66994345e-02, -6.74050450e-02, -2.29933411e-02,\n",
      "         4.14065719e-02,  1.68979228e-01,  2.16730207e-01,\n",
      "         1.38258189e-01],\n",
      "       [ 4.84808683e-02, -5.87349981e-02,  1.05741948e-01,\n",
      "        -5.10127097e-02,  1.05523348e-01,  1.64973587e-01,\n",
      "         2.95843184e-02, -1.50382519e-01,  2.16531307e-01,\n",
      "         1.09661222e-01],\n",
      "       [ 5.64346313e-02,  1.57367229e-01, -5.04021347e-03,\n",
      "        -8.64432007e-02,  1.10349238e-01, -2.01971203e-01,\n",
      "        -8.82040560e-02,  7.97209740e-02,  2.43011117e-02,\n",
      "         1.15032077e-01],\n",
      "       [ 8.10437799e-02, -1.98848248e-01,  2.07266450e-01,\n",
      "         5.34074008e-03,  1.02993399e-01, -1.26222506e-01,\n",
      "        -1.33737594e-01,  7.98709393e-02, -1.43683165e-01,\n",
      "         1.88627273e-01],\n",
      "       [-2.57054716e-02,  1.84785277e-01, -2.00910836e-01,\n",
      "         6.60345852e-02, -1.97546601e-01, -1.99487641e-01,\n",
      "         1.73218429e-01,  1.48375779e-01, -1.07032567e-01,\n",
      "         1.55891120e-01],\n",
      "       [-2.07487509e-01, -2.23552316e-01,  1.22985065e-01,\n",
      "         4.46702838e-02, -1.41950101e-01, -2.17456087e-01,\n",
      "         2.17844844e-02, -2.40581036e-02,  9.16963518e-02,\n",
      "         1.31219327e-02],\n",
      "       [-1.60808742e-01,  3.13883722e-02,  1.91547245e-01,\n",
      "        -9.21389163e-02,  1.51513815e-01,  1.94883019e-01,\n",
      "        -3.43757570e-02,  1.41849995e-01,  2.03764409e-01,\n",
      "        -1.88588947e-01],\n",
      "       [-1.60409451e-01, -1.84979945e-01, -2.03823894e-02,\n",
      "        -4.30696458e-02, -7.10470229e-02,  1.02142394e-01,\n",
      "        -1.03088066e-01,  2.12682515e-01, -3.31473351e-02,\n",
      "         1.66666806e-02],\n",
      "       [-1.92412898e-01,  1.56407267e-01, -1.71313763e-01,\n",
      "        -9.57109034e-02,  1.88025326e-01, -1.84693396e-01,\n",
      "         5.78625500e-02, -2.24449933e-01, -1.01482451e-01,\n",
      "        -9.65183526e-02],\n",
      "       [-9.05006230e-02,  1.48950636e-01,  5.20862043e-02,\n",
      "         8.51693451e-02, -1.09987304e-01,  3.19233835e-02,\n",
      "         6.53475225e-02,  1.06383651e-01,  1.70580089e-01,\n",
      "         1.33274704e-01],\n",
      "       [ 6.51218295e-02,  1.85841858e-01, -2.24052191e-01,\n",
      "         7.08241761e-02,  7.41912425e-02,  1.08674586e-01,\n",
      "        -1.27633959e-01, -8.84846896e-02, -1.90850884e-01,\n",
      "         1.29720271e-01],\n",
      "       [-1.84521332e-01, -7.95324892e-02,  5.56832552e-02,\n",
      "         1.93289280e-01, -1.13650218e-01,  1.56896830e-01,\n",
      "        -1.29758239e-01, -2.29951203e-01,  4.77521718e-02,\n",
      "         4.82469499e-02],\n",
      "       [-8.83164257e-02, -9.65091586e-02, -5.99671304e-02,\n",
      "         4.01802063e-02, -1.97175920e-01, -1.88766181e-01,\n",
      "         7.96320438e-02, -2.23577321e-01,  2.27995515e-01,\n",
      "         2.23631620e-01],\n",
      "       [-5.21669537e-02, -2.12041110e-01,  1.94122791e-01,\n",
      "        -1.38465434e-01,  1.89332157e-01,  7.75481761e-02,\n",
      "        -1.11232027e-01, -9.05274600e-02, -2.74369866e-02,\n",
      "        -1.86878547e-01],\n",
      "       [-2.15092748e-01, -1.42439112e-01,  1.91799343e-01,\n",
      "        -3.48567963e-04, -2.07171947e-01,  1.96804702e-01,\n",
      "        -1.75342679e-01,  2.14584470e-01, -5.94640970e-02,\n",
      "        -4.45506871e-02],\n",
      "       [-6.00380152e-02,  2.30554342e-01,  1.14229321e-01,\n",
      "        -1.73517466e-02, -9.95693654e-02, -8.13007355e-05,\n",
      "        -1.58735290e-01,  1.81294203e-01, -2.03667790e-01,\n",
      "         6.38252199e-02],\n",
      "       [-1.44573480e-01,  7.75717497e-02,  2.05937922e-01,\n",
      "        -1.60967380e-01, -2.17673972e-01,  1.32314295e-01,\n",
      "         7.67097175e-02,  7.08129406e-02,  7.71529078e-02,\n",
      "         1.37268543e-01],\n",
      "       [-9.62085426e-02,  1.37824029e-01, -1.44323185e-01,\n",
      "         2.04824775e-01, -1.04490712e-01,  1.58691794e-01,\n",
      "        -2.13299707e-01,  2.86119282e-02, -9.63589847e-02,\n",
      "        -1.64285064e-01],\n",
      "       [-1.96059272e-01,  1.32169574e-01, -1.46589249e-01,\n",
      "        -1.36757880e-01, -9.09032673e-02,  1.64225996e-01,\n",
      "         1.70334965e-01,  1.53930426e-01, -1.01485074e-01,\n",
      "         3.30709517e-02],\n",
      "       [-1.11444294e-02, -2.02892020e-01,  1.51264310e-01,\n",
      "        -1.46733969e-01,  7.88159668e-03,  6.54677451e-02,\n",
      "        -1.46384776e-01, -1.02289081e-01, -1.01313576e-01,\n",
      "        -1.85490549e-01],\n",
      "       [-1.12925448e-01, -1.42675877e-01, -1.74232304e-01,\n",
      "        -1.10775709e-01,  2.05538183e-01, -8.56782943e-02,\n",
      "        -1.77951843e-01, -1.64315969e-01, -1.74189046e-01,\n",
      "        -2.26874173e-01],\n",
      "       [ 1.65814340e-01,  1.45196289e-01,  1.02529556e-01,\n",
      "         2.94411182e-03,  1.50626451e-02, -2.27571040e-01,\n",
      "        -1.18563645e-01,  1.78519815e-01, -2.02436432e-01,\n",
      "         2.28499949e-01],\n",
      "       [ 1.98564082e-01, -1.57358706e-01, -2.09007204e-01,\n",
      "        -9.08124447e-02,  1.59892470e-01,  2.09457546e-01,\n",
      "        -2.47229040e-02, -1.47282034e-02, -2.07428187e-02,\n",
      "         7.62202740e-02],\n",
      "       [-1.91925615e-01,  2.11450934e-01,  1.12132967e-01,\n",
      "        -2.17092752e-01, -5.70076555e-02, -9.86327380e-02,\n",
      "        -7.63132572e-02,  8.19904208e-02, -1.79071680e-01,\n",
      "         4.14871871e-02],\n",
      "       [ 6.66214228e-02, -2.61303335e-02,  9.78608727e-02,\n",
      "         6.63329959e-02,  2.38796473e-02,  1.94454044e-01,\n",
      "         1.63812190e-01,  1.81475431e-01, -9.55876708e-02,\n",
      "         2.31088698e-03],\n",
      "       [ 6.53430521e-02,  2.17620343e-01,  4.97040451e-02,\n",
      "        -1.09893084e-01,  5.71869016e-02,  4.53872085e-02,\n",
      "        -1.32943839e-01,  1.96514040e-01,  2.24276751e-01,\n",
      "        -7.13405311e-02],\n",
      "       [ 1.80434853e-01,  1.30649090e-01, -2.04317942e-01,\n",
      "        -8.21481198e-02,  6.85190856e-02, -2.02044919e-01,\n",
      "        -1.11424915e-01,  2.26346970e-01, -3.88104320e-02,\n",
      "         1.87831998e-01],\n",
      "       [-2.25804016e-01,  1.83900863e-01, -4.12631929e-02,\n",
      "         1.13243908e-02, -8.70086104e-02,  9.02457237e-02,\n",
      "         1.46470934e-01,  9.94802713e-02,  8.05007517e-02,\n",
      "         1.72957569e-01],\n",
      "       [-1.52178615e-01,  7.17791915e-02, -1.09752208e-01,\n",
      "         1.83193803e-01, -1.90946460e-03, -2.29887828e-01,\n",
      "         1.97262734e-01,  2.28017062e-01,  7.21250474e-03,\n",
      "        -7.59104490e-02],\n",
      "       [ 9.32952166e-02, -2.21325859e-01,  1.01375371e-01,\n",
      "        -4.82495129e-03, -4.65948582e-02, -2.22064406e-02,\n",
      "        -9.30845737e-04,  4.80249524e-02, -5.49048632e-02,\n",
      "         1.76436126e-01],\n",
      "       [ 7.90913105e-02, -2.30453953e-01, -8.35006535e-02,\n",
      "         1.65880203e-01,  7.65804946e-02, -4.47724164e-02,\n",
      "        -8.85519087e-02, -6.93806708e-02,  1.14210218e-01,\n",
      "         1.25250131e-01],\n",
      "       [ 3.71590555e-02,  6.95757866e-02,  1.12264991e-01,\n",
      "         1.43589795e-01, -1.70775801e-01,  2.16326773e-01,\n",
      "         8.11386704e-02, -1.94514960e-01, -1.07796520e-01,\n",
      "        -1.62831575e-01],\n",
      "       [-2.17304796e-01, -2.18272716e-01, -9.15109813e-02,\n",
      "        -1.27636790e-01, -1.75453812e-01,  6.37091696e-02,\n",
      "         3.30796242e-02, -4.73115444e-02,  3.17752659e-02,\n",
      "         1.47321254e-01],\n",
      "       [ 4.91943359e-02,  4.34974432e-02, -2.07511783e-02,\n",
      "         2.03622133e-01,  1.60304487e-01,  1.83675587e-01,\n",
      "        -1.66069910e-01,  1.71520501e-01, -2.43651420e-02,\n",
      "        -9.67645794e-02],\n",
      "       [ 1.26158893e-02,  6.75428510e-02, -5.56212217e-02,\n",
      "        -1.17132716e-01,  1.72866911e-01, -6.72881752e-02,\n",
      "         1.77089930e-01,  1.94839537e-02,  9.82457995e-02,\n",
      "        -2.05576375e-01],\n",
      "       [-1.90241888e-01,  4.25770879e-03,  8.80908072e-02,\n",
      "        -7.05534518e-02, -1.28536895e-01, -2.22665131e-01,\n",
      "        -1.63488626e-01, -2.19055504e-01, -4.26442772e-02,\n",
      "        -5.96532524e-02],\n",
      "       [ 1.15682632e-01, -2.05935970e-01,  1.01558059e-01,\n",
      "        -1.68475777e-01, -2.05456465e-02,  9.20757651e-02,\n",
      "         1.56969041e-01, -1.15370303e-01, -1.13550656e-01,\n",
      "        -2.07654938e-01],\n",
      "       [-2.16262192e-02,  1.25472844e-02, -4.91244495e-02,\n",
      "        -9.75454748e-02,  1.91717595e-01,  7.81251192e-02,\n",
      "        -9.72594917e-02,  7.72320330e-02,  1.28371060e-01,\n",
      "        -1.20192692e-01],\n",
      "       [ 5.76245189e-02,  8.10861588e-03, -8.41613263e-02,\n",
      "        -3.19524109e-03,  1.08504593e-01,  1.97325319e-01,\n",
      "        -2.28995129e-01, -1.39815122e-01,  5.88207841e-02,\n",
      "        -1.10726766e-01],\n",
      "       [-1.49397999e-02,  9.81249213e-02, -2.02647299e-02,\n",
      "        -6.26799315e-02, -5.73703647e-03,  1.07933283e-01,\n",
      "         2.57362127e-02, -7.78571218e-02,  1.87852889e-01,\n",
      "         1.38706863e-01],\n",
      "       [-9.17036980e-02,  9.62143838e-02,  1.30297750e-01,\n",
      "         1.52521223e-01,  5.02936244e-02, -1.75984636e-01,\n",
      "        -5.61698675e-02, -2.24729061e-01,  1.43877238e-01,\n",
      "        -1.30126625e-01],\n",
      "       [ 1.84962243e-01, -3.03568095e-02,  9.82416868e-02,\n",
      "        -9.58451480e-02, -8.39136541e-03, -7.66426325e-03,\n",
      "        -1.14852041e-02, -1.05199710e-01,  4.49284911e-02,\n",
      "        -1.81965500e-01],\n",
      "       [-1.69397771e-01,  2.20278352e-01,  1.98765785e-01,\n",
      "         1.49506629e-02, -7.77311623e-02, -5.01542985e-02,\n",
      "         1.38049483e-01, -1.42346457e-01,  2.88060009e-02,\n",
      "         6.90110922e-02],\n",
      "       [-1.03526458e-01, -2.23074615e-01, -5.11758029e-02,\n",
      "        -1.90871269e-01,  2.01210469e-01,  1.86842412e-01,\n",
      "         2.14161187e-01,  1.59083039e-01,  2.18973607e-01,\n",
      "         1.90669686e-01],\n",
      "       [-3.10851336e-02, -1.10254638e-01,  4.06980515e-04,\n",
      "         1.53191537e-01,  1.24683827e-01,  1.08518511e-01,\n",
      "        -6.80691004e-03,  1.30207598e-01, -7.37126023e-02,\n",
      "         3.73139083e-02]], dtype=float32), array([0., 0., 0., 0., 0., 0., 0., 0., 0., 0.], dtype=float32)]\n"
     ]
    }
   ],
   "source": [
    "#Pesos incializados por capa\n",
    "for lay in modelo.layers:\n",
    "    print(lay.name)\n",
    "    print(lay.get_weights())"
   ]
  },
  {
   "cell_type": "code",
   "execution_count": 15,
   "metadata": {},
   "outputs": [
    {
     "data": {
      "text/plain": [
       "[array([[-0.02166273, -0.03912928,  0.06135528, ..., -0.04562813,\n",
       "          0.06831679, -0.00864974],\n",
       "        [ 0.06271914,  0.01451854, -0.0002798 , ..., -0.06131898,\n",
       "         -0.0256618 ,  0.06593293],\n",
       "        [ 0.0198298 , -0.02213283,  0.03300832, ...,  0.02251069,\n",
       "         -0.03165487, -0.0249953 ],\n",
       "        ...,\n",
       "        [ 0.0397812 ,  0.07111815, -0.01302123, ...,  0.06127705,\n",
       "         -0.00275857,  0.04632638],\n",
       "        [ 0.05639772, -0.01593735,  0.03715055, ...,  0.07390484,\n",
       "          0.02822387, -0.01005985],\n",
       "        [ 0.01245049, -0.04149776, -0.05539218, ..., -0.00173022,\n",
       "         -0.01376851,  0.05805489]], dtype=float32),\n",
       " array([0., 0., 0., 0., 0., 0., 0., 0., 0., 0., 0., 0., 0., 0., 0., 0., 0.,\n",
       "        0., 0., 0., 0., 0., 0., 0., 0., 0., 0., 0., 0., 0., 0., 0., 0., 0.,\n",
       "        0., 0., 0., 0., 0., 0., 0., 0., 0., 0., 0., 0., 0., 0., 0., 0., 0.,\n",
       "        0., 0., 0., 0., 0., 0., 0., 0., 0., 0., 0., 0., 0., 0., 0., 0., 0.,\n",
       "        0., 0., 0., 0., 0., 0., 0., 0., 0., 0., 0., 0., 0., 0., 0., 0., 0.,\n",
       "        0., 0., 0., 0., 0., 0., 0., 0., 0., 0., 0., 0., 0., 0., 0., 0., 0.,\n",
       "        0., 0., 0., 0., 0., 0., 0., 0., 0., 0., 0., 0., 0., 0., 0., 0., 0.,\n",
       "        0., 0., 0., 0., 0., 0., 0., 0., 0., 0., 0., 0., 0., 0., 0., 0., 0.,\n",
       "        0., 0., 0., 0., 0., 0., 0., 0., 0., 0., 0., 0., 0., 0., 0., 0., 0.,\n",
       "        0., 0., 0., 0., 0., 0., 0., 0., 0., 0., 0., 0., 0., 0., 0., 0., 0.,\n",
       "        0., 0., 0., 0., 0., 0., 0., 0., 0., 0., 0., 0., 0., 0., 0., 0., 0.,\n",
       "        0., 0., 0., 0., 0., 0., 0., 0., 0., 0., 0., 0., 0., 0., 0., 0., 0.,\n",
       "        0., 0., 0., 0., 0., 0., 0., 0., 0., 0., 0., 0., 0., 0., 0., 0., 0.,\n",
       "        0., 0., 0., 0., 0., 0., 0., 0., 0., 0., 0., 0., 0., 0., 0., 0., 0.,\n",
       "        0., 0., 0., 0., 0., 0., 0., 0., 0., 0., 0., 0., 0., 0., 0., 0., 0.,\n",
       "        0., 0., 0., 0., 0., 0., 0., 0., 0., 0., 0., 0., 0., 0., 0., 0., 0.,\n",
       "        0., 0., 0., 0., 0., 0., 0., 0., 0., 0., 0., 0., 0., 0., 0., 0., 0.,\n",
       "        0., 0., 0., 0., 0., 0., 0., 0., 0., 0., 0.], dtype=float32)]"
      ]
     },
     "execution_count": 15,
     "metadata": {},
     "output_type": "execute_result"
    }
   ],
   "source": [
    "#Pesos  capa dense \n",
    "modelo.get_layer(\"dense\").get_weights()"
   ]
  },
  {
   "cell_type": "markdown",
   "metadata": {},
   "source": [
    "# Compilar el modeo\n",
    "### Funcion de perdida: sparse_categorical_crossentropy para multiclase\n",
    "### Optimizador: Stochastic gradient descent optimizer. sgd\n",
    "### Metricas: accuracy"
   ]
  },
  {
   "cell_type": "code",
   "execution_count": 16,
   "metadata": {},
   "outputs": [],
   "source": [
    "# se usa sparse_categorical_crossentropy por que es multicalse y y_train no es one hot encoding y es numerico\n",
    "modelo.compile(loss=\"sparse_categorical_crossentropy\",\n",
    "optimizer=\"sgd\",\n",
    "metrics=[\"accuracy\"])"
   ]
  },
  {
   "cell_type": "markdown",
   "metadata": {},
   "source": [
    "# Entrenamiento de Modelo\n",
    "## 30 epocas "
   ]
  },
  {
   "cell_type": "code",
   "execution_count": 17,
   "metadata": {},
   "outputs": [
    {
     "name": "stdout",
     "output_type": "stream",
     "text": [
      "Train on 55000 samples, validate on 5000 samples\n",
      "Epoch 1/30\n",
      "55000/55000 [==============================] - 9s 158us/sample - loss: 1.1107 - accuracy: 0.6192 - val_loss: 0.8569 - val_accuracy: 0.7094\n",
      "Epoch 2/30\n",
      "55000/55000 [==============================] - 7s 127us/sample - loss: 0.7733 - accuracy: 0.7313 - val_loss: 0.7734 - val_accuracy: 0.7338\n",
      "Epoch 3/30\n",
      "55000/55000 [==============================] - 7s 124us/sample - loss: 0.6990 - accuracy: 0.7569 - val_loss: 0.6983 - val_accuracy: 0.7652\n",
      "Epoch 4/30\n",
      "55000/55000 [==============================] - 8s 154us/sample - loss: 0.6499 - accuracy: 0.7744 - val_loss: 0.6747 - val_accuracy: 0.7670\n",
      "Epoch 5/30\n",
      "55000/55000 [==============================] - 9s 155us/sample - loss: 0.6102 - accuracy: 0.7877 - val_loss: 0.6805 - val_accuracy: 0.7682\n",
      "Epoch 6/30\n",
      "55000/55000 [==============================] - 8s 154us/sample - loss: 0.5782 - accuracy: 0.7985 - val_loss: 0.6377 - val_accuracy: 0.7762\n",
      "Epoch 7/30\n",
      "55000/55000 [==============================] - 8s 151us/sample - loss: 0.5473 - accuracy: 0.8105 - val_loss: 0.5984 - val_accuracy: 0.7886\n",
      "Epoch 8/30\n",
      "55000/55000 [==============================] - 9s 159us/sample - loss: 0.5214 - accuracy: 0.8178 - val_loss: 0.5828 - val_accuracy: 0.7920\n",
      "Epoch 9/30\n",
      "55000/55000 [==============================] - 8s 154us/sample - loss: 0.4951 - accuracy: 0.8262 - val_loss: 0.5674 - val_accuracy: 0.7982\n",
      "Epoch 10/30\n",
      "55000/55000 [==============================] - 9s 161us/sample - loss: 0.4720 - accuracy: 0.8353 - val_loss: 0.5490 - val_accuracy: 0.8072\n",
      "Epoch 11/30\n",
      "55000/55000 [==============================] - 9s 165us/sample - loss: 0.4497 - accuracy: 0.8429 - val_loss: 0.5485 - val_accuracy: 0.8074\n",
      "Epoch 12/30\n",
      "55000/55000 [==============================] - 9s 155us/sample - loss: 0.4283 - accuracy: 0.8497 - val_loss: 0.5354 - val_accuracy: 0.8104\n",
      "Epoch 13/30\n",
      "55000/55000 [==============================] - 9s 168us/sample - loss: 0.4073 - accuracy: 0.8583 - val_loss: 0.5389 - val_accuracy: 0.8040\n",
      "Epoch 14/30\n",
      "55000/55000 [==============================] - 9s 164us/sample - loss: 0.3890 - accuracy: 0.8644 - val_loss: 0.5242 - val_accuracy: 0.8128\n",
      "Epoch 15/30\n",
      "55000/55000 [==============================] - 9s 170us/sample - loss: 0.3705 - accuracy: 0.8707 - val_loss: 0.5111 - val_accuracy: 0.8178\n",
      "Epoch 16/30\n",
      "55000/55000 [==============================] - 8s 152us/sample - loss: 0.3523 - accuracy: 0.8779 - val_loss: 0.5121 - val_accuracy: 0.8190\n",
      "Epoch 17/30\n",
      "55000/55000 [==============================] - 8s 148us/sample - loss: 0.3352 - accuracy: 0.8847 - val_loss: 0.5247 - val_accuracy: 0.8152\n",
      "Epoch 18/30\n",
      "55000/55000 [==============================] - 8s 145us/sample - loss: 0.3195 - accuracy: 0.8901 - val_loss: 0.5046 - val_accuracy: 0.8232\n",
      "Epoch 19/30\n",
      "55000/55000 [==============================] - 10s 183us/sample - loss: 0.3020 - accuracy: 0.8971 - val_loss: 0.5157 - val_accuracy: 0.8224\n",
      "Epoch 20/30\n",
      "55000/55000 [==============================] - 10s 178us/sample - loss: 0.2890 - accuracy: 0.9013 - val_loss: 0.4872 - val_accuracy: 0.8266\n",
      "Epoch 21/30\n",
      "55000/55000 [==============================] - 9s 170us/sample - loss: 0.2726 - accuracy: 0.9067 - val_loss: 0.4949 - val_accuracy: 0.8264\n",
      "Epoch 22/30\n",
      "55000/55000 [==============================] - 10s 177us/sample - loss: 0.2598 - accuracy: 0.9128 - val_loss: 0.4975 - val_accuracy: 0.8232\n",
      "Epoch 23/30\n",
      "55000/55000 [==============================] - 11s 197us/sample - loss: 0.2455 - accuracy: 0.9168 - val_loss: 0.5140 - val_accuracy: 0.8292\n",
      "Epoch 24/30\n",
      "55000/55000 [==============================] - 11s 209us/sample - loss: 0.2335 - accuracy: 0.9221 - val_loss: 0.4924 - val_accuracy: 0.8320\n",
      "Epoch 25/30\n",
      "55000/55000 [==============================] - 11s 196us/sample - loss: 0.2215 - accuracy: 0.9259 - val_loss: 0.5182 - val_accuracy: 0.8258\n",
      "Epoch 26/30\n",
      "55000/55000 [==============================] - 12s 214us/sample - loss: 0.2090 - accuracy: 0.9312 - val_loss: 0.5032 - val_accuracy: 0.8318\n",
      "Epoch 27/30\n",
      "55000/55000 [==============================] - 11s 208us/sample - loss: 0.1975 - accuracy: 0.9362 - val_loss: 0.5030 - val_accuracy: 0.8332\n",
      "Epoch 28/30\n",
      "55000/55000 [==============================] - 10s 182us/sample - loss: 0.1854 - accuracy: 0.9401 - val_loss: 0.5435 - val_accuracy: 0.8284\n",
      "Epoch 29/30\n",
      "55000/55000 [==============================] - 10s 179us/sample - loss: 0.1744 - accuracy: 0.9445 - val_loss: 0.5277 - val_accuracy: 0.8316\n",
      "Epoch 30/30\n",
      "55000/55000 [==============================] - 9s 173us/sample - loss: 0.1636 - accuracy: 0.9479 - val_loss: 0.5296 - val_accuracy: 0.8316\n"
     ]
    }
   ],
   "source": [
    "history = modelo.fit(X_train, y_train, epochs=30,validation_data=(X_valid, y_valid))"
   ]
  },
  {
   "cell_type": "code",
   "execution_count": 18,
   "metadata": {},
   "outputs": [
    {
     "name": "stdout",
     "output_type": "stream",
     "text": [
      "Test loss: 0.5429640733718872\n",
      "Test accuracy: 0.8223\n"
     ]
    }
   ],
   "source": [
    "#Evaluacion\n",
    "Xtest = normalize(X_test)\n",
    "score = modelo.evaluate(Xtest, y_test, verbose=0)\n",
    "print('Test loss:', score[0])\n",
    "print('Test accuracy:', score[1])"
   ]
  },
  {
   "cell_type": "code",
   "execution_count": 19,
   "metadata": {},
   "outputs": [
    {
     "name": "stdout",
     "output_type": "stream",
     "text": [
      "Train on 55000 samples, validate on 5000 samples\n",
      "Epoch 1/30\n",
      "55000/55000 [==============================] - 10s 187us/sample - loss: 0.7257 - accuracy: 0.7645 - val_loss: 0.5271 - val_accuracy: 0.8198\n",
      "Epoch 2/30\n",
      "55000/55000 [==============================] - 8s 152us/sample - loss: 0.4931 - accuracy: 0.8281 - val_loss: 0.4409 - val_accuracy: 0.8514\n",
      "Epoch 3/30\n",
      "55000/55000 [==============================] - 10s 174us/sample - loss: 0.4492 - accuracy: 0.8432 - val_loss: 0.4204 - val_accuracy: 0.8558\n",
      "Epoch 4/30\n",
      "55000/55000 [==============================] - 9s 163us/sample - loss: 0.4210 - accuracy: 0.8537 - val_loss: 0.4199 - val_accuracy: 0.8516\n",
      "Epoch 5/30\n",
      "55000/55000 [==============================] - 8s 154us/sample - loss: 0.4009 - accuracy: 0.8604 - val_loss: 0.4071 - val_accuracy: 0.8586\n",
      "Epoch 6/30\n",
      "55000/55000 [==============================] - 9s 170us/sample - loss: 0.3845 - accuracy: 0.8656 - val_loss: 0.4475 - val_accuracy: 0.8404\n",
      "Epoch 7/30\n",
      "55000/55000 [==============================] - 9s 169us/sample - loss: 0.3711 - accuracy: 0.8702 - val_loss: 0.3643 - val_accuracy: 0.8722\n",
      "Epoch 8/30\n",
      "55000/55000 [==============================] - 10s 173us/sample - loss: 0.3583 - accuracy: 0.8753 - val_loss: 0.3573 - val_accuracy: 0.8752\n",
      "Epoch 9/30\n",
      "55000/55000 [==============================] - 9s 171us/sample - loss: 0.3471 - accuracy: 0.8775 - val_loss: 0.3450 - val_accuracy: 0.8792\n",
      "Epoch 10/30\n",
      "55000/55000 [==============================] - 11s 199us/sample - loss: 0.3380 - accuracy: 0.8806 - val_loss: 0.3436 - val_accuracy: 0.8820\n",
      "Epoch 11/30\n",
      "55000/55000 [==============================] - 10s 191us/sample - loss: 0.3279 - accuracy: 0.8835 - val_loss: 0.3355 - val_accuracy: 0.8802\n",
      "Epoch 12/30\n",
      "55000/55000 [==============================] - 11s 194us/sample - loss: 0.3206 - accuracy: 0.8867 - val_loss: 0.3427 - val_accuracy: 0.8756\n",
      "Epoch 13/30\n",
      "55000/55000 [==============================] - 10s 180us/sample - loss: 0.3120 - accuracy: 0.8882 - val_loss: 0.3287 - val_accuracy: 0.8844\n",
      "Epoch 14/30\n",
      "55000/55000 [==============================] - 10s 180us/sample - loss: 0.3050 - accuracy: 0.8922 - val_loss: 0.3271 - val_accuracy: 0.8818\n",
      "Epoch 15/30\n",
      "55000/55000 [==============================] - 11s 205us/sample - loss: 0.2989 - accuracy: 0.8931 - val_loss: 0.3322 - val_accuracy: 0.8816\n",
      "Epoch 16/30\n",
      "55000/55000 [==============================] - 14s 263us/sample - loss: 0.2926 - accuracy: 0.8945 - val_loss: 0.3208 - val_accuracy: 0.8848\n",
      "Epoch 17/30\n",
      "55000/55000 [==============================] - 10s 177us/sample - loss: 0.2861 - accuracy: 0.8972 - val_loss: 0.3249 - val_accuracy: 0.8818\n",
      "Epoch 18/30\n",
      "55000/55000 [==============================] - 10s 187us/sample - loss: 0.2816 - accuracy: 0.8986 - val_loss: 0.3119 - val_accuracy: 0.8902\n",
      "Epoch 19/30\n",
      "55000/55000 [==============================] - 11s 197us/sample - loss: 0.2747 - accuracy: 0.9013 - val_loss: 0.3021 - val_accuracy: 0.8894\n",
      "Epoch 20/30\n",
      "55000/55000 [==============================] - 10s 176us/sample - loss: 0.2707 - accuracy: 0.9029 - val_loss: 0.3133 - val_accuracy: 0.8886\n",
      "Epoch 21/30\n",
      "55000/55000 [==============================] - 11s 202us/sample - loss: 0.2647 - accuracy: 0.9047 - val_loss: 0.3129 - val_accuracy: 0.8836\n",
      "Epoch 22/30\n",
      "55000/55000 [==============================] - 13s 228us/sample - loss: 0.2591 - accuracy: 0.9068 - val_loss: 0.3095 - val_accuracy: 0.8910\n",
      "Epoch 23/30\n",
      "55000/55000 [==============================] - 12s 224us/sample - loss: 0.2557 - accuracy: 0.9079 - val_loss: 0.3180 - val_accuracy: 0.8834\n",
      "Epoch 24/30\n",
      "55000/55000 [==============================] - 12s 224us/sample - loss: 0.2509 - accuracy: 0.9104 - val_loss: 0.3336 - val_accuracy: 0.8752\n",
      "Epoch 25/30\n",
      "55000/55000 [==============================] - 12s 215us/sample - loss: 0.2466 - accuracy: 0.9104 - val_loss: 0.3098 - val_accuracy: 0.8880\n",
      "Epoch 26/30\n",
      "55000/55000 [==============================] - 11s 208us/sample - loss: 0.2412 - accuracy: 0.9120 - val_loss: 0.3021 - val_accuracy: 0.8890\n",
      "Epoch 27/30\n",
      "55000/55000 [==============================] - 12s 217us/sample - loss: 0.2379 - accuracy: 0.9152 - val_loss: 0.3272 - val_accuracy: 0.8814\n",
      "Epoch 28/30\n",
      "55000/55000 [==============================] - 13s 229us/sample - loss: 0.2341 - accuracy: 0.9151 - val_loss: 0.3018 - val_accuracy: 0.8908\n",
      "Epoch 29/30\n",
      "55000/55000 [==============================] - 12s 224us/sample - loss: 0.2302 - accuracy: 0.9171 - val_loss: 0.3044 - val_accuracy: 0.8886\n",
      "Epoch 30/30\n",
      "55000/55000 [==============================] - 15s 269us/sample - loss: 0.2269 - accuracy: 0.9189 - val_loss: 0.2938 - val_accuracy: 0.8938\n"
     ]
    }
   ],
   "source": [
    "#normalizado por divison 255.0\n",
    "\n",
    "X_valid, X_train = X_train_full[:5000] / 255.0, X_train_full[5000:] / 255.0\n",
    "y_valid, y_train = y_train_full[:5000], y_train_full[5000:]\n",
    "modelo1 = keras.models.Sequential()\n",
    "modelo1.add(keras.layers.Flatten(input_shape=[28,28]))\n",
    "modelo1.add(keras.layers.Dense(300,activation =\"relu\"))\n",
    "modelo1.add(keras.layers.Dense(100,activation =\"relu\"))\n",
    "modelo1.add(keras.layers.Dense(10,activation =\"softmax\"))    \n",
    "#modelo1.summary()\n",
    "modelo1.compile(loss=\"sparse_categorical_crossentropy\",\n",
    "optimizer=\"sgd\",\n",
    "metrics=[\"accuracy\"])\n",
    "history = modelo1.fit(X_train, y_train, epochs=30,validation_data=(X_valid, y_valid))"
   ]
  },
  {
   "cell_type": "code",
   "execution_count": 39,
   "metadata": {},
   "outputs": [
    {
     "data": {
      "text/plain": [
       "array([9, 2, 1, ..., 8, 1, 5], dtype=uint8)"
      ]
     },
     "execution_count": 39,
     "metadata": {},
     "output_type": "execute_result"
    }
   ],
   "source": [
    "y_test"
   ]
  },
  {
   "cell_type": "code",
   "execution_count": 20,
   "metadata": {},
   "outputs": [
    {
     "name": "stdout",
     "output_type": "stream",
     "text": [
      "Test loss: 0.33056598591804504\n",
      "Test accuracy: 0.8838\n"
     ]
    }
   ],
   "source": [
    "Xtest = X_test / 255.0\n",
    "score = modelo1.evaluate(Xtest, y_test, verbose=0)\n",
    "print('Test loss:', score[0])\n",
    "print('Test accuracy:', score[1])"
   ]
  },
  {
   "cell_type": "code",
   "execution_count": 21,
   "metadata": {},
   "outputs": [],
   "source": [
    "# Se observa que el tipo  de normalización de datos afecta el desempeño del modelo. \n"
   ]
  },
  {
   "cell_type": "markdown",
   "metadata": {},
   "source": [
    "# Plot Curvas de aprendizaje entrenamiento y validación"
   ]
  },
  {
   "cell_type": "code",
   "execution_count": 22,
   "metadata": {},
   "outputs": [
    {
     "data": {
      "image/png": "[encoded data removed]",
      "text/plain": [
       "<Figure size 576x360 with 1 Axes>"
      ]
     },
     "metadata": {
      "needs_background": "light"
     },
     "output_type": "display_data"
    }
   ],
   "source": [
    "import pandas as pd\n",
    "pd.DataFrame(history.history).plot(figsize=(8, 5))\n",
    "plt.grid(True)\n",
    "plt.gca().set_ylim(0, 1) # set the vertical range to [0-1]\n",
    "plt.title(\"Curvas Aprendizaje Entrenamiento y Validación\")\n",
    "plt.show()"
   ]
  },
  {
   "cell_type": "markdown",
   "metadata": {},
   "source": [
    "### Se observa que las curvas de entrenamiento y Validación en \"Accuracy\" son muy cercanas lo que indica una buena generalización del modelo,\n",
    "### En cuanto a la perdida en entrenamiento y validación después de la época 17 la perdida de entrenamiento decrece más rápidamente que la de validación, sin embargo las perdida después de la época 30 continua decreciendo, lo que indica que se puede de aumentar el número de épocas\n"
   ]
  },
  {
   "cell_type": "markdown",
   "metadata": {},
   "source": [
    "# Predicciones del Modelo"
   ]
  },
  {
   "cell_type": "code",
   "execution_count": 26,
   "metadata": {},
   "outputs": [
    {
     "data": {
      "text/plain": [
       "array([[0., 0., 0., 0., 0., 0., 0., 0., 0., 1.],\n",
       "       [0., 0., 1., 0., 0., 0., 0., 0., 0., 0.],\n",
       "       [0., 1., 0., 0., 0., 0., 0., 0., 0., 0.]], dtype=float32)"
      ]
     },
     "execution_count": 26,
     "metadata": {},
     "output_type": "execute_result"
    }
   ],
   "source": [
    "#predict muestra la probabilidad asignada a cad clase a una instnacia dada\n",
    "X_new = X_test[:3]\n",
    "y_proba = modelo1.predict(X_new)\n",
    "y_proba.round(2)"
   ]
  },
  {
   "cell_type": "code",
   "execution_count": 27,
   "metadata": {},
   "outputs": [
    {
     "data": {
      "text/plain": [
       "array([9, 2, 1], dtype=int64)"
      ]
     },
     "execution_count": 27,
     "metadata": {},
     "output_type": "execute_result"
    }
   ],
   "source": [
    "# con predict_classes determian cual es la clase con mayor ptobabilidad para un ainstacia\n",
    "y_pred = modelo1.predict_classes(X_new)\n",
    "y_pred"
   ]
  },
  {
   "cell_type": "code",
   "execution_count": 28,
   "metadata": {},
   "outputs": [
    {
     "data": {
      "text/plain": [
       "array(['Ankle boot', 'Pullover', 'Trouser'], dtype='<U11')"
      ]
     },
     "execution_count": 28,
     "metadata": {},
     "output_type": "execute_result"
    }
   ],
   "source": [
    "#Ver la clasifcacado adda a cada clse\n",
    "np.array(class_names)[y_pred]"
   ]
  },
  {
   "cell_type": "code",
   "execution_count": 29,
   "metadata": {},
   "outputs": [
    {
     "data": {
      "text/plain": [
       "<matplotlib.image.AxesImage at 0x1ead6676c88>"
      ]
     },
     "execution_count": 29,
     "metadata": {},
     "output_type": "execute_result"
    },
    {
     "data": {
      "image/png": "[encoded data removed]",
      "text/plain": [
       "<Figure size 432x288 with 3 Axes>"
      ]
     },
     "metadata": {
      "needs_background": "light"
     },
     "output_type": "display_data"
    }
   ],
   "source": [
    "#Plot de la prediicon  declase\n",
    "# plot 4 images as gray scale\n",
    "plt.subplot(221)\n",
    "plt.imshow(X_new[0], cmap=plt.get_cmap('gray'))\n",
    "plt.subplot(222)\n",
    "plt.imshow(X_new[1], cmap=plt.get_cmap('gray'))\n",
    "plt.subplot(223)\n",
    "plt.imshow(X_new[2], cmap=plt.get_cmap('gray'))\n"
   ]
  },
  {
   "cell_type": "markdown",
   "metadata": {},
   "source": [
    "# En conclusión se observa un buen desempeño del modelo , prediciendo correctamente en 88% de las veces"
   ]
  },
  {
   "cell_type": "markdown",
   "metadata": {},
   "source": [
    "# Mejores parámetros con gridsearch"
   ]
  },
  {
   "cell_type": "code",
   "execution_count": 34,
   "metadata": {},
   "outputs": [],
   "source": [
    "def crear_modelo(optimizer='sgd', init='glorot_uniform'):\n",
    "    modelo1 = keras.models.Sequential()\n",
    "    modelo1.add(keras.layers.Flatten(input_shape=[28,28]))\n",
    "    modelo1.add(keras.layers.Dense(300,kernel_initializer=init,activation =\"relu\"))\n",
    "    modelo1.add(keras.layers.Dense(100,kernel_initializer=init, activation =\"relu\"))\n",
    "    modelo1.add(keras.layers.Dense(10,kernel_initializer=init,activation =\"softmax\"))    \n",
    "    #modelo.summary()\n",
    "    modelo1.compile(loss=\"sparse_categorical_crossentropy\", optimizer=optimizer,  metrics=[\"accuracy\"])\n",
    "    return modelo1\n",
    "    "
   ]
  },
  {
   "cell_type": "code",
   "execution_count": 35,
   "metadata": {},
   "outputs": [
    {
     "name": "stdout",
     "output_type": "stream",
     "text": [
      "Best: 0.894509 using {'batch_size': 32, 'epochs': 50, 'init': 'normal', 'optimizer': 'adam'}\n",
      "0.875982 (0.003952) with: {'batch_size': 32, 'epochs': 20, 'init': 'glorot_uniform', 'optimizer': 'sgd'}\n",
      "0.869527 (0.014901) with: {'batch_size': 32, 'epochs': 20, 'init': 'glorot_uniform', 'optimizer': 'rmsprop'}\n",
      "0.887127 (0.007168) with: {'batch_size': 32, 'epochs': 20, 'init': 'glorot_uniform', 'optimizer': 'adam'}\n",
      "0.871127 (0.004723) with: {'batch_size': 32, 'epochs': 20, 'init': 'normal', 'optimizer': 'sgd'}\n",
      "0.879491 (0.005289) with: {'batch_size': 32, 'epochs': 20, 'init': 'normal', 'optimizer': 'rmsprop'}\n",
      "0.889055 (0.001299) with: {'batch_size': 32, 'epochs': 20, 'init': 'normal', 'optimizer': 'adam'}\n",
      "0.867873 (0.003353) with: {'batch_size': 32, 'epochs': 20, 'init': 'uniform', 'optimizer': 'sgd'}\n",
      "0.873364 (0.001537) with: {'batch_size': 32, 'epochs': 20, 'init': 'uniform', 'optimizer': 'rmsprop'}\n",
      "0.890473 (0.002818) with: {'batch_size': 32, 'epochs': 20, 'init': 'uniform', 'optimizer': 'adam'}\n",
      "0.883109 (0.002439) with: {'batch_size': 32, 'epochs': 30, 'init': 'glorot_uniform', 'optimizer': 'sgd'}\n",
      "0.875673 (0.005482) with: {'batch_size': 32, 'epochs': 30, 'init': 'glorot_uniform', 'optimizer': 'rmsprop'}\n",
      "0.889255 (0.001706) with: {'batch_size': 32, 'epochs': 30, 'init': 'glorot_uniform', 'optimizer': 'adam'}\n",
      "0.878127 (0.005016) with: {'batch_size': 32, 'epochs': 30, 'init': 'normal', 'optimizer': 'sgd'}\n",
      "0.885364 (0.003443) with: {'batch_size': 32, 'epochs': 30, 'init': 'normal', 'optimizer': 'rmsprop'}\n",
      "0.892145 (0.005575) with: {'batch_size': 32, 'epochs': 30, 'init': 'normal', 'optimizer': 'adam'}\n",
      "0.875673 (0.005526) with: {'batch_size': 32, 'epochs': 30, 'init': 'uniform', 'optimizer': 'sgd'}\n",
      "0.880364 (0.002993) with: {'batch_size': 32, 'epochs': 30, 'init': 'uniform', 'optimizer': 'rmsprop'}\n",
      "0.890927 (0.003770) with: {'batch_size': 32, 'epochs': 30, 'init': 'uniform', 'optimizer': 'adam'}\n",
      "0.886091 (0.003860) with: {'batch_size': 32, 'epochs': 50, 'init': 'glorot_uniform', 'optimizer': 'sgd'}\n",
      "0.875327 (0.011469) with: {'batch_size': 32, 'epochs': 50, 'init': 'glorot_uniform', 'optimizer': 'rmsprop'}\n",
      "0.887873 (0.004296) with: {'batch_size': 32, 'epochs': 50, 'init': 'glorot_uniform', 'optimizer': 'adam'}\n",
      "0.885382 (0.001030) with: {'batch_size': 32, 'epochs': 50, 'init': 'normal', 'optimizer': 'sgd'}\n",
      "0.879800 (0.003230) with: {'batch_size': 32, 'epochs': 50, 'init': 'normal', 'optimizer': 'rmsprop'}\n",
      "0.894509 (0.002620) with: {'batch_size': 32, 'epochs': 50, 'init': 'normal', 'optimizer': 'adam'}\n",
      "0.884891 (0.001261) with: {'batch_size': 32, 'epochs': 50, 'init': 'uniform', 'optimizer': 'sgd'}\n",
      "0.879236 (0.005459) with: {'batch_size': 32, 'epochs': 50, 'init': 'uniform', 'optimizer': 'rmsprop'}\n",
      "0.892036 (0.001044) with: {'batch_size': 32, 'epochs': 50, 'init': 'uniform', 'optimizer': 'adam'}\n",
      "0.869018 (0.003096) with: {'batch_size': 50, 'epochs': 20, 'init': 'glorot_uniform', 'optimizer': 'sgd'}\n",
      "0.879109 (0.006115) with: {'batch_size': 50, 'epochs': 20, 'init': 'glorot_uniform', 'optimizer': 'rmsprop'}\n",
      "0.889164 (0.002017) with: {'batch_size': 50, 'epochs': 20, 'init': 'glorot_uniform', 'optimizer': 'adam'}\n",
      "0.851345 (0.013061) with: {'batch_size': 50, 'epochs': 20, 'init': 'normal', 'optimizer': 'sgd'}\n",
      "0.873927 (0.008096) with: {'batch_size': 50, 'epochs': 20, 'init': 'normal', 'optimizer': 'rmsprop'}\n",
      "0.889927 (0.003125) with: {'batch_size': 50, 'epochs': 20, 'init': 'normal', 'optimizer': 'adam'}\n",
      "0.845764 (0.011566) with: {'batch_size': 50, 'epochs': 20, 'init': 'uniform', 'optimizer': 'sgd'}\n",
      "0.878382 (0.004859) with: {'batch_size': 50, 'epochs': 20, 'init': 'uniform', 'optimizer': 'rmsprop'}\n",
      "0.892745 (0.003175) with: {'batch_size': 50, 'epochs': 20, 'init': 'uniform', 'optimizer': 'adam'}\n",
      "0.867527 (0.006626) with: {'batch_size': 50, 'epochs': 30, 'init': 'glorot_uniform', 'optimizer': 'sgd'}\n",
      "0.879418 (0.007320) with: {'batch_size': 50, 'epochs': 30, 'init': 'glorot_uniform', 'optimizer': 'rmsprop'}\n",
      "0.886909 (0.004292) with: {'batch_size': 50, 'epochs': 30, 'init': 'glorot_uniform', 'optimizer': 'adam'}\n",
      "0.865836 (0.009582) with: {'batch_size': 50, 'epochs': 30, 'init': 'normal', 'optimizer': 'sgd'}\n",
      "0.882200 (0.004105) with: {'batch_size': 50, 'epochs': 30, 'init': 'normal', 'optimizer': 'rmsprop'}\n",
      "0.892055 (0.001677) with: {'batch_size': 50, 'epochs': 30, 'init': 'normal', 'optimizer': 'adam'}\n",
      "0.867618 (0.005148) with: {'batch_size': 50, 'epochs': 30, 'init': 'uniform', 'optimizer': 'sgd'}\n",
      "0.881309 (0.009555) with: {'batch_size': 50, 'epochs': 30, 'init': 'uniform', 'optimizer': 'rmsprop'}\n",
      "0.888309 (0.007463) with: {'batch_size': 50, 'epochs': 30, 'init': 'uniform', 'optimizer': 'adam'}\n",
      "0.880455 (0.003722) with: {'batch_size': 50, 'epochs': 50, 'init': 'glorot_uniform', 'optimizer': 'sgd'}\n",
      "0.878873 (0.001455) with: {'batch_size': 50, 'epochs': 50, 'init': 'glorot_uniform', 'optimizer': 'rmsprop'}\n",
      "0.892255 (0.005822) with: {'batch_size': 50, 'epochs': 50, 'init': 'glorot_uniform', 'optimizer': 'adam'}\n",
      "0.861618 (0.016435) with: {'batch_size': 50, 'epochs': 50, 'init': 'normal', 'optimizer': 'sgd'}\n",
      "0.883891 (0.002021) with: {'batch_size': 50, 'epochs': 50, 'init': 'normal', 'optimizer': 'rmsprop'}\n",
      "0.892618 (0.002706) with: {'batch_size': 50, 'epochs': 50, 'init': 'normal', 'optimizer': 'adam'}\n",
      "0.872418 (0.004401) with: {'batch_size': 50, 'epochs': 50, 'init': 'uniform', 'optimizer': 'sgd'}\n",
      "0.877691 (0.004475) with: {'batch_size': 50, 'epochs': 50, 'init': 'uniform', 'optimizer': 'rmsprop'}\n",
      "0.893127 (0.003229) with: {'batch_size': 50, 'epochs': 50, 'init': 'uniform', 'optimizer': 'adam'}\n",
      "0.855182 (0.004677) with: {'batch_size': 100, 'epochs': 20, 'init': 'glorot_uniform', 'optimizer': 'sgd'}\n",
      "0.887600 (0.004279) with: {'batch_size': 100, 'epochs': 20, 'init': 'glorot_uniform', 'optimizer': 'rmsprop'}\n",
      "0.892145 (0.003229) with: {'batch_size': 100, 'epochs': 20, 'init': 'glorot_uniform', 'optimizer': 'adam'}\n",
      "0.850236 (0.005848) with: {'batch_size': 100, 'epochs': 20, 'init': 'normal', 'optimizer': 'sgd'}\n",
      "0.878636 (0.008638) with: {'batch_size': 100, 'epochs': 20, 'init': 'normal', 'optimizer': 'rmsprop'}\n",
      "0.886545 (0.001522) with: {'batch_size': 100, 'epochs': 20, 'init': 'normal', 'optimizer': 'adam'}\n",
      "0.837055 (0.004033) with: {'batch_size': 100, 'epochs': 20, 'init': 'uniform', 'optimizer': 'sgd'}\n",
      "0.883109 (0.004276) with: {'batch_size': 100, 'epochs': 20, 'init': 'uniform', 'optimizer': 'rmsprop'}\n",
      "0.888745 (0.004261) with: {'batch_size': 100, 'epochs': 20, 'init': 'uniform', 'optimizer': 'adam'}\n",
      "0.863491 (0.005502) with: {'batch_size': 100, 'epochs': 30, 'init': 'glorot_uniform', 'optimizer': 'sgd'}\n",
      "0.881909 (0.002921) with: {'batch_size': 100, 'epochs': 30, 'init': 'glorot_uniform', 'optimizer': 'rmsprop'}\n",
      "0.894218 (0.003563) with: {'batch_size': 100, 'epochs': 30, 'init': 'glorot_uniform', 'optimizer': 'adam'}\n",
      "0.860036 (0.002857) with: {'batch_size': 100, 'epochs': 30, 'init': 'normal', 'optimizer': 'sgd'}\n",
      "0.886545 (0.000195) with: {'batch_size': 100, 'epochs': 30, 'init': 'normal', 'optimizer': 'rmsprop'}\n",
      "0.888145 (0.006034) with: {'batch_size': 100, 'epochs': 30, 'init': 'normal', 'optimizer': 'adam'}\n",
      "0.850164 (0.006763) with: {'batch_size': 100, 'epochs': 30, 'init': 'uniform', 'optimizer': 'sgd'}\n",
      "0.886618 (0.004127) with: {'batch_size': 100, 'epochs': 30, 'init': 'uniform', 'optimizer': 'rmsprop'}\n",
      "0.892200 (0.002267) with: {'batch_size': 100, 'epochs': 30, 'init': 'uniform', 'optimizer': 'adam'}\n",
      "0.874327 (0.003597) with: {'batch_size': 100, 'epochs': 50, 'init': 'glorot_uniform', 'optimizer': 'sgd'}\n",
      "0.885400 (0.002425) with: {'batch_size': 100, 'epochs': 50, 'init': 'glorot_uniform', 'optimizer': 'rmsprop'}\n",
      "0.888527 (0.003071) with: {'batch_size': 100, 'epochs': 50, 'init': 'glorot_uniform', 'optimizer': 'adam'}\n",
      "0.870109 (0.005149) with: {'batch_size': 100, 'epochs': 50, 'init': 'normal', 'optimizer': 'sgd'}\n",
      "0.883509 (0.011000) with: {'batch_size': 100, 'epochs': 50, 'init': 'normal', 'optimizer': 'rmsprop'}\n",
      "0.893400 (0.002803) with: {'batch_size': 100, 'epochs': 50, 'init': 'normal', 'optimizer': 'adam'}\n",
      "0.862873 (0.002326) with: {'batch_size': 100, 'epochs': 50, 'init': 'uniform', 'optimizer': 'sgd'}\n",
      "0.886218 (0.005059) with: {'batch_size': 100, 'epochs': 50, 'init': 'uniform', 'optimizer': 'rmsprop'}\n",
      "0.890091 (0.008555) with: {'batch_size': 100, 'epochs': 50, 'init': 'uniform', 'optimizer': 'adam'}\n"
     ]
    }
   ],
   "source": [
    "from keras.wrappers.scikit_learn import KerasClassifier\n",
    "from sklearn.model_selection import GridSearchCV\n",
    "import numpy\n",
    "model = KerasClassifier(build_fn=crear_modelo, verbose=0)\n",
    "optimizers = ['sgd','rmsprop', 'adam']\n",
    "inits = ['glorot_uniform', 'normal', 'uniform']\n",
    "epochs = [20, 30, 50]\n",
    "batches = [32, 50, 100]\n",
    "\n",
    "\n",
    "param_grid = dict(optimizer=optimizers, epochs=epochs, batch_size=batches, init=inits)\n",
    "grid = GridSearchCV(estimator=model, param_grid=param_grid, cv=3)\n",
    "grid_result = grid.fit(X_train, y_train,validation_data=(X_valid, y_valid))\n",
    "print(\"Best: %f using %s\" % (grid_result.best_score_, grid_result.best_params_))\n",
    "means = grid_result.cv_results_['mean_test_score']\n",
    "stds = grid_result.cv_results_['std_test_score']\n",
    "params = grid_result.cv_results_['params']\n",
    "for mean, stdev, param in zip(means, stds, params):\n",
    "    print(\"%f (%f) with: %r\" % (mean, stdev, param))"
   ]
  },
  {
   "cell_type": "markdown",
   "metadata": {},
   "source": [
    "## Se observa que los mejores parámeros con una Accuracy del 89%, para el modelo son: \n",
    "## Best: 0.894509 using {'batch_size': 32, 'epochs': 50, 'init': 'normal', 'optimizer': 'adam'}"
   ]
  },
  {
   "cell_type": "code",
   "execution_count": 37,
   "metadata": {},
   "outputs": [
    {
     "name": "stdout",
     "output_type": "stream",
     "text": [
      "Model: \"sequential_1\"\n",
      "_________________________________________________________________\n",
      "Layer (type)                 Output Shape              Param #   \n",
      "=================================================================\n",
      "flatten_1 (Flatten)          (None, 784)               0         \n",
      "_________________________________________________________________\n",
      "dense_3 (Dense)              (None, 300)               235500    \n",
      "_________________________________________________________________\n",
      "dense_4 (Dense)              (None, 100)               30100     \n",
      "_________________________________________________________________\n",
      "dense_5 (Dense)              (None, 10)                1010      \n",
      "=================================================================\n",
      "Total params: 266,610\n",
      "Trainable params: 266,610\n",
      "Non-trainable params: 0\n",
      "_________________________________________________________________\n"
     ]
    }
   ],
   "source": [
    "\n",
    "modelo1.summary()"
   ]
  },
  {
   "cell_type": "code",
   "execution_count": 38,
   "metadata": {},
   "outputs": [],
   "source": [
    "modelo1.save('modelo3.h5')"
   ]
  },
  {
   "cell_type": "code",
   "execution_count": null,
   "metadata": {},
   "outputs": [],
   "source": []
  }
 ],
 "metadata": {
  "kernelspec": {
   "display_name": "Python 3",
   "language": "python",
   "name": "python3"
  },
  "language_info": {
   "codemirror_mode": {
    "name": "ipython",
    "version": 3
   },
   "file_extension": ".py",
   "mimetype": "text/x-python",
   "name": "python",
   "nbconvert_exporter": "python",
   "pygments_lexer": "ipython3",
   "version": "3.7.3"
  }
 },
 "nbformat": 4,
 "nbformat_minor": 2
}
