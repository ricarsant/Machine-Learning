{
 "cells": [
  {
   "cell_type": "markdown",
   "metadata": {},
   "source": [
    "# SOM\n",
    "### Juan Camilo Cática\n",
    "\n",
    "### Diego Escobar\n",
    "\n",
    "### Ricardo"
   ]
  },
  {
   "cell_type": "code",
   "execution_count": 1,
   "metadata": {},
   "outputs": [],
   "source": [
    "import numpy as np\n",
    "import matplotlib.pyplot as plt\n",
    "from sklearn.preprocessing import MinMaxScaler\n",
    "from sklearn.preprocessing import LabelEncoder"
   ]
  },
  {
   "cell_type": "markdown",
   "metadata": {},
   "source": [
    "## Clases desarrolladas \n",
    "\n",
    "Estas clases fueron desarrolladas con la finalidad de implementar el algorimo SOM y entender el funcinamiento real del algoritmo.\n",
    "\n"
   ]
  },
  {
   "cell_type": "markdown",
   "metadata": {},
   "source": [
    "### SOM2D"
   ]
  },
  {
   "cell_type": "code",
   "execution_count": 17,
   "metadata": {},
   "outputs": [],
   "source": [
    "import numpy as np\n",
    "import pandas as pd\n",
    "import math\n",
    "from mytimer import my_timer\n",
    "from sklearn.base import BaseEstimator, TransformerMixin\n",
    "\n",
    "class SOM2D(BaseEstimator, TransformerMixin):\n",
    "    \"\"\"\n",
    "    Esta clase implementa un SOM (Self-Organizing Map) a partir de las dimensiones establecidas\n",
    "    desde el método constructor.\n",
    "\n",
    "    Este método inicializa algunos de los atributos implementados por el algoritmo a través de \n",
    "    los parametros de entrada. Sin embargo, algunos de estos son definidos tras el entrenamiento del \n",
    "    algotimo.\n",
    "\n",
    "    La red neuronal o mapa que se genera con la implementación de esta clase es, en terminos estrictos,\n",
    "    una matriz con número de filas igual a 'hight' y número de columans igual a 'widht'.\n",
    "\n",
    "    Parametros:\n",
    "    -----------\n",
    "        hight: int.\n",
    "            Establece la alturna en número de unidades de la red neuronal (SOM), es decir, el número\n",
    "            de filas de la matriz que simula la red.\n",
    "\n",
    "        widht: int.\n",
    "            Establece la anchura en número de unidades de la red neuronal (SOM), es decir, el número\n",
    "            de columnas de la matriz que simula la red.\n",
    "\n",
    "        alpha: float, default 0.2.\n",
    "            Se define como la taza de apendizaje y olvido del algotirmo SOM. \n",
    "\n",
    "        distance: float, default 2.\n",
    "            Es la distancia maxima a la cual se desarrollará la propagación de actualización\n",
    "            de los pesos de las neuronas vecinas. Es análogo a la técnica 'spreading activation'.\n",
    "\n",
    "        epochs: int, default 100.\n",
    "            Número de epocas definidas para desarrollar el entrenamiento de estimador.\n",
    "\n",
    "    Atributos:\n",
    "    ----------\n",
    "        self.proximity_matrix:\n",
    "            Este atributo es una matriz cuadrada con dimensiónes laterales iguales al número de neuronas\n",
    "            o unidades 'self._units' definidas  por el producto entre los parametros hight y widht.\n",
    "\n",
    "            Esta matriz contine las distancias en terminos de la composición del mapa entre cada una \n",
    "            de las neuronas que compone la red. \n",
    "\n",
    "            Este atributo se inicializa al momento de compilar la red, es decir, cuando se ejecuta\n",
    "            el método 'self.compile()'.  \n",
    "\n",
    "        self.decay_values:\n",
    "            Este atributo es un diccionario que contiene el valor de decaimiento para cada neruona que \n",
    "            se encuentre en el rango de proximidad de cada una de las neuronas de la red que puedan\n",
    "            llegar a ser la neurona ganadora en cada iteración.\n",
    "\n",
    "            self.decay_values:{\n",
    "                neurona_ganadora0: [(neurona1, decay_val),(neurona2, decay_val),...,(neuronaN, decay_val)]\n",
    "                neurona_ganadora1: [(neurona0, decay_val),(neurona2, decay_val),...,(neuronaM, decay_val)]\n",
    "                ...\n",
    "            }\n",
    "\n",
    "            eje:\n",
    "                self.decay_values:{\n",
    "                    0:[(1,0.98), (2,0.95), ... (n, ##)]\n",
    "                    1:[(0,0.98), (2,0.91), ... (m, ##)]\n",
    "                    ...\n",
    "                    k:[(0,0.83), (1,0.95), ... (l, ##)]\n",
    "                }\n",
    "                donde: n, m, l son el maximo de neuronas que entran en el radio de cobertura definido\n",
    "                por 'distance' cuando la neurona ganadora en cada iteración reuslta ser 0, 1, ó k.\n",
    "\n",
    "        self.mean_distances:\n",
    "            Este atributo es un vector que almacena la distncia media de cada neurona con respecto a las\n",
    "            demás en termino de los vectores de pesos.\n",
    "\n",
    "            Este atributo se emplea para generar la gráfica tipo panal de abeja por medio del método\n",
    "            'self.plot()' cuando el valor del parametro 'som_map' de dicho método es igual a \"distance\".\n",
    "\n",
    "        self.label_matrix:\n",
    "            Esta matriz se inicializa cuando se ha entrenado el estimador con etiqeutas de clase. Donde\n",
    "            el número de filas representa el numero de neuronas y el número de coumnas las etiquetas de\n",
    "            clase.\n",
    "\n",
    "            Los valores contenidos en esta matriz son basicamente el número de registros que han sido \n",
    "            asociado a cada neurona. Estos valores pueden estar modificados en por efectos de la función\n",
    "            de decaimiento.\n",
    "\n",
    "        self.labels:\n",
    "            Este atributo es una vector de etiquetas, el cual se obtiene a partir de la matriz \n",
    "            'self.label_matrix', Sabiendo que cada fila de la matriz 'self.label_matrix' representa una\n",
    "            neurona, y los valores de las columnas representan las etiquetas, el valor de 'self.labels'\n",
    "            se optiene a partir del valor maximo de cada columna para cada una de las filas (neuronas).\n",
    "\n",
    "        self.W\n",
    "            Este atributo es una matriz que representa los vectores de pesos de cada una de las\n",
    "            neuronas de la red neuronal del  algorimo SOM. Esta matriz se inicializa al momento de \n",
    "            entrenar el modelo, es decir al momento de invocar el metodo 'self.fit()'.\n",
    "\n",
    "        self.quantization_error: float\n",
    "            Error de cuantificación sobre el conjunto de datos de entrenamiento.\n",
    "            \n",
    "        self.topological_error: float\n",
    "            Error de cuantificación sobre el conjunto de datos de entrenamiento.\n",
    "\n",
    "        IMPORTANTE:    \n",
    "            Ejemplo de la Matriz de neuronas del Algoritmo SOM (Representación Matricial):\n",
    "                    j\n",
    "                  0,1,2\n",
    "                i 3,4,5\n",
    "                  6,7,8\n",
    "\n",
    "            La matriz anterior es una representación reordenada t reformateada del vector de neuronas.\n",
    "            La siguiente matriz es la matriz de priximidad (self.proximity_matrix) la cual contiene las \n",
    "            distancias en terminos del arreglo de la matriz de cada una de las neuronas en la representación\n",
    "            matricial.\n",
    "                       k1\n",
    "                   0 1 2 3 4 5 \n",
    "                   -----------\n",
    "                0| 0 1 2 1 . . \n",
    "                1| 1 0 1 . 1 . \n",
    "            k2  2| 2 1 0 \n",
    "                3| 1 .   0\n",
    "                4| . 1     0\n",
    "                5| . .       0    \n",
    "    \n",
    "    Desarrollado por:\n",
    "        Juan Camilo Cática Buendía.\n",
    "    \"\"\"\n",
    "    \n",
    "    def __init__(self, hight, widht, alpha = 0.2, distance = 2, epochs = 100):\n",
    "        # -------------------------------------------------\n",
    "        # ATRIBUTOS DEFINIDOS POR LOS PARÁMETROS DE ENTRADA\n",
    "        #\n",
    "        self._widht = widht\n",
    "        self._hight = hight\n",
    "        self._alpha = alpha\n",
    "        self._distance = distance\n",
    "        self._epochs = epochs\n",
    "        self._units = hight*widht\n",
    "        \n",
    "        # ---------------------------------------------------\n",
    "        # ATRIBUTOS DE CONTROL DE ENTRENAMIENTO Y COMPILACIÓN\n",
    "        #\n",
    "        self._compiled = False\n",
    "        self._trained = False\n",
    "        self._labeled = False\n",
    "        \n",
    "        # ---------------------------------------------------------------\n",
    "        # ATRIBUTOS QUE SE DEFINEN DURANTE LA COMPILACIÓN Y ENTRENAMIENTO\n",
    "        #\n",
    "        self.proximity_matrix = None\n",
    "        self.decay_values = dict()\n",
    "        self.mean_distances = []\n",
    "        self.label_matrix = []\n",
    "        self.labels = []\n",
    "        self.W = None\n",
    "        self.quantization_error = -1\n",
    "        self.topological_error = -1\n",
    "    \n",
    "    def fit(self, X, y = None):\n",
    "        \"\"\"\n",
    "        Método de entrenamiento.\n",
    "        \n",
    "        Este método se ejecuta en cuatro etapas, las cuales son:\n",
    "            1.  ETAPA DE ACTUALIZACIÓN DE LOS PESOS DE LAS NEURONAS. \n",
    "                Esto se desarrolla bajo el algoritmo SOM.\n",
    "                $ 𝒘_𝒋(𝑡 + 1) = 𝒘_𝒋(𝑡) + 𝛼 V(d(i,j),g)(𝒙_𝒊 − 𝒘_𝒋(𝑡)) $\n",
    "                \n",
    "            2.  GENERACIÓN DE DISTANCIAS MEDIAS ENTRE NEURONAS.\n",
    "            \n",
    "            \n",
    "            3.  ETIQUETAS DE LAS NEURONAS.\n",
    "            \n",
    "            \n",
    "            4.  CÁLCULO DEL ERROR DE CUANTIFICACION (QE: QUANTIFICATION ERROR).\n",
    "            \n",
    "        \n",
    "        ADVERTENCIA: \n",
    "            Los datos de entrada por el vector 'y' deben estar codificados de 0 a n.\n",
    "            Donde el valor de 'n' es el númeor de clases posibles.\n",
    "            \n",
    "        IMPORTANTE:\n",
    "            Este método no se encuentra optimizado en términos de reutilización de código.\n",
    "            En cada etapa se implementa código similar. (REVISAR POSIBILIDADES).\n",
    "                   \n",
    "        Parametro:\n",
    "        ----------\n",
    "        \n",
    "            X: numpy.array\n",
    "                Conjunto de datos sin etiquetas de clase.\n",
    "            \n",
    "            y: list or numpy.array, default None.\n",
    "                Etiquetas de classe para cada uno de los registros de 'X'.\n",
    "            \n",
    "        \"\"\"\n",
    "        assert self._compiled, \"No se ha compilado la red neuronal (SOM).\"\n",
    "        assert not self._trained, \"La red ya fue entrenada\"\n",
    "        _, n_variables = X.shape\n",
    "        self.W = np.random.randn(self._units, n_variables)\n",
    "        self.W_old = self.W.copy()\n",
    "        serie_i = pd.Series(range(len(X)))\n",
    "        \n",
    "        # ---------------------------------------------------\n",
    "        # ETAPA DE ACTUALIZACIÓN DE LOS PESOS DE LAS NEURONAS\n",
    "        #\n",
    "        timer = my_timer(nombre=\"SOM Algo\",total_iter=self._epochs)\n",
    "        for epoch in range(self._epochs):\n",
    "            for i in serie_i.sample(frac=1):\n",
    "                nomrs = []\n",
    "                for W_j in self.W:\n",
    "                    nomrs.append(np.linalg.norm(X[i] - W_j))\n",
    "                wn = np.argmin(nomrs)\n",
    "                 \n",
    "                for j, decay_val in self.decay_values[wn]:\n",
    "                    self.W[j] = self._update(self.W[j], X[i], decay_val)\n",
    "            timer.iter()\n",
    "        timer.end()\n",
    "        # ----------------------------------------------\n",
    "        # GENERACIÓN DE DISTANCIAS MEDIAS ENTRE NEURONAS\n",
    "        #\n",
    "        for i in range(len(self.W)):\n",
    "            distances = []\n",
    "            for j in range(len(self.W)):\n",
    "                distances.append(np.linalg.norm(self.W[i] - self.W[j]))\n",
    "            self.mean_distances.append(np.mean(distances))\n",
    "        \n",
    "        # -------------------------\n",
    "        # ETIQUETAS DE LAS NEURONAS\n",
    "        #\n",
    "        if y is not None:\n",
    "            self.labels = pd.Series(y).unique()\n",
    "            self.label_matrix = np.zeros((self._units, len(self.labels)))\n",
    "            \n",
    "            for xi, yi in zip(X,y):\n",
    "                nomrs = []\n",
    "                for W_j in self.W:\n",
    "                    nomrs.append(np.linalg.norm(xi - W_j))\n",
    "                wn = np.argmin(nomrs)\n",
    "\n",
    "                for j, decay_val in self.decay_values[wn]:\n",
    "                    self.label_matrix[j, yi] += decay_val \n",
    "            self._labeled = True\n",
    "            \n",
    "        # ------------------------------------------------------------\n",
    "        # CÁLCULO DEL ERROR DE CUANTIFICACION (QE: QUANTIZATION ERROR)\n",
    "        # CÁLCULO DEL ERROR TOPOLÓGICO (TE: TOPOLOGICAL ERROR)\n",
    "        #\n",
    "        q_error = 0\n",
    "        t_error = 0\n",
    "        for xi in X:\n",
    "            nomrs = []\n",
    "            for Wj in self.W:\n",
    "                nomrs.append(np.linalg.norm(xi - Wj))\n",
    "            wn1 = np.argmin(nomrs)\n",
    "            q_error += nomrs[wn1]\n",
    "            \n",
    "            del nomrs[wn]\n",
    "            wn2 = np.argmin(nomrs)\n",
    "            t_error += 0 if self._adjacent(wn1,wn2) else 1\n",
    "                  \n",
    "        self.quantization_error = q_error / len(X)        \n",
    "        self.topological_error = t_error / len(X)\n",
    "        \n",
    "        # ---------------------------------------------\n",
    "        # ENTRENAMIENTO DESARROLLADO SATISFACTORIAMENTE\n",
    "        #        \n",
    "        self._trained = True\n",
    "    \n",
    "    def compile(self):\n",
    "        \"\"\"\n",
    "        Este métod debe ser ejecutado antes de ejecutar el método 'self.fit()'.\n",
    "        \n",
    "        Este metodo inicializa la matriz de proximidad (self.proximity_matrix) se inicializa con valores de cero.\n",
    "        Posteriormente calcula todos los valores de proximidad de entre las neuronas en terminos del arreglo \n",
    "        matricial.\n",
    "        \n",
    "        Finalmente, se asignan los valors de decamiento para cada una de las combinaciones de neuronas \n",
    "        (neurona genadora y neurona proxima), donde las neuronas proximas son seleccinadas a partir del rango\n",
    "        definido por el parametro 'distance' del método constructor de cada una de las neuronas existentes.\n",
    "        \n",
    "        Los valores de decaimiento son almacenados por un diccionario. Para entender el formato del diccionario\n",
    "        ver self.decay_values en el docstring del metodo constructor en la sección de atributos.\n",
    "        \n",
    "        IMPORTANTE: \n",
    "            Este metodo puede tardar de manera considerable en función de las neuronas que componen la red SOM.\n",
    "        \"\"\"\n",
    "        self.proximity_matrix = np.zeros((self._units,self._units))\n",
    "        for k1 in range(self._units):\n",
    "            for k2 in range(k1):\n",
    "                vect_k1 = self._coordinates_ij(k1)\n",
    "                vect_k2 = self._coordinates_ij(k2)\n",
    "                distance = np.linalg.norm(vect_k1 - vect_k2)\n",
    "                self.proximity_matrix[k1,k2] = self.proximity_matrix[k2,k1] = distance\n",
    "                \n",
    "        for k1 in range(self._units):\n",
    "            neurons_decays = []\n",
    "            for k2 in range(self._units):\n",
    "                proximity = self.proximity_matrix[k1,k2]\n",
    "                if self._distance >= proximity:\n",
    "                    neurons_decays.append((k2,self._decay_function(proximity))) \n",
    "            self.decay_values[k1] = neurons_decays\n",
    "        self._compiled = True    \n",
    "    \n",
    "    \n",
    "    def _coordinates_ij(self, k):\n",
    "        \"\"\"\n",
    "        Este método permite obtener la cardinalidad de cada neurona bajo una representación matricial.\n",
    "        Ya que esta clase implementa el conjunto de neuronas como un vector.\n",
    "        \n",
    "        Parametros:\n",
    "        -----------\n",
    "        \n",
    "            k: int\n",
    "                Posición de la neurona en el vector 'self.W'\n",
    "            \n",
    "        \"\"\"\n",
    "        i = k // self._widht\n",
    "        j = k % self._widht\n",
    "        return np.array([i,j])\n",
    "    \n",
    "    def _decay_function(self, dist):\n",
    "        \"\"\"\n",
    "        La función de decaimiento.\n",
    "        \n",
    "        Parametro:\n",
    "        ----------\n",
    "        \n",
    "            dist: float\n",
    "                Distancia con la cual obtiene el valor de decaimiento.\n",
    "        \"\"\"\n",
    "        return math.e**(-dist)\n",
    "    \n",
    "    def _update(self, W_j, x_i, decay_val):\n",
    "        \"\"\"\n",
    "        Función para la actualización del peso de las neuronas, en esta se contempla el valor de decaimiento\n",
    "        en el proceso de actualización.\n",
    "        \"\"\"\n",
    "        return W_j + self._alpha * (decay_val * (x_i - W_j))\n",
    "    \n",
    "    def _adjacent(self, neuron1, neuron2, edge = 1):\n",
    "        \"\"\"\n",
    "        Esta función permite determinar si las dos neuronas son adjacentes en nunción del valor del parametro\n",
    "        'edge', el cual por defecto se encuentra en uno.\n",
    "        \"\"\"\n",
    "        i1, j1 = self._coordinates_ij(neuron1)\n",
    "        i2, j2 = self._coordinates_ij(neuron2)\n",
    "        \n",
    "        delta_i = abs(i2-i1)\n",
    "        delta_j = abs(j2-j1)\n",
    "        \n",
    "        return delta_i <= edge and delta_j <= edge\n",
    "    \n",
    "    def plot(self, name = \"\", som_map = \"distance\", ticklabels = None, figsize=(7, 4), \n",
    "             distance_cmap = 'gray_r', labeled_cmap = None):\n",
    "        \"\"\"\n",
    "        Metodo para plotear la gráfica de panal de abeja.\n",
    "        \n",
    "        Esta gráfica puede esta basada en un vector de distancias o en un vector de etiquetas de clase\n",
    "        según el entrenamiento del estimador.\n",
    "        \n",
    "        parametros:\n",
    "        -----------\n",
    "        \n",
    "            name: str\n",
    "                Nombre de la gráfica.\n",
    "                \n",
    "            som_map: str\n",
    "                Tipo de mapa a proyectar. \n",
    "                'distance': Mapa de distancias entre las neuronas\n",
    "                'labeled' : MApa de coloración. Solo funcióna cuando se ha entrenado con etiquetas de clase.\n",
    "            \n",
    "            ticklabels: list, default None.\n",
    "                Nombre de las etiquetas de clase\n",
    "            \n",
    "            figsize: tuple\n",
    "                Tamaño de la figura.\n",
    "            \n",
    "            distance_cmap:\n",
    "                cmap para la coloración del mapa cuando el valor de 'som_map' es igual a 'distance'.\n",
    "            \n",
    "            labeled_cmap:\n",
    "                cmap para la coloración del mapa cuando el valor de 'som_map' es igual a 'labeled'.\n",
    "        \"\"\"\n",
    "        assert self._compiled, \"No se ha compilado la red neuronal (SOM) :(\"\n",
    "        assert self._trained, \"No se ha entrenado la red :(\"\n",
    "        if ticklabels is not None and len(ticklabels)>1:\n",
    "            assert len(self.labels)==len(ticklabels), \"'ticklabels' no es de igual longitud que 'self.labels'\"\n",
    "            \n",
    "        gridsize = max(self._widht,self._hight)\n",
    "        x = []\n",
    "        y = []\n",
    "        if som_map == \"distance\":\n",
    "            fig = plt.figure(figsize=figsize)\n",
    "            for k_neuron in range(self._units):\n",
    "                i,j = self._coordinates_ij(k_neuron)\n",
    "                x.append(j)\n",
    "                y.append(i)\n",
    "\n",
    "            hb = plt.hexbin(x, y, C = self.mean_distances, gridsize = gridsize, cmap = distance_cmap)\n",
    "            plt.title(\"Mean Distance\")\n",
    "            cb = fig.colorbar(hb)\n",
    "            cb.set_label('Distance')\n",
    "\n",
    "        elif som_map == \"labeled\":\n",
    "            assert self._labeled, \"No se especificaron etiquetas durante el entrenamiento\"\n",
    "            fig = plt.figure(figsize=figsize)\n",
    "            label_neurons = []\n",
    "            for k_neuron in range(self._units):\n",
    "                i,j = self._coordinates_ij(k_neuron)\n",
    "                W_k = self.label_matrix[k_neuron]\n",
    "                if W_k.sum():\n",
    "                    x.append(j)\n",
    "                    y.append(i)\n",
    "                    label_neurons.append(np.argmax(W_k))\n",
    "\n",
    "            hb = plt.hexbin(x, y, C=label_neurons, gridsize = gridsize, cmap = labeled_cmap)\n",
    "            plt.title(f\"{name} SOM\")\n",
    "            cb = fig.colorbar(hb)\n",
    "            cb.set_label('label')\n",
    "            cb.set_ticks(ticks=self.labels)\n",
    "            if ticklabels is not None and len(ticklabels)>1:\n",
    "                cb.set_ticklabels(ticklabels=ticklabels)\n",
    "        else:\n",
    "            raise ValueError(\"El valor del parámetro 'som_map' no es correcto :(\")\n",
    "        plt.show()"
   ]
  },
  {
   "cell_type": "markdown",
   "metadata": {},
   "source": [
    "## MiVectorizador"
   ]
  },
  {
   "cell_type": "code",
   "execution_count": 3,
   "metadata": {},
   "outputs": [],
   "source": [
    "from sklearn.base import BaseEstimator, TransformerMixin\n",
    "import re\n",
    "import nltk\n",
    "from nltk.tokenize import word_tokenize\n",
    "from nltk.tag import pos_tag\n",
    "from nltk.corpus import stopwords\n",
    "from nltk.stem.snowball import SnowballStemmer\n",
    "from sklearn.pipeline import Pipeline\n",
    "from sklearn.feature_extraction.text import TfidfVectorizer\n",
    "\n",
    "class MiVectorizador(BaseEstimator, TransformerMixin):\n",
    "    \"\"\"\n",
    "    Esta clase permite trasformar colecciones de textos al formato vectorial que se define a \n",
    "    través de los parametros del método constructor.\n",
    "    \n",
    "    Esta clase desarrolla lematización por defecto sobre el conjunto de datos (Textos)\n",
    "\n",
    "    Iniialización de la clase \"Vectorizador\", la cual permite trasformar colecciones de textos al formato\n",
    "    vectorial que se define a través de los parametros de este método.\n",
    "\n",
    "    Parametros:\n",
    "    -----------\n",
    "\n",
    "        tipo_vetores: \"binario\", \"gauss\", \"multinomial\"\n",
    "            \"binario\": Durante la trasformación se generan vectores binarios de palabras en \n",
    "                       representación de la colección de documentos.\n",
    "\n",
    "            \"gauss\": Durante la trasformación se generan vectores de palabras en representación \n",
    "                     de documentos bajo la aplicación de la técnica TF-IDF.\n",
    "\n",
    "            \"multinomial\": Durante la trasformación se generan vectores de palabras en representación de\n",
    "                           los documentos por medio de fecuencias absolutas.\n",
    "\n",
    "        idioma: str, default = \"english\"\n",
    "            Idioma del lematizador intacia de la clase SnowballStemmer.\n",
    "            Si el valor de idioma es igual a 'None' no se emplea lematización durante la tranformación.\n",
    "\n",
    "        stop_words_lem: True o False\n",
    "            Determina si se incluye o no el conjunto de stop_words del lematizador.\n",
    "\n",
    "        add_stop_words: list, defoult = list()\n",
    "            Este parametro recive la lista de stop_words que se adicionarán al conjuto de stop_words\n",
    "            nltk.corpus.stopwods.\n",
    "        \n",
    "        min_df: int, default 1.\n",
    "            Este parametro establece el mínimo valor de fecuencia absoluta de un token para ser tomado en cuenta.\n",
    "\n",
    "    Desarrollada por:\n",
    "        Ing. Juan Camilo Cática\n",
    "    \"\"\"\n",
    "    \n",
    "    def __init__(self, tipo_vectores=\"gauss\", idioma=\"english\", stop_words_lem = False , add_stop_words =list(),\n",
    "                min_df = 1):\n",
    "        \"\"\"\n",
    "\n",
    "        \"\"\"\n",
    "        if tipo_vectores not in [\"binario\", \"gauss\", \"multinomial\"]:\n",
    "            raise Exception(\"\"\"Unicamente se aceptan los siguientes valores para el parametro 'tipo_vectores'\n",
    "                               'binario', 'gauss', 'multinomial'\"\"\")\n",
    "        \n",
    "        self.tipo_vectores = tipo_vectores\n",
    "        swnltk = set(stopwords.words(idioma)) if stop_words_lem else set()\n",
    "        swprop = set(add_stop_words) \n",
    "        self.stop_words = list(swnltk.union(swprop)) \n",
    "        self.idioma = idioma\n",
    "        self.lematizador = SnowballStemmer(idioma)\n",
    "        self.tfidfvect = None\n",
    "        self.min_df = min_df\n",
    "        \n",
    "    def _preprocesar(self, X):\n",
    "        \"\"\"\n",
    "        Este metodo se desarrolla en 6 estapas, las cuales son:\n",
    "         1. Conversion a minusculas de la colección de textos que llegan a través del parametro.\n",
    "         2. Eliminación de los signos de puntuación.\n",
    "         3. Tokenización.\n",
    "         4. Eliminación de stop words.\n",
    "         5. Lematización de las palabras.\n",
    "         6. Union de las palabras en una cadena de texto.\n",
    "        \n",
    "        Parametros:\n",
    "        -----------\n",
    "        \n",
    "            X: list o DataFrame.Series\n",
    "                 Este parametro contiene una colección de los texto que se requieren procesar.\n",
    "        \n",
    "        Importante:\n",
    "        -----------\n",
    "        \n",
    "            La eliminación de las StopWords se desarrolla en la etapa 4 y no se emplea la eliminación \n",
    "            durante la creación del Objeto <b>vecorizer</b> de la clase <b>TfidfVectorizer</b>. \n",
    "\n",
    "            Se desarrolla esta eliminación por medio de la etapa 4 debido a que se puedo haber realizado\n",
    "            una unión entre el conjunto de stopwords entregadas a través del parametro \"add_stop_words\" junto\n",
    "            con aquellas que se encuentran diponibles en NLTK, por tanto <b>SnowballStemmer</b> (NLTK) \n",
    "            al momneto de lematizar ignorando las stopwords puede cometer errores con aquellas que vienen \n",
    "            junto definido por medio de \"add_stop_words\" en el método constructor.\n",
    "        \"\"\"\n",
    "        if type(X)==list or type(X) == np.ndarray:\n",
    "            X = pd.Series(X)\n",
    "        texto_preprocesado = X.apply(lambda x: x.lower())\n",
    "        texto_preprocesado = texto_preprocesado.apply(lambda x: re.sub(r'[^\\w\\s]','',x))\n",
    "        texto_preprocesado = texto_preprocesado.apply(lambda x: word_tokenize(x))\n",
    "        texto_preprocesado = texto_preprocesado.apply(lambda x: [w for w in x if w not in self.stop_words])\n",
    "        texto_preprocesado = texto_preprocesado.apply(lambda x: [self.lematizador.stem(i) for i in x])\n",
    "        texto_preprocesado = texto_preprocesado.apply(lambda x: \" \".join(x))\n",
    "        return texto_preprocesado\n",
    "    \n",
    "    def fit(self, X, y=None):\n",
    "        \"\"\"\n",
    "        Este metodo ejecuta y crea la instancia de la clase \"TfidfVectorizer\" según se define a través de \n",
    "        los parametros de entrada del método constructor de esta clase.\n",
    "        \n",
    "        Posteriormente se ejecuta la etapa de preprocesamnto a través del método \"self._preprocesar\" y \n",
    "        se alimeta la instancia de la clase \"TfidfVectorizer\" previamente definida.\n",
    "        \n",
    "        Parametros:\n",
    "        -----------\n",
    "        \n",
    "            X: list o DataFrame.Series\n",
    "                 Este parametro contiene una colección de los texto que se requieren procesar.\n",
    "            \n",
    "            y: None\n",
    "                 Este parametro no se emplea durante el proceso de transformación. Proviene del metodo \"tranform\"\n",
    "                 de la superclase.\n",
    "                 \n",
    "        NOTA: Revisar parametro \"stop_words\", ya que se han eliminado las stop_words en etapas anteriores\n",
    "        \"\"\"\n",
    "        if self.tipo_vectores == \"binario\":\n",
    "             self.tfidfvect = TfidfVectorizer(stop_words=self.stop_words, \n",
    "                                              binary=True, use_idf = False, norm = None, min_df = self.min_df)\n",
    "        elif self.tipo_vectores == \"gauss\":\n",
    "            self.tfidfvect = TfidfVectorizer(stop_words=self.stop_words,min_df = self.min_df)\n",
    "        elif self.tipo_vectores == \"multinomial\":\n",
    "            self.tfidfvect = TfidfVectorizer(stop_words=self.stop_words, \n",
    "                                             binary=False, use_idf = False, norm = None, min_df = self.min_df)\n",
    "        else:\n",
    "            raise Exception(\"\"\"Unicamente se aceptan los siguientes valores para el parametro 'tipo_vectores'\n",
    "                               'binario', 'gauss', 'multinomial'\"\"\")\n",
    "        self.tfidfvect.fit(self._preprocesar(X))\n",
    "        return self\n",
    "    \n",
    "    def transform(self, X, y=None):\n",
    "        \"\"\"\n",
    "        Este metodo transforma la colección de datos que entran como parametro a una representación vectorial \n",
    "        definida por los atrbutos de clase que se establecen durante la creación de instancias de esta clase.\n",
    "        \n",
    "        Parametros:\n",
    "        -----------\n",
    "        \n",
    "            X: list o DataFrame.Series\n",
    "                 Este parametro contiene una colección de los texto que se requieren procesar.\n",
    "            \n",
    "            y: None\n",
    "                 Este parametro no se emplea durante el proceso de transformación. Proviene del metodo \n",
    "                 \"transform\" de la superclase.\n",
    "        \"\"\"\n",
    "        return self.tfidfvect.transform(self._preprocesar(X)).toarray()\n",
    "    \n",
    "    def get_feature_names(self):\n",
    "        \"\"\"\n",
    "        Este método retorna las palabras almacenadas en la instancia \"self.tfidfvect\" que se generan durante el\n",
    "        preproesamiento desarrollado en la ejecución del metodo \"self.fit()\", es decir, estas palabras se \n",
    "        encuentran lematizadas, con eliminación de signos de puntuación y totalmente en minusculas.\n",
    "        \"\"\"\n",
    "        if self.tfidfvect:\n",
    "            return self.tfidfvect.get_feature_names()\n",
    "        else:\n",
    "            print(\"No se ha ejecutado 'self.fit()'\")\n",
    "            \n",
    "    def info(self):\n",
    "        vect_definido = \"Definido\" if self.tfidfvect else \"No Definido, Sin entrenar (Sin ejecución de fit())\"\n",
    "        sub_msn = \"\"\n",
    "        if self.tfidfvect:\n",
    "            sub_msn = f\"\"\"\n",
    "            -----------------------------------------\n",
    "                Modelo\n",
    "                Total de Palabras (features): {len(self.tfidfvect.get_feature_names())}\"\"\"\n",
    "        msn = f\"\"\"\n",
    "            Vectorizado TfIdfVect  : {vect_definido}\n",
    "            Tipo de vectores       : {self.tipo_vectores}\n",
    "            Total de stopwords     : {len(self.stop_words)}\n",
    "            Idioma del lematizador : {self.idioma}\n",
    "            {sub_msn}\"\"\"\n",
    "        print(msn)"
   ]
  },
  {
   "cell_type": "markdown",
   "metadata": {},
   "source": [
    "# Inicio "
   ]
  },
  {
   "cell_type": "code",
   "execution_count": 4,
   "metadata": {},
   "outputs": [],
   "source": [
    "import pandas as pd\n",
    "import numpy as np"
   ]
  },
  {
   "cell_type": "markdown",
   "metadata": {},
   "source": [
    "### Carga de los Datos"
   ]
  },
  {
   "cell_type": "code",
   "execution_count": 5,
   "metadata": {},
   "outputs": [],
   "source": [
    "from mytimer import my_timer\n",
    "import codecs\n",
    "import os\n",
    "\n",
    "join = lambda x,y : os.path.join(x,y)\n",
    "\n",
    "def lectura(path):\n",
    "    with codecs.open(path, 'r', encoding='utf-8',errors='ignore') as file:\n",
    "        return file.read()\n",
    "\n",
    "def X_y(path, method, sample = None, verbose = False):\n",
    "    \"\"\"\n",
    "    Este metodo recibe como parametro el directorio donde se encuentra el conjunto de dato, \n",
    "    Es importante mencionar que la disposición de la información en el sistema de administración\n",
    "    de archivos debe contener las carpectas con los diferentes datos y el nombre de la carpeta\n",
    "    debe specificar la etiqueta asociada al conjunto de archivos que esta misma contiene.\n",
    "    \n",
    "    parametros:\n",
    "    -----------\n",
    "    \n",
    "    path: str\n",
    "        Ruta del directorio que contiene la información bajo la estructura especificada anteriormente.\n",
    "        \n",
    "        Ejemplo:  path = /data/\n",
    "\n",
    "        /data/\n",
    "            1/\n",
    "                imagen_1.bmp\n",
    "                imagen_2.bmp\n",
    "            2/\n",
    "                imagen_3.bmp\n",
    "                imagen_4.bmp\n",
    "    \n",
    "    sample: int \n",
    "        Número de muestas tomadas por directrio.\n",
    "        \n",
    "    verbose: bool\n",
    "        Especifica si se desea observar los tiempos y avance del proceso por medio de una instancia de\n",
    "        la clase \"mytimer.my_timer\".\n",
    "    \"\"\"\n",
    "    generador_dirs = os.walk(path)\n",
    "    sub_dirs_num = [{\"dir\":join(path,sdir),\"y\":sdir} for sdir in next(generador_dirs)[1]]\n",
    "    timer = my_timer(nombre=\"Lectura de directorios\",total_iter=sub_dirs_num,verbose=verbose)\n",
    "    \n",
    "    X = []\n",
    "    y = []\n",
    "    \n",
    "    for dic in sub_dirs_num:\n",
    "        dir_img = dic[\"dir\"]\n",
    "        names_imgs = next(os.walk(dir_img))[2]\n",
    "        if sample:\n",
    "            names_imgs = names_imgs[:sample]\n",
    "        \n",
    "        _y = dic[\"y\"]\n",
    "        _X = [method(join(dir_img,name_img)) for name_img in names_imgs]\n",
    "\n",
    "        X += _X\n",
    "        y += [_y]*len(_X)\n",
    "        timer.iter(_y)\n",
    "    timer.end()\n",
    "\n",
    "    return np.array(X), np.array(y)"
   ]
  },
  {
   "cell_type": "markdown",
   "metadata": {},
   "source": [
    "## X & y"
   ]
  },
  {
   "cell_type": "code",
   "execution_count": 6,
   "metadata": {},
   "outputs": [
    {
     "name": "stdout",
     "output_type": "stream",
     "text": [
      "Iniciando el proceso Lectura de directorios...\n",
      "Numero de iteraciones 5\n",
      "Total iteraciones para el proceso Lectura de directorios fue de: 5\n",
      "Tiempo total: 1.309s\n",
      "Tiempo medio: 0.2617344379425049s\n"
     ]
    }
   ],
   "source": [
    "X, y = X_y(\"./data/\",lectura)"
   ]
  },
  {
   "cell_type": "code",
   "execution_count": 7,
   "metadata": {},
   "outputs": [
    {
     "name": "stdout",
     "output_type": "stream",
     "text": [
      "Número de documentos : 2225\n"
     ]
    }
   ],
   "source": [
    "print(\"Número de documentos :\", len(y))"
   ]
  },
  {
   "cell_type": "markdown",
   "metadata": {},
   "source": [
    "## Codificación "
   ]
  },
  {
   "cell_type": "code",
   "execution_count": 8,
   "metadata": {},
   "outputs": [],
   "source": [
    "le = LabelEncoder()\n",
    "y = le.fit_transform(y)"
   ]
  },
  {
   "cell_type": "code",
   "execution_count": 9,
   "metadata": {},
   "outputs": [
    {
     "data": {
      "image/png": "[encoded data removed]",
      "text/plain": [
       "<Figure size 432x288 with 1 Axes>"
      ]
     },
     "metadata": {},
     "output_type": "display_data"
    }
   ],
   "source": [
    "pd.Series(y).value_counts().plot(kind = \"barh\");"
   ]
  },
  {
   "cell_type": "code",
   "execution_count": 10,
   "metadata": {},
   "outputs": [
    {
     "data": {
      "text/plain": [
       "array(['business', 'entertainment', 'politics', 'sport', 'tech'],\n",
       "      dtype='<U13')"
      ]
     },
     "execution_count": 10,
     "metadata": {},
     "output_type": "execute_result"
    }
   ],
   "source": [
    "le.inverse_transform(np.array([0,1,2,3,4]))"
   ]
  },
  {
   "cell_type": "markdown",
   "metadata": {},
   "source": [
    "## Vectorización"
   ]
  },
  {
   "cell_type": "code",
   "execution_count": 11,
   "metadata": {},
   "outputs": [],
   "source": [
    "mi_vectorizador = MiVectorizador(stop_words_lem=True,min_df=3)\n",
    "X = mi_vectorizador.fit_transform(X)"
   ]
  },
  {
   "cell_type": "markdown",
   "metadata": {},
   "source": [
    "## Dimensionalidad"
   ]
  },
  {
   "cell_type": "code",
   "execution_count": 18,
   "metadata": {},
   "outputs": [
    {
     "data": {
      "text/plain": [
       "(2225, 9671)"
      ]
     },
     "execution_count": 18,
     "metadata": {},
     "output_type": "execute_result"
    }
   ],
   "source": [
    "X.shape"
   ]
  },
  {
   "cell_type": "markdown",
   "metadata": {},
   "source": [
    "## SOM Algo"
   ]
  },
  {
   "cell_type": "code",
   "execution_count": 19,
   "metadata": {},
   "outputs": [
    {
     "name": "stdout",
     "output_type": "stream",
     "text": [
      "Iniciando el proceso SOM Algo...\n",
      "Numero de iteraciones 10\n",
      "[***---------------------------] | 10.00% : Tiempo:2.66s \t || \n",
      "[******------------------------] | 20.00% : Tiempo:5.33s \t || \n",
      "[*********---------------------] | 30.00% : Tiempo:7.89s \t || \n",
      "[************------------------] | 40.00% : Tiempo:10.38s \t || \n",
      "[***************---------------] | 50.00% : Tiempo:12.87s \t || \n",
      "[******************------------] | 60.00% : Tiempo:15.33s \t || \n",
      "[*********************---------] | 70.00% : Tiempo:17.82s \t || \n",
      "[************************------] | 80.00% : Tiempo:20.32s \t || \n",
      "[***************************---] | 90.00% : Tiempo:22.81s \t || \n",
      "[******************************] | 100.00% : Tiempo:25.30s \t || \n",
      "Total iteraciones para el proceso SOM Algo fue de: 10\n",
      "Tiempo total: 25.304s\n",
      "Tiempo medio: 2.530357098579407s\n"
     ]
    }
   ],
   "source": [
    "som = SOM2D( 5, 5, alpha = 0.05, distance = 2, epochs = 10)\n",
    "som.compile()\n",
    "som.fit(X,y)"
   ]
  },
  {
   "cell_type": "markdown",
   "metadata": {},
   "source": [
    "# Mapas\n",
    "\n",
    "### - Distancia"
   ]
  },
  {
   "cell_type": "code",
   "execution_count": 28,
   "metadata": {},
   "outputs": [
    {
     "data": {
      "image/png": "[encoded data removed]",
      "text/plain": [
       "<Figure size 504x288 with 2 Axes>"
      ]
     },
     "metadata": {},
     "output_type": "display_data"
    }
   ],
   "source": [
    "som.plot()"
   ]
  },
  {
   "cell_type": "markdown",
   "metadata": {},
   "source": [
    "## - Etiquetas"
   ]
  },
  {
   "cell_type": "code",
   "execution_count": 29,
   "metadata": {
    "scrolled": true
   },
   "outputs": [
    {
     "data": {
      "image/png": "[encoded data removed]",
      "text/plain": [
       "<Figure size 504x288 with 2 Axes>"
      ]
     },
     "metadata": {},
     "output_type": "display_data"
    }
   ],
   "source": [
    "labels = le.inverse_transform([0,1,2,3,4])\n",
    "som.plot(som_map=\"labeled\", ticklabels=labels )"
   ]
  },
  {
   "cell_type": "markdown",
   "metadata": {},
   "source": [
    "## Medida de Error"
   ]
  },
  {
   "cell_type": "markdown",
   "metadata": {},
   "source": [
    "### Error de cuantificación"
   ]
  },
  {
   "cell_type": "code",
   "execution_count": 23,
   "metadata": {
    "scrolled": true
   },
   "outputs": [
    {
     "data": {
      "text/plain": [
       "0.9604065396310214"
      ]
     },
     "execution_count": 23,
     "metadata": {},
     "output_type": "execute_result"
    }
   ],
   "source": [
    "som.quantization_error"
   ]
  },
  {
   "cell_type": "markdown",
   "metadata": {},
   "source": [
    "### Error Topológico"
   ]
  },
  {
   "cell_type": "code",
   "execution_count": 24,
   "metadata": {},
   "outputs": [
    {
     "data": {
      "text/plain": [
       "0.06157303370786517"
      ]
     },
     "execution_count": 24,
     "metadata": {},
     "output_type": "execute_result"
    }
   ],
   "source": [
    "som.topological_error"
   ]
  }
 ],
 "metadata": {
  "kernelspec": {
   "display_name": "Python 3",
   "language": "python",
   "name": "python3"
  },
  "language_info": {
   "codemirror_mode": {
    "name": "ipython",
    "version": 3
   },
   "file_extension": ".py",
   "mimetype": "text/x-python",
   "name": "python",
   "nbconvert_exporter": "python",
   "pygments_lexer": "ipython3",
   "version": "3.6.5"
  }
 },
 "nbformat": 4,
 "nbformat_minor": 2
}
