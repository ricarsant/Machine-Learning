{
 "cells": [
  {
   "cell_type": "markdown",
   "metadata": {},
   "source": [
    "# Revision General Data\n",
    "\n",
    "### Machine Learning Technics\n",
    "\n",
    "* Juan Camilo \n",
    "* Diego \n",
    "* Ricardo"
   ]
  },
  {
   "cell_type": "code",
   "execution_count": 1,
   "metadata": {},
   "outputs": [],
   "source": [
    "import pandas as pd\n",
    "import numpy as np\n",
    "import matplotlib.pyplot as plt\n",
    "import matplotlib.image as mpimg\n",
    "import cv2\n",
    "\n",
    "import os\n",
    "from mytimer import my_timer\n",
    "from sklearn.metrics import classification_report\n",
    "from sklearn.model_selection import train_test_split\n",
    "from sklearn.metrics import confusion_matrix\n",
    "from sklearn.utils.multiclass import unique_labels"
   ]
  },
  {
   "cell_type": "code",
   "execution_count": 2,
   "metadata": {},
   "outputs": [],
   "source": [
    "def make_report(estimator,X_test,y_test, classes):\n",
    "    y_pred = estimator.predict(X_test)\n",
    "    plot_confusion_matrix(y_test, y_pred, classes)\n",
    "    report = classification_report(y_test,y_pred,output_dict=True)\n",
    "    df_report = pd.DataFrame(report).transpose()\n",
    "    df_report[\"accuracy\"] = estimator.score(X_test, y_test)\n",
    "    return df_report.iloc[:5,:]\n",
    "\n",
    "def plot_matriz_confusion(y_test, y_pred):\n",
    "    array = confusion_matrix(y_test, y_pred)\n",
    "    filas = array.shape[0]\n",
    "    colunas = array.shape[1]\n",
    "    df_cm = pd.DataFrame(array, index = [i for i in range(filas)],\n",
    "                  columns = [i for i in range(colunas)])\n",
    "    plt.figure(figsize = (8,4))\n",
    "    sns.set(font_scale=1.2)\n",
    "    sns.heatmap(df_cm, annot=True,fmt='g')\n",
    "\n",
    "def plot_confusion_matrix(y_true, y_pred, classes,\n",
    "                          normalize=False,\n",
    "                          title=None,\n",
    "                          cmap=plt.cm.Blues):\n",
    "    \"\"\"\n",
    "    This function prints and plots the confusion matrix.\n",
    "    Normalization can be applied by setting `normalize=True`.\n",
    "    \n",
    "    \n",
    "    parameters\n",
    "    ----------\n",
    "    \n",
    "    y_true:\n",
    "    \n",
    "    y_pred:\n",
    "    \n",
    "    classes: np.array()\n",
    "    \n",
    "    \"\"\"\n",
    "    if not title:\n",
    "        if normalize:\n",
    "            title = 'Normalized confusion matrix'\n",
    "        else:\n",
    "            title = 'Confusion matrix, without normalization'\n",
    "\n",
    "    # Compute confusion matrix\n",
    "    cm = confusion_matrix(y_true, y_pred)\n",
    "    # Only use the labels that appear in the data\n",
    "    classes = classes[unique_labels(y_true, y_pred)]\n",
    "    if normalize:\n",
    "        cm = cm.astype('float') / cm.sum(axis=1)[:, np.newaxis]\n",
    "        print(\"Normalized confusion matrix\")\n",
    "    else:\n",
    "        print('Confusion matrix, without normalization')\n",
    "\n",
    "    fig, ax = plt.subplots(figsize=(8,6))\n",
    "    im = ax.imshow(cm, interpolation='nearest', cmap=cmap)\n",
    "    ax.figure.colorbar(im, ax=ax)\n",
    "    # We want to show all ticks...\n",
    "    ax.set(xticks=np.arange(cm.shape[1]),\n",
    "           yticks=np.arange(cm.shape[0]),\n",
    "           # ... and label them with the respective list entries\n",
    "           xticklabels=classes, yticklabels=classes,\n",
    "           title=title,\n",
    "           ylabel='True label',\n",
    "           xlabel='Predicted label')\n",
    "\n",
    "    # Rotate the tick labels and set their alignment.\n",
    "    plt.setp(ax.get_xticklabels(), rotation=45, ha=\"right\",\n",
    "             rotation_mode=\"anchor\")\n",
    "\n",
    "    # Loop over data dimensions and create text annotations.\n",
    "    fmt = '.2f' if normalize else 'd'\n",
    "    thresh = cm.max() / 2.\n",
    "    for i in range(cm.shape[0]):\n",
    "        for j in range(cm.shape[1]):\n",
    "            ax.text(j, i, format(cm[i, j], fmt),\n",
    "                    ha=\"center\", va=\"center\",\n",
    "                    color=\"white\" if cm[i, j] > thresh else \"black\")\n",
    "    fig.tight_layout()\n",
    "    return ax"
   ]
  },
  {
   "cell_type": "markdown",
   "metadata": {},
   "source": [
    "## 1. Exploración de Imagenes"
   ]
  },
  {
   "cell_type": "markdown",
   "metadata": {},
   "source": [
    "#### - Lectura Imagen ejemplo"
   ]
  },
  {
   "cell_type": "code",
   "execution_count": 3,
   "metadata": {},
   "outputs": [],
   "source": [
    "img_rgb = cv2.imread(\"./data/trainingset/0/img_1.jpg\")\n",
    "img_gray = mpimg.imread('./data/trainingset/0/img_1.jpg')"
   ]
  },
  {
   "cell_type": "code",
   "execution_count": 4,
   "metadata": {},
   "outputs": [
    {
     "data": {
      "text/plain": [
       "(28, 28)"
      ]
     },
     "execution_count": 4,
     "metadata": {},
     "output_type": "execute_result"
    }
   ],
   "source": [
    "img_gray.shape"
   ]
  },
  {
   "cell_type": "markdown",
   "metadata": {},
   "source": [
    "#### - RGB & Gray Scale"
   ]
  },
  {
   "cell_type": "code",
   "execution_count": 5,
   "metadata": {
    "scrolled": false
   },
   "outputs": [
    {
     "data": {
      "image/png": "[encoded data removed]",
      "text/plain": [
       "<Figure size 432x288 with 2 Axes>"
      ]
     },
     "metadata": {},
     "output_type": "display_data"
    }
   ],
   "source": [
    "plt.subplot(121)\n",
    "plt.imshow(img_rgb);\n",
    "plt.title(f\"RGB {img_rgb.shape}\");\n",
    "\n",
    "plt.subplot(122)\n",
    "plt.imshow(img_gray);\n",
    "plt.title(f\"Gray Scale {img_gray.shape}\");"
   ]
  },
  {
   "cell_type": "markdown",
   "metadata": {},
   "source": [
    "#### - Visualización vectorial"
   ]
  },
  {
   "cell_type": "code",
   "execution_count": 6,
   "metadata": {},
   "outputs": [
    {
     "name": "stdout",
     "output_type": "stream",
     "text": [
      "Dimensión de la Imagen a escala de grises : \t (28, 28)\n",
      "Imagen redimensionada (ojetivo) : \t\t (1, 784)\n"
     ]
    }
   ],
   "source": [
    "print(\"Dimensión de la Imagen a escala de grises : \\t\",img_gray.shape)\n",
    "print(\"Imagen redimensionada (ojetivo) : \\t\\t\",img_gray.reshape(1,28*28).shape)"
   ]
  },
  {
   "cell_type": "markdown",
   "metadata": {},
   "source": [
    "## 2. Carga de imagenes y Vectorización \n",
    "\n",
    "En esta etapa nos centramos en la carga de las imagenes y construcción del la matrix de valores a partir de las mismas."
   ]
  },
  {
   "cell_type": "code",
   "execution_count": 7,
   "metadata": {},
   "outputs": [],
   "source": [
    "join = lambda x,y : os.path.join(x,y)\n",
    "\n",
    "def _vectorizar(img_file):\n",
    "    \"\"\"\n",
    "    Este metodo permite cargar una imagen y vectorizarla \n",
    "    completamente a partir de su dimensión original\n",
    "    \"\"\"\n",
    "    matrix_img = mpimg.imread(img_file)\n",
    "    in_shape = img_gray.shape\n",
    "    out_shape = in_shape[0]*in_shape[1]\n",
    "    return matrix_img.reshape(1,out_shape)[0]"
   ]
  },
  {
   "cell_type": "code",
   "execution_count": 8,
   "metadata": {},
   "outputs": [],
   "source": [
    "def X_y(path, sample = None, verbose = False):\n",
    "    \"\"\"\n",
    "    Este metodo recibe como parametro el directorio donde se encuentra el conjunto de dato, \n",
    "    Es importante mencionar que la disposición de la información en el sistema de administración\n",
    "    de archivos debe contener las carpectas con los diferentes datos y el nombre de la carpeta\n",
    "    debe specificar la etiqueta asociada al conjunto de archivos que esta misma contiene.\n",
    "    \n",
    "    parametros:\n",
    "    -----------\n",
    "    \n",
    "    path: str\n",
    "        Ruta del directorio que contiene la información bajo la estructura especificada anteriormente.\n",
    "        \n",
    "        Ejemplo:  path = /data/\n",
    "\n",
    "        /data/\n",
    "            1/\n",
    "                imagen_1.bmp\n",
    "                imagen_2.bmp\n",
    "            2/\n",
    "                imagen_3.bmp\n",
    "                imagen_4.bmp\n",
    "    \n",
    "    sample: int \n",
    "        Número de muestas tomadas por directrio.\n",
    "        \n",
    "    verbose: bool\n",
    "        Especifica si se desea observar los tiempos y avance del proceso por medio de una instancia de\n",
    "        la clase \"mytimer.my_timer\".\n",
    "    \"\"\"\n",
    "    generador_dirs = os.walk(path)\n",
    "    sub_dirs_num = [{\"dir\":join(path,sdir),\"y\":int(sdir)} for sdir in next(generador_dirs)[1]]\n",
    "    timer = my_timer(nombre=\"Lectura de directorios\",total_iter=sub_dirs_num,verbose=verbose)\n",
    "    \n",
    "    X = []\n",
    "    y = []\n",
    "    \n",
    "    for dic in sub_dirs_num:\n",
    "        dir_img = dic[\"dir\"]\n",
    "        names_imgs = next(os.walk(dir_img))[2]\n",
    "        if sample:\n",
    "            names_imgs = names_imgs[:sample]\n",
    "\n",
    "        _y = dic[\"y\"]\n",
    "        _X = [_vectorizar(join(dir_img,name_img)) for name_img in names_imgs]\n",
    "\n",
    "        X += _X\n",
    "        y += [_y]*len(_X)\n",
    "        timer.iter(_y)\n",
    "    timer.end()\n",
    "\n",
    "    return np.array(X), np.array(y)"
   ]
  },
  {
   "cell_type": "code",
   "execution_count": 9,
   "metadata": {
    "scrolled": true
   },
   "outputs": [
    {
     "name": "stdout",
     "output_type": "stream",
     "text": [
      "Iniciando el proceso Lectura de directorios...\n",
      "Numero de iteraciones 10\n",
      "[***---------------------------] | 10.00% : Tiempo:5.26s \t || 9\n",
      "[******------------------------] | 20.00% : Tiempo:9.96s \t || 0\n",
      "[*********---------------------] | 30.00% : Tiempo:14.73s \t || 7\n",
      "[************------------------] | 40.00% : Tiempo:19.26s \t || 6\n",
      "[***************---------------] | 50.00% : Tiempo:24.70s \t || 1\n",
      "[******************------------] | 60.00% : Tiempo:29.13s \t || 8\n",
      "[*********************---------] | 70.00% : Tiempo:35.39s \t || 4\n",
      "[************************------] | 80.00% : Tiempo:40.93s \t || 3\n",
      "[***************************---] | 90.00% : Tiempo:45.48s \t || 2\n",
      "[******************************] | 100.00% : Tiempo:49.98s \t || 5\n",
      "Total iteraciones para el proceso Lectura de directorios fue de: 10\n",
      "Tiempo total: 49.975s\n",
      "Tiempo medio: 4.997526288032532s\n"
     ]
    }
   ],
   "source": [
    "X, y = X_y(\"./data/trainingset/\",verbose=True)"
   ]
  },
  {
   "cell_type": "markdown",
   "metadata": {},
   "source": [
    "#### Dimensión del conjunto de Datos"
   ]
  },
  {
   "cell_type": "code",
   "execution_count": 10,
   "metadata": {},
   "outputs": [
    {
     "data": {
      "text/plain": [
       "(42000, 784)"
      ]
     },
     "execution_count": 10,
     "metadata": {},
     "output_type": "execute_result"
    }
   ],
   "source": [
    "X.shape"
   ]
  },
  {
   "cell_type": "markdown",
   "metadata": {},
   "source": [
    "#### Datos de Entrada"
   ]
  },
  {
   "cell_type": "code",
   "execution_count": 11,
   "metadata": {},
   "outputs": [
    {
     "data": {
      "text/plain": [
       "array([[0, 0, 0, ..., 0, 0, 0],\n",
       "       [0, 0, 3, ..., 0, 0, 0],\n",
       "       [0, 7, 0, ..., 0, 0, 0],\n",
       "       ...,\n",
       "       [0, 0, 0, ..., 0, 0, 0],\n",
       "       [0, 0, 0, ..., 0, 0, 0],\n",
       "       [0, 0, 0, ..., 0, 0, 0]], dtype=uint8)"
      ]
     },
     "execution_count": 11,
     "metadata": {},
     "output_type": "execute_result"
    }
   ],
   "source": [
    "X"
   ]
  },
  {
   "cell_type": "markdown",
   "metadata": {},
   "source": [
    "#### Datos de Salida"
   ]
  },
  {
   "cell_type": "code",
   "execution_count": 12,
   "metadata": {},
   "outputs": [
    {
     "data": {
      "text/plain": [
       "array([9, 9, 9, ..., 5, 5, 5])"
      ]
     },
     "execution_count": 12,
     "metadata": {},
     "output_type": "execute_result"
    }
   ],
   "source": [
    "y"
   ]
  },
  {
   "cell_type": "markdown",
   "metadata": {},
   "source": [
    "### IMPORTANTE: BUG\n",
    "\n",
    "Ya que el conjunto de test no se encuentra etiquetado, es necesario tomar algunas de las imagenes del conjunto de entrenamiento preciamente cargado. \n",
    "\n",
    "<b>Consultar con la profesora o el monitor !!!!</b>"
   ]
  },
  {
   "cell_type": "code",
   "execution_count": 13,
   "metadata": {},
   "outputs": [],
   "source": [
    "from sklearn.model_selection import train_test_split"
   ]
  },
  {
   "cell_type": "code",
   "execution_count": 14,
   "metadata": {},
   "outputs": [],
   "source": [
    "X_train, X_test, y_train, y_test = train_test_split(X, y, test_size=0.2, stratify = y ,random_state=42)"
   ]
  },
  {
   "cell_type": "code",
   "execution_count": 15,
   "metadata": {},
   "outputs": [
    {
     "data": {
      "image/png": "[encoded data removed]",
      "text/plain": [
       "<Figure size 432x288 with 1 Axes>"
      ]
     },
     "metadata": {},
     "output_type": "display_data"
    }
   ],
   "source": [
    "strain = pd.Series(y_train).value_counts()\n",
    "stest  = pd.Series(y_test).value_counts()\n",
    "pd.DataFrame({\"Train\":strain,\"Test\":stest}).plot(kind=\"bar\");"
   ]
  },
  {
   "cell_type": "markdown",
   "metadata": {},
   "source": [
    "### Nota:\n",
    "\n",
    "Se observa que el conjunto de datos presenta un desbalance entre las clases, sin embargo se considera apropiado para tabajar directamente con el, sin la implementación de nunguna estratega de balanceo (Como el Algoritmo SMOTE)"
   ]
  },
  {
   "cell_type": "markdown",
   "metadata": {},
   "source": [
    "## 3. Preparación de los datos"
   ]
  },
  {
   "cell_type": "code",
   "execution_count": 16,
   "metadata": {},
   "outputs": [],
   "source": [
    "from sklearn.preprocessing import MinMaxScaler"
   ]
  },
  {
   "cell_type": "markdown",
   "metadata": {},
   "source": [
    "#### - Escalador  lineal"
   ]
  },
  {
   "cell_type": "code",
   "execution_count": 17,
   "metadata": {},
   "outputs": [],
   "source": [
    "scaler = MinMaxScaler(copy=True)\n",
    "X_train = scaler.fit_transform(X_train.astype(np.float64))\n",
    "\n",
    "#X_train /= 255\n",
    "#X_test /= 255"
   ]
  },
  {
   "cell_type": "markdown",
   "metadata": {},
   "source": [
    "## 4. ANN"
   ]
  },
  {
   "cell_type": "code",
   "execution_count": 57,
   "metadata": {},
   "outputs": [],
   "source": [
    "import keras\n",
    "from keras.models import Sequential\n",
    "from keras.layers import Dense\n",
    "from keras.layers import Dropout\n",
    "\n",
    "from keras.utils import to_categorical\n",
    "from sklearn.metrics import mean_squared_error\n",
    "from numpy import argmax"
   ]
  },
  {
   "cell_type": "code",
   "execution_count": 19,
   "metadata": {},
   "outputs": [],
   "source": [
    "y_train = to_categorical(y_train)"
   ]
  },
  {
   "cell_type": "markdown",
   "metadata": {},
   "source": [
    "#### Classifier"
   ]
  },
  {
   "cell_type": "code",
   "execution_count": 20,
   "metadata": {},
   "outputs": [],
   "source": [
    "classifier = Sequential()\n",
    "classifier.add(Dense(units=25, activation=\"relu\",input_shape=(784,)))\n",
    "classifier.add(Dense(units=15, activation=\"relu\"))\n",
    "classifier.add(Dense(units=10, activation=\"softmax\"))\n",
    "classifier.compile(optimizer=\"adam\",loss=\"categorical_crossentropy\", metrics=[\"categorical_accuracy\"])"
   ]
  },
  {
   "cell_type": "code",
   "execution_count": 63,
   "metadata": {},
   "outputs": [
    {
     "name": "stdout",
     "output_type": "stream",
     "text": [
      "Epoch 1/10\n",
      "33600/33600 [==============================] - 12s 342us/step - loss: 0.4020 - categorical_accuracy: 0.8845\n",
      "Epoch 2/10\n",
      "33600/33600 [==============================] - 10s 288us/step - loss: 0.2105 - categorical_accuracy: 0.9358\n",
      "Epoch 3/10\n",
      "33600/33600 [==============================] - 11s 317us/step - loss: 0.1657 - categorical_accuracy: 0.9499\n",
      "Epoch 4/10\n",
      "33600/33600 [==============================] - 11s 316us/step - loss: 0.1404 - categorical_accuracy: 0.9571\n",
      "Epoch 5/10\n",
      "33600/33600 [==============================] - 11s 328us/step - loss: 0.1239 - categorical_accuracy: 0.9619\n",
      "Epoch 6/10\n",
      "33600/33600 [==============================] - 11s 339us/step - loss: 0.1097 - categorical_accuracy: 0.9652\n",
      "Epoch 7/10\n",
      "33600/33600 [==============================] - 11s 321us/step - loss: 0.0997 - categorical_accuracy: 0.9687\n",
      "Epoch 8/10\n",
      "33600/33600 [==============================] - 11s 325us/step - loss: 0.0918 - categorical_accuracy: 0.9710\n",
      "Epoch 9/10\n",
      "33600/33600 [==============================] - 9s 281us/step - loss: 0.0848 - categorical_accuracy: 0.9734\n",
      "Epoch 10/10\n",
      "33600/33600 [==============================] - 12s 351us/step - loss: 0.0771 - categorical_accuracy: 0.9755\n"
     ]
    }
   ],
   "source": [
    "classifier.fit(X_train, y_train, epochs=10 , batch_size=10, verbose=1);"
   ]
  },
  {
   "cell_type": "code",
   "execution_count": 77,
   "metadata": {},
   "outputs": [
    {
     "data": {
      "text/plain": [
       "<keras.engine.sequential.Sequential at 0x1a3516eb70>"
      ]
     },
     "execution_count": 77,
     "metadata": {},
     "output_type": "execute_result"
    }
   ],
   "source": [
    "classifier"
   ]
  },
  {
   "cell_type": "markdown",
   "metadata": {},
   "source": [
    "#### Predicciones"
   ]
  },
  {
   "cell_type": "code",
   "execution_count": 68,
   "metadata": {},
   "outputs": [],
   "source": [
    "y_pred = classifier.predict(X_test)"
   ]
  },
  {
   "cell_type": "markdown",
   "metadata": {},
   "source": [
    "#### Tranformación : [ [ ] ] -> [ ]"
   ]
  },
  {
   "cell_type": "code",
   "execution_count": 57,
   "metadata": {},
   "outputs": [],
   "source": [
    "y_pred = argmax(y_pred, axis=1)"
   ]
  },
  {
   "cell_type": "markdown",
   "metadata": {},
   "source": [
    "### Matriz de Confusión"
   ]
  },
  {
   "cell_type": "code",
   "execution_count": 58,
   "metadata": {
    "scrolled": false
   },
   "outputs": [
    {
     "name": "stdout",
     "output_type": "stream",
     "text": [
      "Confusion matrix, without normalization\n"
     ]
    },
    {
     "data": {
      "image/png": "[encoded data removed]",
      "text/plain": [
       "<Figure size 576x432 with 2 Axes>"
      ]
     },
     "metadata": {},
     "output_type": "display_data"
    }
   ],
   "source": [
    "plot_confusion_matrix(y_pred=y_pred, y_true=y_test, classes=np.array(list(range(10))));"
   ]
  },
  {
   "cell_type": "markdown",
   "metadata": {},
   "source": [
    "### IMPORTANTE: \n",
    "\n",
    "Se puede observar claramente que números con morfologia similar tienden clasisficaciones erroneas por parte de la red neuronal. Es claro que la mayor cantidad de clasificaciones erroneas se encuentran entre la clase \"5\" y la \"3\"."
   ]
  },
  {
   "cell_type": "markdown",
   "metadata": {},
   "source": [
    "-----"
   ]
  },
  {
   "cell_type": "markdown",
   "metadata": {},
   "source": [
    "## Entonación de Parametros\n",
    "\n",
    "[grid example](https://www.kaggle.com/shujunge/gridsearchcv-with-keras)"
   ]
  },
  {
   "cell_type": "code",
   "execution_count": 21,
   "metadata": {},
   "outputs": [],
   "source": [
    "from keras.wrappers.scikit_learn import KerasClassifier\n",
    "from sklearn.model_selection import GridSearchCV"
   ]
  },
  {
   "cell_type": "markdown",
   "metadata": {},
   "source": [
    "### Definición de método para generación de ANN"
   ]
  },
  {
   "cell_type": "code",
   "execution_count": 58,
   "metadata": {},
   "outputs": [],
   "source": [
    "def myANN(optimizer=\"adam\",loss=\"categorical_crossentropy\", metrics=[\"accuracy\"],\n",
    "          kernel_initializer=\"glorot_uniform\",\n",
    "          units_hiden_layeras = (25,15)):\n",
    "    \"\"\"\n",
    "    Metodo apra la contruicción de una ANN bajo los parametos de entrada para el conjunto de datos\n",
    "    de caracteres manuscritos.\n",
    "    \n",
    "    @IMPORTANTE: Método Altamente Harcodeado al problema!\n",
    "    \"\"\"\n",
    "    classifier = Sequential()\n",
    "    classifier.add(Dense(units=units_hiden_layeras[0], activation=\"relu\",input_shape=(784,)))\n",
    "    classifier.add(Dropout(0.2))\n",
    "    classifier.add(Dense(units=units_hiden_layeras[1], activation=\"relu\"))\n",
    "    classifier.add(Dense(units=10, activation=\"softmax\"))\n",
    "    classifier.compile(optimizer=optimizer,loss=loss, metrics=metrics)\n",
    "    return classifier"
   ]
  },
  {
   "cell_type": "markdown",
   "metadata": {},
   "source": [
    "### Dicciónario params_grid"
   ]
  },
  {
   "cell_type": "code",
   "execution_count": 61,
   "metadata": {
    "scrolled": true
   },
   "outputs": [
    {
     "data": {
      "text/plain": [
       "{'optimizer': ['adam'],\n",
       " 'kernel_initializer': ['glorot_uniform'],\n",
       " 'units_hiden_layeras': [(25, 15), (50, 25), (100, 50)],\n",
       " 'epochs': array([10]),\n",
       " 'batch_size': array([20])}"
      ]
     },
     "execution_count": 61,
     "metadata": {},
     "output_type": "execute_result"
    }
   ],
   "source": [
    "optimizers = ['adam']\n",
    "kernel_initializer = ['glorot_uniform']\n",
    "epochs = np.array([10])\n",
    "batches = np.array([20])\n",
    "units_hiden_layeras = [(25,15),(50,25),(100,50)]\n",
    "param_grid = dict(optimizer=optimizers, kernel_initializer=kernel_initializer,\n",
    "                  units_hiden_layeras = units_hiden_layeras,\n",
    "                  epochs=epochs, batch_size=batches)\n",
    "param_grid"
   ]
  },
  {
   "cell_type": "markdown",
   "metadata": {},
   "source": [
    "### Wrapper Keras-Sklear"
   ]
  },
  {
   "cell_type": "code",
   "execution_count": 62,
   "metadata": {
    "scrolled": false
   },
   "outputs": [
    {
     "name": "stdout",
     "output_type": "stream",
     "text": [
      "Fitting 5 folds for each of 3 candidates, totalling 15 fits\n"
     ]
    },
    {
     "name": "stderr",
     "output_type": "stream",
     "text": [
      "[Parallel(n_jobs=-1)]: Using backend LokyBackend with 4 concurrent workers.\n",
      "[Parallel(n_jobs=-1)]: Done  15 out of  15 | elapsed:  9.1min finished\n"
     ]
    },
    {
     "name": "stdout",
     "output_type": "stream",
     "text": [
      "Epoch 1/10\n",
      "33600/33600 [==============================] - 14s 416us/step - loss: 0.3605 - acc: 0.8914\n",
      "Epoch 2/10\n",
      "33600/33600 [==============================] - 8s 248us/step - loss: 0.1750 - acc: 0.9472\n",
      "Epoch 3/10\n",
      "33600/33600 [==============================] - 9s 261us/step - loss: 0.1351 - acc: 0.9567\n",
      "Epoch 4/10\n",
      "33600/33600 [==============================] - 10s 305us/step - loss: 0.1079 - acc: 0.9653\n",
      "Epoch 5/10\n",
      "33600/33600 [==============================] - 9s 270us/step - loss: 0.0959 - acc: 0.9690\n",
      "Epoch 6/10\n",
      "33600/33600 [==============================] - 9s 271us/step - loss: 0.0850 - acc: 0.9723\n",
      "Epoch 7/10\n",
      "33600/33600 [==============================] - 9s 260us/step - loss: 0.0727 - acc: 0.9765\n",
      "Epoch 8/10\n",
      "33600/33600 [==============================] - 9s 259us/step - loss: 0.0690 - acc: 0.9772\n",
      "Epoch 9/10\n",
      "33600/33600 [==============================] - 9s 259us/step - loss: 0.0611 - acc: 0.9801\n",
      "Epoch 10/10\n",
      "33600/33600 [==============================] - 9s 264us/step - loss: 0.0591 - acc: 0.9804\n"
     ]
    }
   ],
   "source": [
    "model = KerasClassifier(build_fn=myANN)\n",
    "grid = GridSearchCV(estimator=model, param_grid=param_grid, cv =5,n_jobs=-1,verbose=2)\n",
    "grid_result = grid.fit(X_train, y_train)"
   ]
  },
  {
   "cell_type": "markdown",
   "metadata": {},
   "source": [
    "## Best Estimator"
   ]
  },
  {
   "cell_type": "code",
   "execution_count": 63,
   "metadata": {},
   "outputs": [
    {
     "name": "stdout",
     "output_type": "stream",
     "text": [
      "Best cross-validation accuracy: 0.97\n",
      "8400/8400 [==============================] - 3s 374us/step\n",
      "Best set score: 0.97\n",
      "Best parameters:  {'batch_size': 20, 'epochs': 10, 'kernel_initializer': 'glorot_uniform', 'optimizer': 'adam', 'units_hiden_layeras': (100, 50)}\n"
     ]
    }
   ],
   "source": [
    "print(\"Best cross-validation accuracy: {:.2f}\".format(grid.best_score_)) \n",
    "print(\"Best set score: {:.2f}\".format(grid.score(X_test, y_test))) \n",
    "print(\"Best parameters: \", grid.best_params_)"
   ]
  },
  {
   "cell_type": "code",
   "execution_count": 72,
   "metadata": {},
   "outputs": [],
   "source": [
    "y_pred = grid.best_estimator_.predict(X_test)"
   ]
  },
  {
   "cell_type": "markdown",
   "metadata": {},
   "source": [
    "### Matriz de Confusión"
   ]
  },
  {
   "cell_type": "code",
   "execution_count": 74,
   "metadata": {},
   "outputs": [
    {
     "name": "stdout",
     "output_type": "stream",
     "text": [
      "Confusion matrix, without normalization\n"
     ]
    },
    {
     "data": {
      "image/png": "[encoded data removed]",
      "text/plain": [
       "<Figure size 576x432 with 2 Axes>"
      ]
     },
     "metadata": {},
     "output_type": "display_data"
    }
   ],
   "source": [
    "plot_confusion_matrix(y_pred=y_pred, y_true=y_test, classes=np.array(list(range(10))));"
   ]
  },
  {
   "cell_type": "code",
   "execution_count": 76,
   "metadata": {},
   "outputs": [
    {
     "data": {
      "text/plain": [
       "<keras.wrappers.scikit_learn.KerasClassifier at 0x1a35270438>"
      ]
     },
     "execution_count": 76,
     "metadata": {},
     "output_type": "execute_result"
    }
   ],
   "source": [
    "grid.best_estimator_"
   ]
  },
  {
   "cell_type": "markdown",
   "metadata": {},
   "source": [
    "### IMPORTANTE: \n",
    "\n",
    "Se puede observar una alta exactitud del modelo ANN sobre el conjunto de datos de Test. Es claro que la exactitud del modelo sobre el conjunto de entrenamiento por medio de validación cruzada no se diferencia significativamente de la respuesta encontrada sobre el conjunto de prueba; esto suguiere una buena partición de la data y un rendimiento adecuado del modelo."
   ]
  },
  {
   "cell_type": "code",
   "execution_count": null,
   "metadata": {},
   "outputs": [],
   "source": []
  }
 ],
 "metadata": {
  "kernelspec": {
   "display_name": "Python 3",
   "language": "python",
   "name": "python3"
  },
  "language_info": {
   "codemirror_mode": {
    "name": "ipython",
    "version": 3
   },
   "file_extension": ".py",
   "mimetype": "text/x-python",
   "name": "python",
   "nbconvert_exporter": "python",
   "pygments_lexer": "ipython3",
   "version": "3.7.3"
  }
 },
 "nbformat": 4,
 "nbformat_minor": 2
}
